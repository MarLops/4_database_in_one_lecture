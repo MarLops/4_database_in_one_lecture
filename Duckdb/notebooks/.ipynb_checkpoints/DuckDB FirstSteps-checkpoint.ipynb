{
 "cells": [
  {
   "cell_type": "markdown",
   "id": "0033285f-7b1c-464f-9551-0baf8c9f4ec4",
   "metadata": {},
   "source": [
    "## Duckdb - Begginer"
   ]
  },
  {
   "cell_type": "code",
   "execution_count": 2,
   "id": "9691e6c4-e2b3-481f-844b-ee447e7d922f",
   "metadata": {},
   "outputs": [],
   "source": [
    "import duckdb\n",
    "import pandas "
   ]
  },
  {
   "cell_type": "markdown",
   "id": "361416a1-6304-4570-8d1f-1654e8522df8",
   "metadata": {},
   "source": [
    "### Before start, let check if it is working"
   ]
  },
  {
   "cell_type": "code",
   "execution_count": 3,
   "id": "b9aec0b8-0ba9-455c-94e7-37f7569428d6",
   "metadata": {},
   "outputs": [
    {
     "name": "stdout",
     "output_type": "stream",
     "text": [
      "┌───────┐\n",
      "│  42   │\n",
      "│ int32 │\n",
      "├───────┤\n",
      "│    42 │\n",
      "└───────┘\n",
      "\n"
     ]
    }
   ],
   "source": [
    "duckdb.sql(\"SELECT 42\").show()"
   ]
  },
  {
   "cell_type": "markdown",
   "id": "46fa2f93-1727-45ab-b634-1c3c2399607a",
   "metadata": {},
   "source": [
    "## First step - READ\n",
    "\n",
    "Duckdb allow to read a list of diverse sources, include pandas dataframe or simple variable python"
   ]
  },
  {
   "cell_type": "code",
   "execution_count": 6,
   "id": "d5452e93-9b14-416b-9b47-c407b1974db8",
   "metadata": {},
   "outputs": [
    {
     "data": {
      "text/plain": [
       "┌───────┬────────────┬──────────┬─────────────┬─────────┬─────────┬─────────┬──────────┬─────────────┬───────────┬───────────┬───────────┬──────────────┬────────────┬────────────┬──────────┬────────────┬─────────────┬─────────────┬───────────┬──────────────┬───────────┬──────────┬─────────────┬─────────────┬────────────┬────────────┬───────────┬───────────┬────────────┬──────────┬──────────┬──────────────┬──────────────┬────────────┬──────────────┬────────────┬───────────┬─────────────┬─────────┬───────────┬────────────┬────────────┬──────────┬──────────┬──────────────┬───────────┬──────────────┬──────────────┬──────────┬──────────┬──────────────┬──────────────┬─────────────┬──────────────┬────────────┬────────────┬─────────────┬────────────┬─────────────┬──────────────┬────────────┬────────────┬────────────┬────────────┬────────────┬────────────┬─────────────┬───────────────┬───────────┬─────────────┬──────────┬─────────┬─────────┬─────────────┬─────────┬────────┬────────┬──────────┬───────────────┬───────────┐\n",
       "│  Id   │ MSSubClass │ MSZoning │ LotFrontage │ LotArea │ Street  │  Alley  │ LotShape │ LandContour │ Utilities │ LotConfig │ LandSlope │ Neighborhood │ Condition1 │ Condition2 │ BldgType │ HouseStyle │ OverallQual │ OverallCond │ YearBuilt │ YearRemodAdd │ RoofStyle │ RoofMatl │ Exterior1st │ Exterior2nd │ MasVnrType │ MasVnrArea │ ExterQual │ ExterCond │ Foundation │ BsmtQual │ BsmtCond │ BsmtExposure │ BsmtFinType1 │ BsmtFinSF1 │ BsmtFinType2 │ BsmtFinSF2 │ BsmtUnfSF │ TotalBsmtSF │ Heating │ HeatingQC │ CentralAir │ Electrical │ 1stFlrSF │ 2ndFlrSF │ LowQualFinSF │ GrLivArea │ BsmtFullBath │ BsmtHalfBath │ FullBath │ HalfBath │ BedroomAbvGr │ KitchenAbvGr │ KitchenQual │ TotRmsAbvGrd │ Functional │ Fireplaces │ FireplaceQu │ GarageType │ GarageYrBlt │ GarageFinish │ GarageCars │ GarageArea │ GarageQual │ GarageCond │ PavedDrive │ WoodDeckSF │ OpenPorchSF │ EnclosedPorch │ 3SsnPorch │ ScreenPorch │ PoolArea │ PoolQC  │  Fence  │ MiscFeature │ MiscVal │ MoSold │ YrSold │ SaleType │ SaleCondition │ SalePrice │\n",
       "│ int64 │   int64    │ varchar  │   varchar   │  int64  │ varchar │ varchar │ varchar  │   varchar   │  varchar  │  varchar  │  varchar  │   varchar    │  varchar   │  varchar   │ varchar  │  varchar   │    int64    │    int64    │   int64   │    int64     │  varchar  │ varchar  │   varchar   │   varchar   │  varchar   │  varchar   │  varchar  │  varchar  │  varchar   │ varchar  │ varchar  │   varchar    │   varchar    │   int64    │   varchar    │   int64    │   int64   │    int64    │ varchar │  varchar  │  varchar   │  varchar   │  int64   │  int64   │    int64     │   int64   │    int64     │    int64     │  int64   │  int64   │    int64     │    int64     │   varchar   │    int64     │  varchar   │   int64    │   varchar   │  varchar   │   varchar   │   varchar    │   int64    │   int64    │  varchar   │  varchar   │  varchar   │   int64    │    int64    │     int64     │   int64   │    int64    │  int64   │ varchar │ varchar │   varchar   │  int64  │ int64  │ int64  │ varchar  │    varchar    │   int64   │\n",
       "├───────┼────────────┼──────────┼─────────────┼─────────┼─────────┼─────────┼──────────┼─────────────┼───────────┼───────────┼───────────┼──────────────┼────────────┼────────────┼──────────┼────────────┼─────────────┼─────────────┼───────────┼──────────────┼───────────┼──────────┼─────────────┼─────────────┼────────────┼────────────┼───────────┼───────────┼────────────┼──────────┼──────────┼──────────────┼──────────────┼────────────┼──────────────┼────────────┼───────────┼─────────────┼─────────┼───────────┼────────────┼────────────┼──────────┼──────────┼──────────────┼───────────┼──────────────┼──────────────┼──────────┼──────────┼──────────────┼──────────────┼─────────────┼──────────────┼────────────┼────────────┼─────────────┼────────────┼─────────────┼──────────────┼────────────┼────────────┼────────────┼────────────┼────────────┼────────────┼─────────────┼───────────────┼───────────┼─────────────┼──────────┼─────────┼─────────┼─────────────┼─────────┼────────┼────────┼──────────┼───────────────┼───────────┤\n",
       "│     1 │         60 │ RL       │ 65          │    8450 │ Pave    │ NA      │ Reg      │ Lvl         │ AllPub    │ Inside    │ Gtl       │ CollgCr      │ Norm       │ Norm       │ 1Fam     │ 2Story     │           7 │           5 │      2003 │         2003 │ Gable     │ CompShg  │ VinylSd     │ VinylSd     │ BrkFace    │ 196        │ Gd        │ TA        │ PConc      │ Gd       │ TA       │ No           │ GLQ          │        706 │ Unf          │          0 │       150 │         856 │ GasA    │ Ex        │ Y          │ SBrkr      │      856 │      854 │            0 │      1710 │            1 │            0 │        2 │        1 │            3 │            1 │ Gd          │            8 │ Typ        │          0 │ NA          │ Attchd     │ 2003        │ RFn          │          2 │        548 │ TA         │ TA         │ Y          │          0 │          61 │             0 │         0 │           0 │        0 │ NA      │ NA      │ NA          │       0 │      2 │   2008 │ WD       │ Normal        │    208500 │\n",
       "│     2 │         20 │ RL       │ 80          │    9600 │ Pave    │ NA      │ Reg      │ Lvl         │ AllPub    │ FR2       │ Gtl       │ Veenker      │ Feedr      │ Norm       │ 1Fam     │ 1Story     │           6 │           8 │      1976 │         1976 │ Gable     │ CompShg  │ MetalSd     │ MetalSd     │ None       │ 0          │ TA        │ TA        │ CBlock     │ Gd       │ TA       │ Gd           │ ALQ          │        978 │ Unf          │          0 │       284 │        1262 │ GasA    │ Ex        │ Y          │ SBrkr      │     1262 │        0 │            0 │      1262 │            0 │            1 │        2 │        0 │            3 │            1 │ TA          │            6 │ Typ        │          1 │ TA          │ Attchd     │ 1976        │ RFn          │          2 │        460 │ TA         │ TA         │ Y          │        298 │           0 │             0 │         0 │           0 │        0 │ NA      │ NA      │ NA          │       0 │      5 │   2007 │ WD       │ Normal        │    181500 │\n",
       "│     3 │         60 │ RL       │ 68          │   11250 │ Pave    │ NA      │ IR1      │ Lvl         │ AllPub    │ Inside    │ Gtl       │ CollgCr      │ Norm       │ Norm       │ 1Fam     │ 2Story     │           7 │           5 │      2001 │         2002 │ Gable     │ CompShg  │ VinylSd     │ VinylSd     │ BrkFace    │ 162        │ Gd        │ TA        │ PConc      │ Gd       │ TA       │ Mn           │ GLQ          │        486 │ Unf          │          0 │       434 │         920 │ GasA    │ Ex        │ Y          │ SBrkr      │      920 │      866 │            0 │      1786 │            1 │            0 │        2 │        1 │            3 │            1 │ Gd          │            6 │ Typ        │          1 │ TA          │ Attchd     │ 2001        │ RFn          │          2 │        608 │ TA         │ TA         │ Y          │          0 │          42 │             0 │         0 │           0 │        0 │ NA      │ NA      │ NA          │       0 │      9 │   2008 │ WD       │ Normal        │    223500 │\n",
       "│     4 │         70 │ RL       │ 60          │    9550 │ Pave    │ NA      │ IR1      │ Lvl         │ AllPub    │ Corner    │ Gtl       │ Crawfor      │ Norm       │ Norm       │ 1Fam     │ 2Story     │           7 │           5 │      1915 │         1970 │ Gable     │ CompShg  │ Wd Sdng     │ Wd Shng     │ None       │ 0          │ TA        │ TA        │ BrkTil     │ TA       │ Gd       │ No           │ ALQ          │        216 │ Unf          │          0 │       540 │         756 │ GasA    │ Gd        │ Y          │ SBrkr      │      961 │      756 │            0 │      1717 │            1 │            0 │        1 │        0 │            3 │            1 │ Gd          │            7 │ Typ        │          1 │ Gd          │ Detchd     │ 1998        │ Unf          │          3 │        642 │ TA         │ TA         │ Y          │          0 │          35 │           272 │         0 │           0 │        0 │ NA      │ NA      │ NA          │       0 │      2 │   2006 │ WD       │ Abnorml       │    140000 │\n",
       "│     5 │         60 │ RL       │ 84          │   14260 │ Pave    │ NA      │ IR1      │ Lvl         │ AllPub    │ FR2       │ Gtl       │ NoRidge      │ Norm       │ Norm       │ 1Fam     │ 2Story     │           8 │           5 │      2000 │         2000 │ Gable     │ CompShg  │ VinylSd     │ VinylSd     │ BrkFace    │ 350        │ Gd        │ TA        │ PConc      │ Gd       │ TA       │ Av           │ GLQ          │        655 │ Unf          │          0 │       490 │        1145 │ GasA    │ Ex        │ Y          │ SBrkr      │     1145 │     1053 │            0 │      2198 │            1 │            0 │        2 │        1 │            4 │            1 │ Gd          │            9 │ Typ        │          1 │ TA          │ Attchd     │ 2000        │ RFn          │          3 │        836 │ TA         │ TA         │ Y          │        192 │          84 │             0 │         0 │           0 │        0 │ NA      │ NA      │ NA          │       0 │     12 │   2008 │ WD       │ Normal        │    250000 │\n",
       "│     6 │         50 │ RL       │ 85          │   14115 │ Pave    │ NA      │ IR1      │ Lvl         │ AllPub    │ Inside    │ Gtl       │ Mitchel      │ Norm       │ Norm       │ 1Fam     │ 1.5Fin     │           5 │           5 │      1993 │         1995 │ Gable     │ CompShg  │ VinylSd     │ VinylSd     │ None       │ 0          │ TA        │ TA        │ Wood       │ Gd       │ TA       │ No           │ GLQ          │        732 │ Unf          │          0 │        64 │         796 │ GasA    │ Ex        │ Y          │ SBrkr      │      796 │      566 │            0 │      1362 │            1 │            0 │        1 │        1 │            1 │            1 │ TA          │            5 │ Typ        │          0 │ NA          │ Attchd     │ 1993        │ Unf          │          2 │        480 │ TA         │ TA         │ Y          │         40 │          30 │             0 │       320 │           0 │        0 │ NA      │ MnPrv   │ Shed        │     700 │     10 │   2009 │ WD       │ Normal        │    143000 │\n",
       "│     7 │         20 │ RL       │ 75          │   10084 │ Pave    │ NA      │ Reg      │ Lvl         │ AllPub    │ Inside    │ Gtl       │ Somerst      │ Norm       │ Norm       │ 1Fam     │ 1Story     │           8 │           5 │      2004 │         2005 │ Gable     │ CompShg  │ VinylSd     │ VinylSd     │ Stone      │ 186        │ Gd        │ TA        │ PConc      │ Ex       │ TA       │ Av           │ GLQ          │       1369 │ Unf          │          0 │       317 │        1686 │ GasA    │ Ex        │ Y          │ SBrkr      │     1694 │        0 │            0 │      1694 │            1 │            0 │        2 │        0 │            3 │            1 │ Gd          │            7 │ Typ        │          1 │ Gd          │ Attchd     │ 2004        │ RFn          │          2 │        636 │ TA         │ TA         │ Y          │        255 │          57 │             0 │         0 │           0 │        0 │ NA      │ NA      │ NA          │       0 │      8 │   2007 │ WD       │ Normal        │    307000 │\n",
       "│     8 │         60 │ RL       │ NA          │   10382 │ Pave    │ NA      │ IR1      │ Lvl         │ AllPub    │ Corner    │ Gtl       │ NWAmes       │ PosN       │ Norm       │ 1Fam     │ 2Story     │           7 │           6 │      1973 │         1973 │ Gable     │ CompShg  │ HdBoard     │ HdBoard     │ Stone      │ 240        │ TA        │ TA        │ CBlock     │ Gd       │ TA       │ Mn           │ ALQ          │        859 │ BLQ          │         32 │       216 │        1107 │ GasA    │ Ex        │ Y          │ SBrkr      │     1107 │      983 │            0 │      2090 │            1 │            0 │        2 │        1 │            3 │            1 │ TA          │            7 │ Typ        │          2 │ TA          │ Attchd     │ 1973        │ RFn          │          2 │        484 │ TA         │ TA         │ Y          │        235 │         204 │           228 │         0 │           0 │        0 │ NA      │ NA      │ Shed        │     350 │     11 │   2009 │ WD       │ Normal        │    200000 │\n",
       "│     9 │         50 │ RM       │ 51          │    6120 │ Pave    │ NA      │ Reg      │ Lvl         │ AllPub    │ Inside    │ Gtl       │ OldTown      │ Artery     │ Norm       │ 1Fam     │ 1.5Fin     │           7 │           5 │      1931 │         1950 │ Gable     │ CompShg  │ BrkFace     │ Wd Shng     │ None       │ 0          │ TA        │ TA        │ BrkTil     │ TA       │ TA       │ No           │ Unf          │          0 │ Unf          │          0 │       952 │         952 │ GasA    │ Gd        │ Y          │ FuseF      │     1022 │      752 │            0 │      1774 │            0 │            0 │        2 │        0 │            2 │            2 │ TA          │            8 │ Min1       │          2 │ TA          │ Detchd     │ 1931        │ Unf          │          2 │        468 │ Fa         │ TA         │ Y          │         90 │           0 │           205 │         0 │           0 │        0 │ NA      │ NA      │ NA          │       0 │      4 │   2008 │ WD       │ Abnorml       │    129900 │\n",
       "│    10 │        190 │ RL       │ 50          │    7420 │ Pave    │ NA      │ Reg      │ Lvl         │ AllPub    │ Corner    │ Gtl       │ BrkSide      │ Artery     │ Artery     │ 2fmCon   │ 1.5Unf     │           5 │           6 │      1939 │         1950 │ Gable     │ CompShg  │ MetalSd     │ MetalSd     │ None       │ 0          │ TA        │ TA        │ BrkTil     │ TA       │ TA       │ No           │ GLQ          │        851 │ Unf          │          0 │       140 │         991 │ GasA    │ Ex        │ Y          │ SBrkr      │     1077 │        0 │            0 │      1077 │            1 │            0 │        1 │        0 │            2 │            2 │ TA          │            5 │ Typ        │          2 │ TA          │ Attchd     │ 1939        │ RFn          │          1 │        205 │ Gd         │ TA         │ Y          │          0 │           4 │             0 │         0 │           0 │        0 │ NA      │ NA      │ NA          │       0 │      1 │   2008 │ WD       │ Normal        │    118000 │\n",
       "│     · │          · │ ·        │ ·           │      ·  │  ·      │ ·       │  ·       │  ·          │   ·       │  ·        │  ·        │   ·          │  ·         │  ·         │   ·      │   ·        │           · │           · │        ·  │           ·  │   ·       │    ·     │    ·        │    ·        │  ·         │ ·          │ ·         │ ·         │   ·        │ ·        │ ·        │ ·            │  ·           │          · │  ·           │          · │        ·  │          ·  │  ·      │ ·         │ ·          │   ·        │       ·  │        · │            · │        ·  │            · │            · │        · │        · │            · │            · │ ·           │            · │  ·         │          · │ ·           │ ·          │ ·           │ ·            │          · │          · │ ·          │ ·          │ ·          │          · │           · │             · │         · │           · │        · │ ·       │ ·       │ ·           │       · │      · │     ·  │ ·        │   ·           │       ·   │\n",
       "│     · │          · │ ·        │ ·           │      ·  │  ·      │ ·       │  ·       │  ·          │   ·       │  ·        │  ·        │   ·          │  ·         │  ·         │   ·      │   ·        │           · │           · │        ·  │           ·  │   ·       │    ·     │    ·        │    ·        │  ·         │ ·          │ ·         │ ·         │   ·        │ ·        │ ·        │ ·            │  ·           │          · │  ·           │          · │        ·  │          ·  │  ·      │ ·         │ ·          │   ·        │       ·  │        · │            · │        ·  │            · │            · │        · │        · │            · │            · │ ·           │            · │  ·         │          · │ ·           │ ·          │ ·           │ ·            │          · │          · │ ·          │ ·          │ ·          │          · │           · │             · │         · │           · │        · │ ·       │ ·       │ ·           │       · │      · │     ·  │ ·        │   ·           │       ·   │\n",
       "│     · │          · │ ·        │ ·           │      ·  │  ·      │ ·       │  ·       │  ·          │   ·       │  ·        │  ·        │   ·          │  ·         │  ·         │   ·      │   ·        │           · │           · │        ·  │           ·  │   ·       │    ·     │    ·        │    ·        │  ·         │ ·          │ ·         │ ·         │   ·        │ ·        │ ·        │ ·            │  ·           │          · │  ·           │          · │        ·  │          ·  │  ·      │ ·         │ ·          │   ·        │       ·  │        · │            · │        ·  │            · │            · │        · │        · │            · │            · │ ·           │            · │  ·         │          · │ ·           │ ·          │ ·           │ ·            │          · │          · │ ·          │ ·          │ ·          │          · │           · │             · │         · │           · │        · │ ·       │ ·       │ ·           │       · │      · │     ·  │ ·        │   ·           │       ·   │\n",
       "│  1451 │         90 │ RL       │ 60          │    9000 │ Pave    │ NA      │ Reg      │ Lvl         │ AllPub    │ FR2       │ Gtl       │ NAmes        │ Norm       │ Norm       │ Duplex   │ 2Story     │           5 │           5 │      1974 │         1974 │ Gable     │ CompShg  │ VinylSd     │ VinylSd     │ None       │ 0          │ TA        │ TA        │ CBlock     │ Gd       │ TA       │ No           │ Unf          │          0 │ Unf          │          0 │       896 │         896 │ GasA    │ TA        │ Y          │ SBrkr      │      896 │      896 │            0 │      1792 │            0 │            0 │        2 │        2 │            4 │            2 │ TA          │            8 │ Typ        │          0 │ NA          │ NA         │ NA          │ NA           │          0 │          0 │ NA         │ NA         │ Y          │         32 │          45 │             0 │         0 │           0 │        0 │ NA      │ NA      │ NA          │       0 │      9 │   2009 │ WD       │ Normal        │    136000 │\n",
       "│  1452 │         20 │ RL       │ 78          │    9262 │ Pave    │ NA      │ Reg      │ Lvl         │ AllPub    │ Inside    │ Gtl       │ Somerst      │ Norm       │ Norm       │ 1Fam     │ 1Story     │           8 │           5 │      2008 │         2009 │ Gable     │ CompShg  │ CemntBd     │ CmentBd     │ Stone      │ 194        │ Gd        │ TA        │ PConc      │ Gd       │ TA       │ No           │ Unf          │          0 │ Unf          │          0 │      1573 │        1573 │ GasA    │ Ex        │ Y          │ SBrkr      │     1578 │        0 │            0 │      1578 │            0 │            0 │        2 │        0 │            3 │            1 │ Ex          │            7 │ Typ        │          1 │ Gd          │ Attchd     │ 2008        │ Fin          │          3 │        840 │ TA         │ TA         │ Y          │          0 │          36 │             0 │         0 │           0 │        0 │ NA      │ NA      │ NA          │       0 │      5 │   2009 │ New      │ Partial       │    287090 │\n",
       "│  1453 │        180 │ RM       │ 35          │    3675 │ Pave    │ NA      │ Reg      │ Lvl         │ AllPub    │ Inside    │ Gtl       │ Edwards      │ Norm       │ Norm       │ TwnhsE   │ SLvl       │           5 │           5 │      2005 │         2005 │ Gable     │ CompShg  │ VinylSd     │ VinylSd     │ BrkFace    │ 80         │ TA        │ TA        │ PConc      │ Gd       │ TA       │ Gd           │ GLQ          │        547 │ Unf          │          0 │         0 │         547 │ GasA    │ Gd        │ Y          │ SBrkr      │     1072 │        0 │            0 │      1072 │            1 │            0 │        1 │        0 │            2 │            1 │ TA          │            5 │ Typ        │          0 │ NA          │ Basment    │ 2005        │ Fin          │          2 │        525 │ TA         │ TA         │ Y          │          0 │          28 │             0 │         0 │           0 │        0 │ NA      │ NA      │ NA          │       0 │      5 │   2006 │ WD       │ Normal        │    145000 │\n",
       "│  1454 │         20 │ RL       │ 90          │   17217 │ Pave    │ NA      │ Reg      │ Lvl         │ AllPub    │ Inside    │ Gtl       │ Mitchel      │ Norm       │ Norm       │ 1Fam     │ 1Story     │           5 │           5 │      2006 │         2006 │ Gable     │ CompShg  │ VinylSd     │ VinylSd     │ None       │ 0          │ TA        │ TA        │ PConc      │ Gd       │ TA       │ No           │ Unf          │          0 │ Unf          │          0 │      1140 │        1140 │ GasA    │ Ex        │ Y          │ SBrkr      │     1140 │        0 │            0 │      1140 │            0 │            0 │        1 │        0 │            3 │            1 │ TA          │            6 │ Typ        │          0 │ NA          │ NA         │ NA          │ NA           │          0 │          0 │ NA         │ NA         │ Y          │         36 │          56 │             0 │         0 │           0 │        0 │ NA      │ NA      │ NA          │       0 │      7 │   2006 │ WD       │ Abnorml       │     84500 │\n",
       "│  1455 │         20 │ FV       │ 62          │    7500 │ Pave    │ Pave    │ Reg      │ Lvl         │ AllPub    │ Inside    │ Gtl       │ Somerst      │ Norm       │ Norm       │ 1Fam     │ 1Story     │           7 │           5 │      2004 │         2005 │ Gable     │ CompShg  │ VinylSd     │ VinylSd     │ None       │ 0          │ Gd        │ TA        │ PConc      │ Gd       │ TA       │ No           │ GLQ          │        410 │ Unf          │          0 │       811 │        1221 │ GasA    │ Ex        │ Y          │ SBrkr      │     1221 │        0 │            0 │      1221 │            1 │            0 │        2 │        0 │            2 │            1 │ Gd          │            6 │ Typ        │          0 │ NA          │ Attchd     │ 2004        │ RFn          │          2 │        400 │ TA         │ TA         │ Y          │          0 │         113 │             0 │         0 │           0 │        0 │ NA      │ NA      │ NA          │       0 │     10 │   2009 │ WD       │ Normal        │    185000 │\n",
       "│  1456 │         60 │ RL       │ 62          │    7917 │ Pave    │ NA      │ Reg      │ Lvl         │ AllPub    │ Inside    │ Gtl       │ Gilbert      │ Norm       │ Norm       │ 1Fam     │ 2Story     │           6 │           5 │      1999 │         2000 │ Gable     │ CompShg  │ VinylSd     │ VinylSd     │ None       │ 0          │ TA        │ TA        │ PConc      │ Gd       │ TA       │ No           │ Unf          │          0 │ Unf          │          0 │       953 │         953 │ GasA    │ Ex        │ Y          │ SBrkr      │      953 │      694 │            0 │      1647 │            0 │            0 │        2 │        1 │            3 │            1 │ TA          │            7 │ Typ        │          1 │ TA          │ Attchd     │ 1999        │ RFn          │          2 │        460 │ TA         │ TA         │ Y          │          0 │          40 │             0 │         0 │           0 │        0 │ NA      │ NA      │ NA          │       0 │      8 │   2007 │ WD       │ Normal        │    175000 │\n",
       "│  1457 │         20 │ RL       │ 85          │   13175 │ Pave    │ NA      │ Reg      │ Lvl         │ AllPub    │ Inside    │ Gtl       │ NWAmes       │ Norm       │ Norm       │ 1Fam     │ 1Story     │           6 │           6 │      1978 │         1988 │ Gable     │ CompShg  │ Plywood     │ Plywood     │ Stone      │ 119        │ TA        │ TA        │ CBlock     │ Gd       │ TA       │ No           │ ALQ          │        790 │ Rec          │        163 │       589 │        1542 │ GasA    │ TA        │ Y          │ SBrkr      │     2073 │        0 │            0 │      2073 │            1 │            0 │        2 │        0 │            3 │            1 │ TA          │            7 │ Min1       │          2 │ TA          │ Attchd     │ 1978        │ Unf          │          2 │        500 │ TA         │ TA         │ Y          │        349 │           0 │             0 │         0 │           0 │        0 │ NA      │ MnPrv   │ NA          │       0 │      2 │   2010 │ WD       │ Normal        │    210000 │\n",
       "│  1458 │         70 │ RL       │ 66          │    9042 │ Pave    │ NA      │ Reg      │ Lvl         │ AllPub    │ Inside    │ Gtl       │ Crawfor      │ Norm       │ Norm       │ 1Fam     │ 2Story     │           7 │           9 │      1941 │         2006 │ Gable     │ CompShg  │ CemntBd     │ CmentBd     │ None       │ 0          │ Ex        │ Gd        │ Stone      │ TA       │ Gd       │ No           │ GLQ          │        275 │ Unf          │          0 │       877 │        1152 │ GasA    │ Ex        │ Y          │ SBrkr      │     1188 │     1152 │            0 │      2340 │            0 │            0 │        2 │        0 │            4 │            1 │ Gd          │            9 │ Typ        │          2 │ Gd          │ Attchd     │ 1941        │ RFn          │          1 │        252 │ TA         │ TA         │ Y          │          0 │          60 │             0 │         0 │           0 │        0 │ NA      │ GdPrv   │ Shed        │    2500 │      5 │   2010 │ WD       │ Normal        │    266500 │\n",
       "│  1459 │         20 │ RL       │ 68          │    9717 │ Pave    │ NA      │ Reg      │ Lvl         │ AllPub    │ Inside    │ Gtl       │ NAmes        │ Norm       │ Norm       │ 1Fam     │ 1Story     │           5 │           6 │      1950 │         1996 │ Hip       │ CompShg  │ MetalSd     │ MetalSd     │ None       │ 0          │ TA        │ TA        │ CBlock     │ TA       │ TA       │ Mn           │ GLQ          │         49 │ Rec          │       1029 │         0 │        1078 │ GasA    │ Gd        │ Y          │ FuseA      │     1078 │        0 │            0 │      1078 │            1 │            0 │        1 │        0 │            2 │            1 │ Gd          │            5 │ Typ        │          0 │ NA          │ Attchd     │ 1950        │ Unf          │          1 │        240 │ TA         │ TA         │ Y          │        366 │           0 │           112 │         0 │           0 │        0 │ NA      │ NA      │ NA          │       0 │      4 │   2010 │ WD       │ Normal        │    142125 │\n",
       "│  1460 │         20 │ RL       │ 75          │    9937 │ Pave    │ NA      │ Reg      │ Lvl         │ AllPub    │ Inside    │ Gtl       │ Edwards      │ Norm       │ Norm       │ 1Fam     │ 1Story     │           5 │           6 │      1965 │         1965 │ Gable     │ CompShg  │ HdBoard     │ HdBoard     │ None       │ 0          │ Gd        │ TA        │ CBlock     │ TA       │ TA       │ No           │ BLQ          │        830 │ LwQ          │        290 │       136 │        1256 │ GasA    │ Gd        │ Y          │ SBrkr      │     1256 │        0 │            0 │      1256 │            1 │            0 │        1 │        1 │            3 │            1 │ TA          │            6 │ Typ        │          0 │ NA          │ Attchd     │ 1965        │ Fin          │          1 │        276 │ TA         │ TA         │ Y          │        736 │          68 │             0 │         0 │           0 │        0 │ NA      │ NA      │ NA          │       0 │      6 │   2008 │ WD       │ Normal        │    147500 │\n",
       "├───────┴────────────┴──────────┴─────────────┴─────────┴─────────┴─────────┴──────────┴─────────────┴───────────┴───────────┴───────────┴──────────────┴────────────┴────────────┴──────────┴────────────┴─────────────┴─────────────┴───────────┴──────────────┴───────────┴──────────┴─────────────┴─────────────┴────────────┴────────────┴───────────┴───────────┴────────────┴──────────┴──────────┴──────────────┴──────────────┴────────────┴──────────────┴────────────┴───────────┴─────────────┴─────────┴───────────┴────────────┴────────────┴──────────┴──────────┴──────────────┴───────────┴──────────────┴──────────────┴──────────┴──────────┴──────────────┴──────────────┴─────────────┴──────────────┴────────────┴────────────┴─────────────┴────────────┴─────────────┴──────────────┴────────────┴────────────┴────────────┴────────────┴────────────┴────────────┴─────────────┴───────────────┴───────────┴─────────────┴──────────┴─────────┴─────────┴─────────────┴─────────┴────────┴────────┴──────────┴───────────────┴───────────┤\n",
       "│ 1460 rows (20 shown)                                                                                                                                                                                                                                                                                                                                                                                                                                                                                                                                                                                                                                                                                                                                                                                                                                                                                                                                                                                                                                 81 columns │\n",
       "└─────────────────────────────────────────────────────────────────────────────────────────────────────────────────────────────────────────────────────────────────────────────────────────────────────────────────────────────────────────────────────────────────────────────────────────────────────────────────────────────────────────────────────────────────────────────────────────────────────────────────────────────────────────────────────────────────────────────────────────────────────────────────────────────────────────────────────────────────────────────────────────────────────────────────────────────────────────────────────────────────────────────────────────────────────────────────────────────────────────────────────────────────────────────────────────────────────────────────────────────────────────────────────────────────────────────────────────────────────────────────────────────────────────────────────────────────────────────────────────────────────────────────────────────────────────────────────────────────┘"
      ]
     },
     "execution_count": 6,
     "metadata": {},
     "output_type": "execute_result"
    }
   ],
   "source": [
    "duckdb.sql(\"SELECT * FROM read_csv_auto('../data/train.csv')\")"
   ]
  },
  {
   "cell_type": "code",
   "execution_count": 42,
   "id": "ce44f1b1-cbbf-47d3-84c7-4c78401ed3b4",
   "metadata": {},
   "outputs": [
    {
     "data": {
      "text/plain": [
       "┌─────────────┬────────────────────┐\n",
       "│ total_house │  avg_sales_price   │\n",
       "│    int64    │       double       │\n",
       "├─────────────┼────────────────────┤\n",
       "│        1460 │ 180921.19589041095 │\n",
       "└─────────────┴────────────────────┘"
      ]
     },
     "execution_count": 42,
     "metadata": {},
     "output_type": "execute_result"
    }
   ],
   "source": [
    "duckdb.sql(\"SELECT Count(Id) as total_house, AVG(SalePrice) as avg_sales_price FROM read_csv_auto('../data/train.csv')\")"
   ]
  },
  {
   "cell_type": "code",
   "execution_count": 14,
   "id": "0bafb76e-5da0-4767-8288-2768fa97a670",
   "metadata": {},
   "outputs": [],
   "source": [
    "train_csv = duckdb.read_csv(\"../data/train.csv\",header = True, delimiter=',')"
   ]
  },
  {
   "cell_type": "code",
   "execution_count": 22,
   "id": "0efbfd48-c2f7-494d-80d1-bb1267297d60",
   "metadata": {},
   "outputs": [
    {
     "data": {
      "text/plain": [
       "┌───────────┐\n",
       "│ count(Id) │\n",
       "│   int64   │\n",
       "├───────────┤\n",
       "│      1460 │\n",
       "└───────────┘"
      ]
     },
     "execution_count": 22,
     "metadata": {},
     "output_type": "execute_result"
    }
   ],
   "source": [
    "train_csv.count('Id')"
   ]
  },
  {
   "cell_type": "code",
   "execution_count": 43,
   "id": "e3a75c4e-3907-44d9-b238-c8cd0dcfd045",
   "metadata": {},
   "outputs": [],
   "source": [
    "pd_train_csv_from_duck = train_csv.df()"
   ]
  },
  {
   "cell_type": "code",
   "execution_count": 44,
   "id": "0b45bc53-883a-4b0d-9129-102d38ca7886",
   "metadata": {},
   "outputs": [
    {
     "data": {
      "text/html": [
       "<div>\n",
       "<style scoped>\n",
       "    .dataframe tbody tr th:only-of-type {\n",
       "        vertical-align: middle;\n",
       "    }\n",
       "\n",
       "    .dataframe tbody tr th {\n",
       "        vertical-align: top;\n",
       "    }\n",
       "\n",
       "    .dataframe thead th {\n",
       "        text-align: right;\n",
       "    }\n",
       "</style>\n",
       "<table border=\"1\" class=\"dataframe\">\n",
       "  <thead>\n",
       "    <tr style=\"text-align: right;\">\n",
       "      <th></th>\n",
       "      <th>Id</th>\n",
       "      <th>MSSubClass</th>\n",
       "      <th>MSZoning</th>\n",
       "      <th>LotFrontage</th>\n",
       "      <th>LotArea</th>\n",
       "      <th>Street</th>\n",
       "      <th>Alley</th>\n",
       "      <th>LotShape</th>\n",
       "      <th>LandContour</th>\n",
       "      <th>Utilities</th>\n",
       "      <th>...</th>\n",
       "      <th>PoolArea</th>\n",
       "      <th>PoolQC</th>\n",
       "      <th>Fence</th>\n",
       "      <th>MiscFeature</th>\n",
       "      <th>MiscVal</th>\n",
       "      <th>MoSold</th>\n",
       "      <th>YrSold</th>\n",
       "      <th>SaleType</th>\n",
       "      <th>SaleCondition</th>\n",
       "      <th>SalePrice</th>\n",
       "    </tr>\n",
       "  </thead>\n",
       "  <tbody>\n",
       "    <tr>\n",
       "      <th>0</th>\n",
       "      <td>1</td>\n",
       "      <td>60</td>\n",
       "      <td>RL</td>\n",
       "      <td>65</td>\n",
       "      <td>8450</td>\n",
       "      <td>Pave</td>\n",
       "      <td>NA</td>\n",
       "      <td>Reg</td>\n",
       "      <td>Lvl</td>\n",
       "      <td>AllPub</td>\n",
       "      <td>...</td>\n",
       "      <td>0</td>\n",
       "      <td>NA</td>\n",
       "      <td>NA</td>\n",
       "      <td>NA</td>\n",
       "      <td>0</td>\n",
       "      <td>2</td>\n",
       "      <td>2008</td>\n",
       "      <td>WD</td>\n",
       "      <td>Normal</td>\n",
       "      <td>208500</td>\n",
       "    </tr>\n",
       "    <tr>\n",
       "      <th>1</th>\n",
       "      <td>2</td>\n",
       "      <td>20</td>\n",
       "      <td>RL</td>\n",
       "      <td>80</td>\n",
       "      <td>9600</td>\n",
       "      <td>Pave</td>\n",
       "      <td>NA</td>\n",
       "      <td>Reg</td>\n",
       "      <td>Lvl</td>\n",
       "      <td>AllPub</td>\n",
       "      <td>...</td>\n",
       "      <td>0</td>\n",
       "      <td>NA</td>\n",
       "      <td>NA</td>\n",
       "      <td>NA</td>\n",
       "      <td>0</td>\n",
       "      <td>5</td>\n",
       "      <td>2007</td>\n",
       "      <td>WD</td>\n",
       "      <td>Normal</td>\n",
       "      <td>181500</td>\n",
       "    </tr>\n",
       "    <tr>\n",
       "      <th>2</th>\n",
       "      <td>3</td>\n",
       "      <td>60</td>\n",
       "      <td>RL</td>\n",
       "      <td>68</td>\n",
       "      <td>11250</td>\n",
       "      <td>Pave</td>\n",
       "      <td>NA</td>\n",
       "      <td>IR1</td>\n",
       "      <td>Lvl</td>\n",
       "      <td>AllPub</td>\n",
       "      <td>...</td>\n",
       "      <td>0</td>\n",
       "      <td>NA</td>\n",
       "      <td>NA</td>\n",
       "      <td>NA</td>\n",
       "      <td>0</td>\n",
       "      <td>9</td>\n",
       "      <td>2008</td>\n",
       "      <td>WD</td>\n",
       "      <td>Normal</td>\n",
       "      <td>223500</td>\n",
       "    </tr>\n",
       "    <tr>\n",
       "      <th>3</th>\n",
       "      <td>4</td>\n",
       "      <td>70</td>\n",
       "      <td>RL</td>\n",
       "      <td>60</td>\n",
       "      <td>9550</td>\n",
       "      <td>Pave</td>\n",
       "      <td>NA</td>\n",
       "      <td>IR1</td>\n",
       "      <td>Lvl</td>\n",
       "      <td>AllPub</td>\n",
       "      <td>...</td>\n",
       "      <td>0</td>\n",
       "      <td>NA</td>\n",
       "      <td>NA</td>\n",
       "      <td>NA</td>\n",
       "      <td>0</td>\n",
       "      <td>2</td>\n",
       "      <td>2006</td>\n",
       "      <td>WD</td>\n",
       "      <td>Abnorml</td>\n",
       "      <td>140000</td>\n",
       "    </tr>\n",
       "    <tr>\n",
       "      <th>4</th>\n",
       "      <td>5</td>\n",
       "      <td>60</td>\n",
       "      <td>RL</td>\n",
       "      <td>84</td>\n",
       "      <td>14260</td>\n",
       "      <td>Pave</td>\n",
       "      <td>NA</td>\n",
       "      <td>IR1</td>\n",
       "      <td>Lvl</td>\n",
       "      <td>AllPub</td>\n",
       "      <td>...</td>\n",
       "      <td>0</td>\n",
       "      <td>NA</td>\n",
       "      <td>NA</td>\n",
       "      <td>NA</td>\n",
       "      <td>0</td>\n",
       "      <td>12</td>\n",
       "      <td>2008</td>\n",
       "      <td>WD</td>\n",
       "      <td>Normal</td>\n",
       "      <td>250000</td>\n",
       "    </tr>\n",
       "  </tbody>\n",
       "</table>\n",
       "<p>5 rows × 81 columns</p>\n",
       "</div>"
      ],
      "text/plain": [
       "   Id  MSSubClass MSZoning LotFrontage  LotArea Street Alley LotShape  \\\n",
       "0   1          60       RL          65     8450   Pave    NA      Reg   \n",
       "1   2          20       RL          80     9600   Pave    NA      Reg   \n",
       "2   3          60       RL          68    11250   Pave    NA      IR1   \n",
       "3   4          70       RL          60     9550   Pave    NA      IR1   \n",
       "4   5          60       RL          84    14260   Pave    NA      IR1   \n",
       "\n",
       "  LandContour Utilities  ... PoolArea PoolQC Fence MiscFeature MiscVal MoSold  \\\n",
       "0         Lvl    AllPub  ...        0     NA    NA          NA       0      2   \n",
       "1         Lvl    AllPub  ...        0     NA    NA          NA       0      5   \n",
       "2         Lvl    AllPub  ...        0     NA    NA          NA       0      9   \n",
       "3         Lvl    AllPub  ...        0     NA    NA          NA       0      2   \n",
       "4         Lvl    AllPub  ...        0     NA    NA          NA       0     12   \n",
       "\n",
       "  YrSold  SaleType  SaleCondition  SalePrice  \n",
       "0   2008        WD         Normal     208500  \n",
       "1   2007        WD         Normal     181500  \n",
       "2   2008        WD         Normal     223500  \n",
       "3   2006        WD        Abnorml     140000  \n",
       "4   2008        WD         Normal     250000  \n",
       "\n",
       "[5 rows x 81 columns]"
      ]
     },
     "execution_count": 44,
     "metadata": {},
     "output_type": "execute_result"
    }
   ],
   "source": [
    "pd_train_csv_from_duck.head(5)"
   ]
  },
  {
   "cell_type": "code",
   "execution_count": 46,
   "id": "7929a89f-024f-48ce-9c35-d8f4e2291ad8",
   "metadata": {},
   "outputs": [],
   "source": [
    "pd_train_csv = pandas.read_csv(\"../data/train.csv\")"
   ]
  },
  {
   "cell_type": "code",
   "execution_count": 47,
   "id": "31710c4d-be81-44b2-bdbc-1f2b20f8e776",
   "metadata": {},
   "outputs": [
    {
     "data": {
      "text/plain": [
       "┌───────┬────────────┬──────────┬─────────────┬─────────┬─────────┬─────────┬──────────┬─────────────┬───────────┬───────────┬───────────┬──────────────┬────────────┬────────────┬──────────┬────────────┬─────────────┬─────────────┬───────────┬──────────────┬───────────┬──────────┬─────────────┬─────────────┬────────────┬────────────┬───────────┬───────────┬────────────┬──────────┬──────────┬──────────────┬──────────────┬────────────┬──────────────┬────────────┬───────────┬─────────────┬─────────┬───────────┬────────────┬────────────┬──────────┬──────────┬──────────────┬───────────┬──────────────┬──────────────┬──────────┬──────────┬──────────────┬──────────────┬─────────────┬──────────────┬────────────┬────────────┬─────────────┬────────────┬─────────────┬──────────────┬────────────┬────────────┬────────────┬────────────┬────────────┬────────────┬─────────────┬───────────────┬───────────┬─────────────┬──────────┬─────────┬─────────┬─────────────┬─────────┬────────┬────────┬──────────┬───────────────┬───────────┐\n",
       "│  Id   │ MSSubClass │ MSZoning │ LotFrontage │ LotArea │ Street  │  Alley  │ LotShape │ LandContour │ Utilities │ LotConfig │ LandSlope │ Neighborhood │ Condition1 │ Condition2 │ BldgType │ HouseStyle │ OverallQual │ OverallCond │ YearBuilt │ YearRemodAdd │ RoofStyle │ RoofMatl │ Exterior1st │ Exterior2nd │ MasVnrType │ MasVnrArea │ ExterQual │ ExterCond │ Foundation │ BsmtQual │ BsmtCond │ BsmtExposure │ BsmtFinType1 │ BsmtFinSF1 │ BsmtFinType2 │ BsmtFinSF2 │ BsmtUnfSF │ TotalBsmtSF │ Heating │ HeatingQC │ CentralAir │ Electrical │ 1stFlrSF │ 2ndFlrSF │ LowQualFinSF │ GrLivArea │ BsmtFullBath │ BsmtHalfBath │ FullBath │ HalfBath │ BedroomAbvGr │ KitchenAbvGr │ KitchenQual │ TotRmsAbvGrd │ Functional │ Fireplaces │ FireplaceQu │ GarageType │ GarageYrBlt │ GarageFinish │ GarageCars │ GarageArea │ GarageQual │ GarageCond │ PavedDrive │ WoodDeckSF │ OpenPorchSF │ EnclosedPorch │ 3SsnPorch │ ScreenPorch │ PoolArea │ PoolQC  │  Fence  │ MiscFeature │ MiscVal │ MoSold │ YrSold │ SaleType │ SaleCondition │ SalePrice │\n",
       "│ int64 │   int64    │ varchar  │   double    │  int64  │ varchar │ varchar │ varchar  │   varchar   │  varchar  │  varchar  │  varchar  │   varchar    │  varchar   │  varchar   │ varchar  │  varchar   │    int64    │    int64    │   int64   │    int64     │  varchar  │ varchar  │   varchar   │   varchar   │  varchar   │   double   │  varchar  │  varchar  │  varchar   │ varchar  │ varchar  │   varchar    │   varchar    │   int64    │   varchar    │   int64    │   int64   │    int64    │ varchar │  varchar  │  varchar   │  varchar   │  int64   │  int64   │    int64     │   int64   │    int64     │    int64     │  int64   │  int64   │    int64     │    int64     │   varchar   │    int64     │  varchar   │   int64    │   varchar   │  varchar   │   double    │   varchar    │   int64    │   int64    │  varchar   │  varchar   │  varchar   │   int64    │    int64    │     int64     │   int64   │    int64    │  int64   │ varchar │ varchar │   varchar   │  int64  │ int64  │ int64  │ varchar  │    varchar    │   int64   │\n",
       "├───────┼────────────┼──────────┼─────────────┼─────────┼─────────┼─────────┼──────────┼─────────────┼───────────┼───────────┼───────────┼──────────────┼────────────┼────────────┼──────────┼────────────┼─────────────┼─────────────┼───────────┼──────────────┼───────────┼──────────┼─────────────┼─────────────┼────────────┼────────────┼───────────┼───────────┼────────────┼──────────┼──────────┼──────────────┼──────────────┼────────────┼──────────────┼────────────┼───────────┼─────────────┼─────────┼───────────┼────────────┼────────────┼──────────┼──────────┼──────────────┼───────────┼──────────────┼──────────────┼──────────┼──────────┼──────────────┼──────────────┼─────────────┼──────────────┼────────────┼────────────┼─────────────┼────────────┼─────────────┼──────────────┼────────────┼────────────┼────────────┼────────────┼────────────┼────────────┼─────────────┼───────────────┼───────────┼─────────────┼──────────┼─────────┼─────────┼─────────────┼─────────┼────────┼────────┼──────────┼───────────────┼───────────┤\n",
       "│     1 │         60 │ RL       │        65.0 │    8450 │ Pave    │ NULL    │ Reg      │ Lvl         │ AllPub    │ Inside    │ Gtl       │ CollgCr      │ Norm       │ Norm       │ 1Fam     │ 2Story     │           7 │           5 │      2003 │         2003 │ Gable     │ CompShg  │ VinylSd     │ VinylSd     │ BrkFace    │      196.0 │ Gd        │ TA        │ PConc      │ Gd       │ TA       │ No           │ GLQ          │        706 │ Unf          │          0 │       150 │         856 │ GasA    │ Ex        │ Y          │ SBrkr      │      856 │      854 │            0 │      1710 │            1 │            0 │        2 │        1 │            3 │            1 │ Gd          │            8 │ Typ        │          0 │ NULL        │ Attchd     │      2003.0 │ RFn          │          2 │        548 │ TA         │ TA         │ Y          │          0 │          61 │             0 │         0 │           0 │        0 │ NULL    │ NULL    │ NULL        │       0 │      2 │   2008 │ WD       │ Normal        │    208500 │\n",
       "│     2 │         20 │ RL       │        80.0 │    9600 │ Pave    │ NULL    │ Reg      │ Lvl         │ AllPub    │ FR2       │ Gtl       │ Veenker      │ Feedr      │ Norm       │ 1Fam     │ 1Story     │           6 │           8 │      1976 │         1976 │ Gable     │ CompShg  │ MetalSd     │ MetalSd     │ NULL       │        0.0 │ TA        │ TA        │ CBlock     │ Gd       │ TA       │ Gd           │ ALQ          │        978 │ Unf          │          0 │       284 │        1262 │ GasA    │ Ex        │ Y          │ SBrkr      │     1262 │        0 │            0 │      1262 │            0 │            1 │        2 │        0 │            3 │            1 │ TA          │            6 │ Typ        │          1 │ TA          │ Attchd     │      1976.0 │ RFn          │          2 │        460 │ TA         │ TA         │ Y          │        298 │           0 │             0 │         0 │           0 │        0 │ NULL    │ NULL    │ NULL        │       0 │      5 │   2007 │ WD       │ Normal        │    181500 │\n",
       "│     3 │         60 │ RL       │        68.0 │   11250 │ Pave    │ NULL    │ IR1      │ Lvl         │ AllPub    │ Inside    │ Gtl       │ CollgCr      │ Norm       │ Norm       │ 1Fam     │ 2Story     │           7 │           5 │      2001 │         2002 │ Gable     │ CompShg  │ VinylSd     │ VinylSd     │ BrkFace    │      162.0 │ Gd        │ TA        │ PConc      │ Gd       │ TA       │ Mn           │ GLQ          │        486 │ Unf          │          0 │       434 │         920 │ GasA    │ Ex        │ Y          │ SBrkr      │      920 │      866 │            0 │      1786 │            1 │            0 │        2 │        1 │            3 │            1 │ Gd          │            6 │ Typ        │          1 │ TA          │ Attchd     │      2001.0 │ RFn          │          2 │        608 │ TA         │ TA         │ Y          │          0 │          42 │             0 │         0 │           0 │        0 │ NULL    │ NULL    │ NULL        │       0 │      9 │   2008 │ WD       │ Normal        │    223500 │\n",
       "│     4 │         70 │ RL       │        60.0 │    9550 │ Pave    │ NULL    │ IR1      │ Lvl         │ AllPub    │ Corner    │ Gtl       │ Crawfor      │ Norm       │ Norm       │ 1Fam     │ 2Story     │           7 │           5 │      1915 │         1970 │ Gable     │ CompShg  │ Wd Sdng     │ Wd Shng     │ NULL       │        0.0 │ TA        │ TA        │ BrkTil     │ TA       │ Gd       │ No           │ ALQ          │        216 │ Unf          │          0 │       540 │         756 │ GasA    │ Gd        │ Y          │ SBrkr      │      961 │      756 │            0 │      1717 │            1 │            0 │        1 │        0 │            3 │            1 │ Gd          │            7 │ Typ        │          1 │ Gd          │ Detchd     │      1998.0 │ Unf          │          3 │        642 │ TA         │ TA         │ Y          │          0 │          35 │           272 │         0 │           0 │        0 │ NULL    │ NULL    │ NULL        │       0 │      2 │   2006 │ WD       │ Abnorml       │    140000 │\n",
       "│     5 │         60 │ RL       │        84.0 │   14260 │ Pave    │ NULL    │ IR1      │ Lvl         │ AllPub    │ FR2       │ Gtl       │ NoRidge      │ Norm       │ Norm       │ 1Fam     │ 2Story     │           8 │           5 │      2000 │         2000 │ Gable     │ CompShg  │ VinylSd     │ VinylSd     │ BrkFace    │      350.0 │ Gd        │ TA        │ PConc      │ Gd       │ TA       │ Av           │ GLQ          │        655 │ Unf          │          0 │       490 │        1145 │ GasA    │ Ex        │ Y          │ SBrkr      │     1145 │     1053 │            0 │      2198 │            1 │            0 │        2 │        1 │            4 │            1 │ Gd          │            9 │ Typ        │          1 │ TA          │ Attchd     │      2000.0 │ RFn          │          3 │        836 │ TA         │ TA         │ Y          │        192 │          84 │             0 │         0 │           0 │        0 │ NULL    │ NULL    │ NULL        │       0 │     12 │   2008 │ WD       │ Normal        │    250000 │\n",
       "│     6 │         50 │ RL       │        85.0 │   14115 │ Pave    │ NULL    │ IR1      │ Lvl         │ AllPub    │ Inside    │ Gtl       │ Mitchel      │ Norm       │ Norm       │ 1Fam     │ 1.5Fin     │           5 │           5 │      1993 │         1995 │ Gable     │ CompShg  │ VinylSd     │ VinylSd     │ NULL       │        0.0 │ TA        │ TA        │ Wood       │ Gd       │ TA       │ No           │ GLQ          │        732 │ Unf          │          0 │        64 │         796 │ GasA    │ Ex        │ Y          │ SBrkr      │      796 │      566 │            0 │      1362 │            1 │            0 │        1 │        1 │            1 │            1 │ TA          │            5 │ Typ        │          0 │ NULL        │ Attchd     │      1993.0 │ Unf          │          2 │        480 │ TA         │ TA         │ Y          │         40 │          30 │             0 │       320 │           0 │        0 │ NULL    │ MnPrv   │ Shed        │     700 │     10 │   2009 │ WD       │ Normal        │    143000 │\n",
       "│     7 │         20 │ RL       │        75.0 │   10084 │ Pave    │ NULL    │ Reg      │ Lvl         │ AllPub    │ Inside    │ Gtl       │ Somerst      │ Norm       │ Norm       │ 1Fam     │ 1Story     │           8 │           5 │      2004 │         2005 │ Gable     │ CompShg  │ VinylSd     │ VinylSd     │ Stone      │      186.0 │ Gd        │ TA        │ PConc      │ Ex       │ TA       │ Av           │ GLQ          │       1369 │ Unf          │          0 │       317 │        1686 │ GasA    │ Ex        │ Y          │ SBrkr      │     1694 │        0 │            0 │      1694 │            1 │            0 │        2 │        0 │            3 │            1 │ Gd          │            7 │ Typ        │          1 │ Gd          │ Attchd     │      2004.0 │ RFn          │          2 │        636 │ TA         │ TA         │ Y          │        255 │          57 │             0 │         0 │           0 │        0 │ NULL    │ NULL    │ NULL        │       0 │      8 │   2007 │ WD       │ Normal        │    307000 │\n",
       "│     8 │         60 │ RL       │        NULL │   10382 │ Pave    │ NULL    │ IR1      │ Lvl         │ AllPub    │ Corner    │ Gtl       │ NWAmes       │ PosN       │ Norm       │ 1Fam     │ 2Story     │           7 │           6 │      1973 │         1973 │ Gable     │ CompShg  │ HdBoard     │ HdBoard     │ Stone      │      240.0 │ TA        │ TA        │ CBlock     │ Gd       │ TA       │ Mn           │ ALQ          │        859 │ BLQ          │         32 │       216 │        1107 │ GasA    │ Ex        │ Y          │ SBrkr      │     1107 │      983 │            0 │      2090 │            1 │            0 │        2 │        1 │            3 │            1 │ TA          │            7 │ Typ        │          2 │ TA          │ Attchd     │      1973.0 │ RFn          │          2 │        484 │ TA         │ TA         │ Y          │        235 │         204 │           228 │         0 │           0 │        0 │ NULL    │ NULL    │ Shed        │     350 │     11 │   2009 │ WD       │ Normal        │    200000 │\n",
       "│     9 │         50 │ RM       │        51.0 │    6120 │ Pave    │ NULL    │ Reg      │ Lvl         │ AllPub    │ Inside    │ Gtl       │ OldTown      │ Artery     │ Norm       │ 1Fam     │ 1.5Fin     │           7 │           5 │      1931 │         1950 │ Gable     │ CompShg  │ BrkFace     │ Wd Shng     │ NULL       │        0.0 │ TA        │ TA        │ BrkTil     │ TA       │ TA       │ No           │ Unf          │          0 │ Unf          │          0 │       952 │         952 │ GasA    │ Gd        │ Y          │ FuseF      │     1022 │      752 │            0 │      1774 │            0 │            0 │        2 │        0 │            2 │            2 │ TA          │            8 │ Min1       │          2 │ TA          │ Detchd     │      1931.0 │ Unf          │          2 │        468 │ Fa         │ TA         │ Y          │         90 │           0 │           205 │         0 │           0 │        0 │ NULL    │ NULL    │ NULL        │       0 │      4 │   2008 │ WD       │ Abnorml       │    129900 │\n",
       "│    10 │        190 │ RL       │        50.0 │    7420 │ Pave    │ NULL    │ Reg      │ Lvl         │ AllPub    │ Corner    │ Gtl       │ BrkSide      │ Artery     │ Artery     │ 2fmCon   │ 1.5Unf     │           5 │           6 │      1939 │         1950 │ Gable     │ CompShg  │ MetalSd     │ MetalSd     │ NULL       │        0.0 │ TA        │ TA        │ BrkTil     │ TA       │ TA       │ No           │ GLQ          │        851 │ Unf          │          0 │       140 │         991 │ GasA    │ Ex        │ Y          │ SBrkr      │     1077 │        0 │            0 │      1077 │            1 │            0 │        1 │        0 │            2 │            2 │ TA          │            5 │ Typ        │          2 │ TA          │ Attchd     │      1939.0 │ RFn          │          1 │        205 │ Gd         │ TA         │ Y          │          0 │           4 │             0 │         0 │           0 │        0 │ NULL    │ NULL    │ NULL        │       0 │      1 │   2008 │ WD       │ Normal        │    118000 │\n",
       "│     · │          · │ ·        │          ·  │      ·  │  ·      │  ·      │  ·       │  ·          │   ·       │  ·        │  ·        │   ·          │  ·         │  ·         │   ·      │   ·        │           · │           · │        ·  │           ·  │   ·       │    ·     │    ·        │    ·        │  ·         │         ·  │ ·         │ ·         │   ·        │ ·        │ ·        │ ·            │  ·           │          · │  ·           │          · │        ·  │          ·  │  ·      │ ·         │ ·          │   ·        │       ·  │        · │            · │        ·  │            · │            · │        · │        · │            · │            · │ ·           │            · │  ·         │          · │ ·           │  ·         │          ·  │  ·           │          · │          · │ ·          │ ·          │ ·          │          · │           · │             · │         · │           · │        · │  ·      │  ·      │  ·          │       · │      · │     ·  │ ·        │   ·           │       ·   │\n",
       "│     · │          · │ ·        │          ·  │      ·  │  ·      │  ·      │  ·       │  ·          │   ·       │  ·        │  ·        │   ·          │  ·         │  ·         │   ·      │   ·        │           · │           · │        ·  │           ·  │   ·       │    ·     │    ·        │    ·        │  ·         │         ·  │ ·         │ ·         │   ·        │ ·        │ ·        │ ·            │  ·           │          · │  ·           │          · │        ·  │          ·  │  ·      │ ·         │ ·          │   ·        │       ·  │        · │            · │        ·  │            · │            · │        · │        · │            · │            · │ ·           │            · │  ·         │          · │ ·           │  ·         │          ·  │  ·           │          · │          · │ ·          │ ·          │ ·          │          · │           · │             · │         · │           · │        · │  ·      │  ·      │  ·          │       · │      · │     ·  │ ·        │   ·           │       ·   │\n",
       "│     · │          · │ ·        │          ·  │      ·  │  ·      │  ·      │  ·       │  ·          │   ·       │  ·        │  ·        │   ·          │  ·         │  ·         │   ·      │   ·        │           · │           · │        ·  │           ·  │   ·       │    ·     │    ·        │    ·        │  ·         │         ·  │ ·         │ ·         │   ·        │ ·        │ ·        │ ·            │  ·           │          · │  ·           │          · │        ·  │          ·  │  ·      │ ·         │ ·          │   ·        │       ·  │        · │            · │        ·  │            · │            · │        · │        · │            · │            · │ ·           │            · │  ·         │          · │ ·           │  ·         │          ·  │  ·           │          · │          · │ ·          │ ·          │ ·          │          · │           · │             · │         · │           · │        · │  ·      │  ·      │  ·          │       · │      · │     ·  │ ·        │   ·           │       ·   │\n",
       "│  1451 │         90 │ RL       │        60.0 │    9000 │ Pave    │ NULL    │ Reg      │ Lvl         │ AllPub    │ FR2       │ Gtl       │ NAmes        │ Norm       │ Norm       │ Duplex   │ 2Story     │           5 │           5 │      1974 │         1974 │ Gable     │ CompShg  │ VinylSd     │ VinylSd     │ NULL       │        0.0 │ TA        │ TA        │ CBlock     │ Gd       │ TA       │ No           │ Unf          │          0 │ Unf          │          0 │       896 │         896 │ GasA    │ TA        │ Y          │ SBrkr      │      896 │      896 │            0 │      1792 │            0 │            0 │        2 │        2 │            4 │            2 │ TA          │            8 │ Typ        │          0 │ NULL        │ NULL       │        NULL │ NULL         │          0 │          0 │ NULL       │ NULL       │ Y          │         32 │          45 │             0 │         0 │           0 │        0 │ NULL    │ NULL    │ NULL        │       0 │      9 │   2009 │ WD       │ Normal        │    136000 │\n",
       "│  1452 │         20 │ RL       │        78.0 │    9262 │ Pave    │ NULL    │ Reg      │ Lvl         │ AllPub    │ Inside    │ Gtl       │ Somerst      │ Norm       │ Norm       │ 1Fam     │ 1Story     │           8 │           5 │      2008 │         2009 │ Gable     │ CompShg  │ CemntBd     │ CmentBd     │ Stone      │      194.0 │ Gd        │ TA        │ PConc      │ Gd       │ TA       │ No           │ Unf          │          0 │ Unf          │          0 │      1573 │        1573 │ GasA    │ Ex        │ Y          │ SBrkr      │     1578 │        0 │            0 │      1578 │            0 │            0 │        2 │        0 │            3 │            1 │ Ex          │            7 │ Typ        │          1 │ Gd          │ Attchd     │      2008.0 │ Fin          │          3 │        840 │ TA         │ TA         │ Y          │          0 │          36 │             0 │         0 │           0 │        0 │ NULL    │ NULL    │ NULL        │       0 │      5 │   2009 │ New      │ Partial       │    287090 │\n",
       "│  1453 │        180 │ RM       │        35.0 │    3675 │ Pave    │ NULL    │ Reg      │ Lvl         │ AllPub    │ Inside    │ Gtl       │ Edwards      │ Norm       │ Norm       │ TwnhsE   │ SLvl       │           5 │           5 │      2005 │         2005 │ Gable     │ CompShg  │ VinylSd     │ VinylSd     │ BrkFace    │       80.0 │ TA        │ TA        │ PConc      │ Gd       │ TA       │ Gd           │ GLQ          │        547 │ Unf          │          0 │         0 │         547 │ GasA    │ Gd        │ Y          │ SBrkr      │     1072 │        0 │            0 │      1072 │            1 │            0 │        1 │        0 │            2 │            1 │ TA          │            5 │ Typ        │          0 │ NULL        │ Basment    │      2005.0 │ Fin          │          2 │        525 │ TA         │ TA         │ Y          │          0 │          28 │             0 │         0 │           0 │        0 │ NULL    │ NULL    │ NULL        │       0 │      5 │   2006 │ WD       │ Normal        │    145000 │\n",
       "│  1454 │         20 │ RL       │        90.0 │   17217 │ Pave    │ NULL    │ Reg      │ Lvl         │ AllPub    │ Inside    │ Gtl       │ Mitchel      │ Norm       │ Norm       │ 1Fam     │ 1Story     │           5 │           5 │      2006 │         2006 │ Gable     │ CompShg  │ VinylSd     │ VinylSd     │ NULL       │        0.0 │ TA        │ TA        │ PConc      │ Gd       │ TA       │ No           │ Unf          │          0 │ Unf          │          0 │      1140 │        1140 │ GasA    │ Ex        │ Y          │ SBrkr      │     1140 │        0 │            0 │      1140 │            0 │            0 │        1 │        0 │            3 │            1 │ TA          │            6 │ Typ        │          0 │ NULL        │ NULL       │        NULL │ NULL         │          0 │          0 │ NULL       │ NULL       │ Y          │         36 │          56 │             0 │         0 │           0 │        0 │ NULL    │ NULL    │ NULL        │       0 │      7 │   2006 │ WD       │ Abnorml       │     84500 │\n",
       "│  1455 │         20 │ FV       │        62.0 │    7500 │ Pave    │ Pave    │ Reg      │ Lvl         │ AllPub    │ Inside    │ Gtl       │ Somerst      │ Norm       │ Norm       │ 1Fam     │ 1Story     │           7 │           5 │      2004 │         2005 │ Gable     │ CompShg  │ VinylSd     │ VinylSd     │ NULL       │        0.0 │ Gd        │ TA        │ PConc      │ Gd       │ TA       │ No           │ GLQ          │        410 │ Unf          │          0 │       811 │        1221 │ GasA    │ Ex        │ Y          │ SBrkr      │     1221 │        0 │            0 │      1221 │            1 │            0 │        2 │        0 │            2 │            1 │ Gd          │            6 │ Typ        │          0 │ NULL        │ Attchd     │      2004.0 │ RFn          │          2 │        400 │ TA         │ TA         │ Y          │          0 │         113 │             0 │         0 │           0 │        0 │ NULL    │ NULL    │ NULL        │       0 │     10 │   2009 │ WD       │ Normal        │    185000 │\n",
       "│  1456 │         60 │ RL       │        62.0 │    7917 │ Pave    │ NULL    │ Reg      │ Lvl         │ AllPub    │ Inside    │ Gtl       │ Gilbert      │ Norm       │ Norm       │ 1Fam     │ 2Story     │           6 │           5 │      1999 │         2000 │ Gable     │ CompShg  │ VinylSd     │ VinylSd     │ NULL       │        0.0 │ TA        │ TA        │ PConc      │ Gd       │ TA       │ No           │ Unf          │          0 │ Unf          │          0 │       953 │         953 │ GasA    │ Ex        │ Y          │ SBrkr      │      953 │      694 │            0 │      1647 │            0 │            0 │        2 │        1 │            3 │            1 │ TA          │            7 │ Typ        │          1 │ TA          │ Attchd     │      1999.0 │ RFn          │          2 │        460 │ TA         │ TA         │ Y          │          0 │          40 │             0 │         0 │           0 │        0 │ NULL    │ NULL    │ NULL        │       0 │      8 │   2007 │ WD       │ Normal        │    175000 │\n",
       "│  1457 │         20 │ RL       │        85.0 │   13175 │ Pave    │ NULL    │ Reg      │ Lvl         │ AllPub    │ Inside    │ Gtl       │ NWAmes       │ Norm       │ Norm       │ 1Fam     │ 1Story     │           6 │           6 │      1978 │         1988 │ Gable     │ CompShg  │ Plywood     │ Plywood     │ Stone      │      119.0 │ TA        │ TA        │ CBlock     │ Gd       │ TA       │ No           │ ALQ          │        790 │ Rec          │        163 │       589 │        1542 │ GasA    │ TA        │ Y          │ SBrkr      │     2073 │        0 │            0 │      2073 │            1 │            0 │        2 │        0 │            3 │            1 │ TA          │            7 │ Min1       │          2 │ TA          │ Attchd     │      1978.0 │ Unf          │          2 │        500 │ TA         │ TA         │ Y          │        349 │           0 │             0 │         0 │           0 │        0 │ NULL    │ MnPrv   │ NULL        │       0 │      2 │   2010 │ WD       │ Normal        │    210000 │\n",
       "│  1458 │         70 │ RL       │        66.0 │    9042 │ Pave    │ NULL    │ Reg      │ Lvl         │ AllPub    │ Inside    │ Gtl       │ Crawfor      │ Norm       │ Norm       │ 1Fam     │ 2Story     │           7 │           9 │      1941 │         2006 │ Gable     │ CompShg  │ CemntBd     │ CmentBd     │ NULL       │        0.0 │ Ex        │ Gd        │ Stone      │ TA       │ Gd       │ No           │ GLQ          │        275 │ Unf          │          0 │       877 │        1152 │ GasA    │ Ex        │ Y          │ SBrkr      │     1188 │     1152 │            0 │      2340 │            0 │            0 │        2 │        0 │            4 │            1 │ Gd          │            9 │ Typ        │          2 │ Gd          │ Attchd     │      1941.0 │ RFn          │          1 │        252 │ TA         │ TA         │ Y          │          0 │          60 │             0 │         0 │           0 │        0 │ NULL    │ GdPrv   │ Shed        │    2500 │      5 │   2010 │ WD       │ Normal        │    266500 │\n",
       "│  1459 │         20 │ RL       │        68.0 │    9717 │ Pave    │ NULL    │ Reg      │ Lvl         │ AllPub    │ Inside    │ Gtl       │ NAmes        │ Norm       │ Norm       │ 1Fam     │ 1Story     │           5 │           6 │      1950 │         1996 │ Hip       │ CompShg  │ MetalSd     │ MetalSd     │ NULL       │        0.0 │ TA        │ TA        │ CBlock     │ TA       │ TA       │ Mn           │ GLQ          │         49 │ Rec          │       1029 │         0 │        1078 │ GasA    │ Gd        │ Y          │ FuseA      │     1078 │        0 │            0 │      1078 │            1 │            0 │        1 │        0 │            2 │            1 │ Gd          │            5 │ Typ        │          0 │ NULL        │ Attchd     │      1950.0 │ Unf          │          1 │        240 │ TA         │ TA         │ Y          │        366 │           0 │           112 │         0 │           0 │        0 │ NULL    │ NULL    │ NULL        │       0 │      4 │   2010 │ WD       │ Normal        │    142125 │\n",
       "│  1460 │         20 │ RL       │        75.0 │    9937 │ Pave    │ NULL    │ Reg      │ Lvl         │ AllPub    │ Inside    │ Gtl       │ Edwards      │ Norm       │ Norm       │ 1Fam     │ 1Story     │           5 │           6 │      1965 │         1965 │ Gable     │ CompShg  │ HdBoard     │ HdBoard     │ NULL       │        0.0 │ Gd        │ TA        │ CBlock     │ TA       │ TA       │ No           │ BLQ          │        830 │ LwQ          │        290 │       136 │        1256 │ GasA    │ Gd        │ Y          │ SBrkr      │     1256 │        0 │            0 │      1256 │            1 │            0 │        1 │        1 │            3 │            1 │ TA          │            6 │ Typ        │          0 │ NULL        │ Attchd     │      1965.0 │ Fin          │          1 │        276 │ TA         │ TA         │ Y          │        736 │          68 │             0 │         0 │           0 │        0 │ NULL    │ NULL    │ NULL        │       0 │      6 │   2008 │ WD       │ Normal        │    147500 │\n",
       "├───────┴────────────┴──────────┴─────────────┴─────────┴─────────┴─────────┴──────────┴─────────────┴───────────┴───────────┴───────────┴──────────────┴────────────┴────────────┴──────────┴────────────┴─────────────┴─────────────┴───────────┴──────────────┴───────────┴──────────┴─────────────┴─────────────┴────────────┴────────────┴───────────┴───────────┴────────────┴──────────┴──────────┴──────────────┴──────────────┴────────────┴──────────────┴────────────┴───────────┴─────────────┴─────────┴───────────┴────────────┴────────────┴──────────┴──────────┴──────────────┴───────────┴──────────────┴──────────────┴──────────┴──────────┴──────────────┴──────────────┴─────────────┴──────────────┴────────────┴────────────┴─────────────┴────────────┴─────────────┴──────────────┴────────────┴────────────┴────────────┴────────────┴────────────┴────────────┴─────────────┴───────────────┴───────────┴─────────────┴──────────┴─────────┴─────────┴─────────────┴─────────┴────────┴────────┴──────────┴───────────────┴───────────┤\n",
       "│ 1460 rows (20 shown)                                                                                                                                                                                                                                                                                                                                                                                                                                                                                                                                                                                                                                                                                                                                                                                                                                                                                                                                                                                                                                 81 columns │\n",
       "└─────────────────────────────────────────────────────────────────────────────────────────────────────────────────────────────────────────────────────────────────────────────────────────────────────────────────────────────────────────────────────────────────────────────────────────────────────────────────────────────────────────────────────────────────────────────────────────────────────────────────────────────────────────────────────────────────────────────────────────────────────────────────────────────────────────────────────────────────────────────────────────────────────────────────────────────────────────────────────────────────────────────────────────────────────────────────────────────────────────────────────────────────────────────────────────────────────────────────────────────────────────────────────────────────────────────────────────────────────────────────────────────────────────────────────────────────────────────────────────────────────────────────────────────────────────────────────────────────┘"
      ]
     },
     "execution_count": 47,
     "metadata": {},
     "output_type": "execute_result"
    }
   ],
   "source": [
    "duckdb.sql(\"SELECT * FROM pd_train_csv\")"
   ]
  },
  {
   "cell_type": "code",
   "execution_count": 48,
   "id": "699a230a-8b4e-4670-9020-4ccd61934511",
   "metadata": {},
   "outputs": [
    {
     "data": {
      "text/plain": [
       "┌─────────────┬────────────────────┐\n",
       "│ total_house │  avg_sales_price   │\n",
       "│    int64    │       double       │\n",
       "├─────────────┼────────────────────┤\n",
       "│        1460 │ 180921.19589041095 │\n",
       "└─────────────┴────────────────────┘"
      ]
     },
     "execution_count": 48,
     "metadata": {},
     "output_type": "execute_result"
    }
   ],
   "source": [
    "duckdb.sql(\"SELECT Count(Id) as total_house, AVG(SalePrice) as avg_sales_price FROM pd_train_csv\")"
   ]
  },
  {
   "cell_type": "markdown",
   "id": "6d3a981e-1549-40c7-93f7-ff3a2a2193ae",
   "metadata": {},
   "source": [
    "## Second step - Write data"
   ]
  },
  {
   "cell_type": "code",
   "execution_count": null,
   "id": "16359e41-1038-4439-bfa0-0bd718e99b77",
   "metadata": {},
   "outputs": [],
   "source": []
  },
  {
   "cell_type": "code",
   "execution_count": null,
   "id": "a79bef95-5733-4776-8fea-1052797beb46",
   "metadata": {},
   "outputs": [],
   "source": []
  },
  {
   "cell_type": "markdown",
   "id": "e63f794c-8a62-472c-bb98-a2203ad8e55b",
   "metadata": {},
   "source": [
    "## Third step - Delete data"
   ]
  },
  {
   "cell_type": "code",
   "execution_count": null,
   "id": "911849ff-5805-4b9e-a0d7-0e44147c1dea",
   "metadata": {},
   "outputs": [],
   "source": []
  },
  {
   "cell_type": "code",
   "execution_count": null,
   "id": "582efad9-fa69-4c84-b153-02b6a426cc70",
   "metadata": {},
   "outputs": [],
   "source": []
  },
  {
   "cell_type": "markdown",
   "id": "b6a2b0e4-b94e-402a-adae-dfc3a11b8f88",
   "metadata": {},
   "source": [
    "## Fourth step - Update"
   ]
  },
  {
   "cell_type": "code",
   "execution_count": null,
   "id": "57025104-ce5e-44e2-9317-fd6b71f9bc29",
   "metadata": {},
   "outputs": [],
   "source": []
  },
  {
   "cell_type": "code",
   "execution_count": null,
   "id": "42b2088f-b105-4a8e-b054-983c87f5effe",
   "metadata": {},
   "outputs": [],
   "source": []
  },
  {
   "cell_type": "code",
   "execution_count": null,
   "id": "4670688b-3e4b-439f-a377-5c2c85ea2310",
   "metadata": {},
   "outputs": [],
   "source": []
  },
  {
   "cell_type": "markdown",
   "id": "2a4df54d-02e1-4cdf-99d7-5909239770ba",
   "metadata": {},
   "source": [
    "## Fifth step - Configuration/Memory"
   ]
  },
  {
   "cell_type": "code",
   "execution_count": null,
   "id": "9fa9d6eb-192a-4110-ae6e-53b0e354f408",
   "metadata": {},
   "outputs": [],
   "source": []
  }
 ],
 "metadata": {
  "kernelspec": {
   "display_name": "Python 3 (ipykernel)",
   "language": "python",
   "name": "python3"
  },
  "language_info": {
   "codemirror_mode": {
    "name": "ipython",
    "version": 3
   },
   "file_extension": ".py",
   "mimetype": "text/x-python",
   "name": "python",
   "nbconvert_exporter": "python",
   "pygments_lexer": "ipython3",
   "version": "3.12.0"
  }
 },
 "nbformat": 4,
 "nbformat_minor": 5
}
