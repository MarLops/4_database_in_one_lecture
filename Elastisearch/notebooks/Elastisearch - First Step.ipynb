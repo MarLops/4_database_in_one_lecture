{
 "cells": [
  {
   "cell_type": "markdown",
   "id": "535b2782-11fd-4be6-aa47-1d58a2dc6a37",
   "metadata": {},
   "source": [
    "## Elastisearch"
   ]
  },
  {
   "cell_type": "code",
   "execution_count": 1,
   "id": "8bcefbfa-b6ae-4bcd-883c-d5053b0ea7e3",
   "metadata": {},
   "outputs": [],
   "source": [
    "from elasticsearch import Elasticsearch"
   ]
  },
  {
   "cell_type": "code",
   "execution_count": 2,
   "id": "5bdcca8a-8dbe-483b-860c-7e2935bdc3ca",
   "metadata": {},
   "outputs": [],
   "source": [
    "USERNAME = 'elastic'\n",
    "PASSWORD =  'test10'\n",
    "HOST = 'http://192.168.0.17:9200'"
   ]
  },
  {
   "cell_type": "code",
   "execution_count": 3,
   "id": "b6114129-a241-45f1-bfac-002f44e1c5fd",
   "metadata": {},
   "outputs": [],
   "source": [
    "client = Elasticsearch(\n",
    "    HOST,\n",
    "    basic_auth=(USERNAME,PASSWORD)\n",
    ")"
   ]
  },
  {
   "cell_type": "code",
   "execution_count": 4,
   "id": "8487e6c8-9392-4544-9308-f7ce341af16d",
   "metadata": {},
   "outputs": [
    {
     "data": {
      "text/plain": [
       "ObjectApiResponse({'name': '2e434281bcb4', 'cluster_name': 'docker-cluster', 'cluster_uuid': 'M_MRJ2p6SLGZLngE4lpOig', 'version': {'number': '8.5.3', 'build_flavor': 'default', 'build_type': 'docker', 'build_hash': '4ed5ee9afac63de92ec98f404ccbed7d3ba9584e', 'build_date': '2022-12-05T18:22:22.226119656Z', 'build_snapshot': False, 'lucene_version': '9.4.2', 'minimum_wire_compatibility_version': '7.17.0', 'minimum_index_compatibility_version': '7.0.0'}, 'tagline': 'You Know, for Search'})"
      ]
     },
     "execution_count": 4,
     "metadata": {},
     "output_type": "execute_result"
    }
   ],
   "source": [
    "client.info()"
   ]
  },
  {
   "cell_type": "markdown",
   "id": "05583d01-5a22-4040-a81d-e4f0c27059e7",
   "metadata": {},
   "source": [
    "# First step - Write"
   ]
  },
  {
   "cell_type": "code",
   "execution_count": 5,
   "id": "a1a30382-cb62-4768-83f0-a4b889558394",
   "metadata": {},
   "outputs": [],
   "source": [
    "Levanta_anda = {\n",
    "    \"artista\": \"Emicida\",\n",
    "    \"nome\": \"Levanta e Anda\",\n",
    "    \"ano\": 2014,\n",
    "    \"letra\": \"\"\"Era um cômodo incômodo\n",
    "Sujo como o dragão-de-komodo, úmido\n",
    "Eu, homem da casa aos seis anos\n",
    "Mofo no canto todo, TV, engodo, pronto pro lodo\n",
    "Tímido, porra, somos reis, mano\n",
    "Olhos são eletrodos, sério, topo, trombo corvos\n",
    "Num cemitério de sonhos graças a leis, planos\n",
    "Troco de jogo, vendo, roubo\n",
    "Pus a cabeça a prêmio, ingênuo\n",
    "Colhi sorrisos e falei: Vamos\n",
    "É um novo tempo, momento pro novo, ao sabor do vento\n",
    "Eu me movo pelo solo onde reinamos\n",
    "Pondo pontos finais na dor como Doril, Anador\n",
    "Somos a luz do Senhor e pode crer\n",
    "Tamo construindo, suponho, não, creio, meto a mão\n",
    "Em meio à escuridão, pronto, acertamos\n",
    "Nosso sorriso sereno hoje é o veneno\n",
    "Pra quem trouxe tanto ódio pra onde deitamos\n",
    "\n",
    "Quem costuma vir de onde eu sou\n",
    "Às vezes não tem motivos pra seguir\n",
    "Então levanta e anda\n",
    "Vai, levanta e anda\n",
    "Vai, levanta e anda\n",
    "Mas eu sei que vai\n",
    "Que o sonho te traz coisas que te faz prosseguir\n",
    "Vai, levanta e anda\n",
    "Vai, levanta e anda\n",
    "Vai, levanta e anda\n",
    "Vai, levanta e anda\n",
    "\n",
    "Irmão\n",
    "Você não percebeu que você é o único representante do seu sonho na face da Terra?\n",
    "Se isso não fizer você correr, chapa\n",
    "Eu não sei o que vai\n",
    "\n",
    "Eu sei (sei)\n",
    "Cansa\n",
    "Quem morre ao fim do mês\n",
    "Nossa grana ou nossa esperança?\n",
    "Delírio é\n",
    "Equilíbrio\n",
    "Entre nosso martírio e nossa fé\n",
    "Foi foda contar migalha nos escombro\n",
    "Lona preta esticadas, enxada no ombro, e nada vim\n",
    "Nada, enfim, recria sozinho\n",
    "Com a alma cheia de mágoa e as panela vazia\n",
    "Sonho imundo\n",
    "Só água na geladeira e eu querendo salvar o mundo\n",
    "No fundo, é tipo David Blaine\n",
    "A mãe assume, o pai some, de costume\n",
    "No máximo é um sobrenome\n",
    "Sou o terror dos clone\n",
    "Esses boy conhece Marx, nós conhece a fome\n",
    "Então cerra os punho, sorria\n",
    "E jamais volte pra sua quebrada de mão e mente vazia\n",
    "\n",
    "Quem costuma vir de onde eu sou\n",
    "Às vezes não tem motivos pra seguir\n",
    "Então levanta e anda\n",
    "Vai, levanta e anda\n",
    "Vai, levanta e anda\n",
    "Mas eu sei que vai\n",
    "Que o sonho te traz coisas que te faz prosseguir\n",
    "Então levanta e anda\n",
    "Vai, levanta e anda\n",
    "Vai, levanta e anda\n",
    "Vai, levanta e anda\n",
    "\n",
    "Somos maior\n",
    "Nos basta só\n",
    "Sonhar, seguir\"\"\"\n",
    "}\n"
   ]
  },
  {
   "cell_type": "code",
   "execution_count": 6,
   "id": "20a950a4-d7b3-4770-81fd-40867fcb2f79",
   "metadata": {},
   "outputs": [],
   "source": [
    "if not client.indices.exists(index='letras_v1'):\n",
    "    client.indices.create(index=\"letras_v1\")"
   ]
  },
  {
   "cell_type": "code",
   "execution_count": 7,
   "id": "d6e24938-e2f2-4bfc-9f36-9ebf38b0f0d2",
   "metadata": {},
   "outputs": [],
   "source": [
    "obj = client.index(\n",
    "    index=\"letras_v1\",\n",
    "    document=Levanta_anda\n",
    ")"
   ]
  },
  {
   "cell_type": "code",
   "execution_count": 8,
   "id": "b379ec5d-450c-4558-b90b-5988da56e06d",
   "metadata": {},
   "outputs": [
    {
     "data": {
      "text/plain": [
       "ObjectApiResponse({'_index': 'letras_v1', '_id': 'bKncxpQB2E_3w8_EX93c', '_version': 1, 'result': 'created', '_shards': {'total': 2, 'successful': 1, 'failed': 0}, '_seq_no': 2, '_primary_term': 1})"
      ]
     },
     "execution_count": 8,
     "metadata": {},
     "output_type": "execute_result"
    }
   ],
   "source": [
    "obj"
   ]
  },
  {
   "cell_type": "code",
   "execution_count": 9,
   "id": "6257979b-5216-4c95-991d-f689401354ea",
   "metadata": {},
   "outputs": [],
   "source": [
    "id_obj = obj['_id']"
   ]
  },
  {
   "cell_type": "code",
   "execution_count": 10,
   "id": "df3b6210-be80-4e03-93ea-bbe0371b802d",
   "metadata": {},
   "outputs": [
    {
     "data": {
      "text/plain": [
       "ObjectApiResponse({'letras_v1': {'aliases': {}, 'mappings': {'properties': {'ano': {'type': 'long'}, 'artista': {'type': 'text', 'fields': {'keyword': {'type': 'keyword', 'ignore_above': 256}}}, 'letra': {'type': 'text', 'fields': {'keyword': {'type': 'keyword', 'ignore_above': 256}}}, 'nome': {'type': 'text', 'fields': {'keyword': {'type': 'keyword', 'ignore_above': 256}}}}}, 'settings': {'index': {'routing': {'allocation': {'include': {'_tier_preference': 'data_content'}}}, 'number_of_shards': '1', 'provided_name': 'letras_v1', 'creation_date': '1738501533129', 'number_of_replicas': '1', 'uuid': '96yidx7kT7Ogqv9udPJx5Q', 'version': {'created': '8050399'}}}}})"
      ]
     },
     "execution_count": 10,
     "metadata": {},
     "output_type": "execute_result"
    }
   ],
   "source": [
    "client.indices.get(index='letras_v1')"
   ]
  },
  {
   "cell_type": "markdown",
   "id": "e53965ab-0d17-492f-b2e1-11365d03db2b",
   "metadata": {},
   "source": [
    "## Second step - Read/Search"
   ]
  },
  {
   "cell_type": "code",
   "execution_count": 11,
   "id": "1c2fa4d2-98b4-4b1e-b0af-59fb55873229",
   "metadata": {},
   "outputs": [],
   "source": [
    "levanta_anda_es = client.get(index='letras_v1',id=id_obj)"
   ]
  },
  {
   "cell_type": "code",
   "execution_count": 12,
   "id": "b0a367ff-4cd5-4c5e-a1fb-d10ea60fbf7f",
   "metadata": {},
   "outputs": [
    {
     "data": {
      "text/plain": [
       "ObjectApiResponse({'_index': 'letras_v1', '_id': 'bKncxpQB2E_3w8_EX93c', '_version': 1, '_seq_no': 2, '_primary_term': 1, 'found': True, '_source': {'artista': 'Emicida', 'nome': 'Levanta e Anda', 'ano': 2014, 'letra': 'Era um cômodo incômodo\\nSujo como o dragão-de-komodo, úmido\\nEu, homem da casa aos seis anos\\nMofo no canto todo, TV, engodo, pronto pro lodo\\nTímido, porra, somos reis, mano\\nOlhos são eletrodos, sério, topo, trombo corvos\\nNum cemitério de sonhos graças a leis, planos\\nTroco de jogo, vendo, roubo\\nPus a cabeça a prêmio, ingênuo\\nColhi sorrisos e falei: Vamos\\nÉ um novo tempo, momento pro novo, ao sabor do vento\\nEu me movo pelo solo onde reinamos\\nPondo pontos finais na dor como Doril, Anador\\nSomos a luz do Senhor e pode crer\\nTamo construindo, suponho, não, creio, meto a mão\\nEm meio à escuridão, pronto, acertamos\\nNosso sorriso sereno hoje é o veneno\\nPra quem trouxe tanto ódio pra onde deitamos\\n\\nQuem costuma vir de onde eu sou\\nÀs vezes não tem motivos pra seguir\\nEntão levanta e anda\\nVai, levanta e anda\\nVai, levanta e anda\\nMas eu sei que vai\\nQue o sonho te traz coisas que te faz prosseguir\\nVai, levanta e anda\\nVai, levanta e anda\\nVai, levanta e anda\\nVai, levanta e anda\\n\\nIrmão\\nVocê não percebeu que você é o único representante do seu sonho na face da Terra?\\nSe isso não fizer você correr, chapa\\nEu não sei o que vai\\n\\nEu sei (sei)\\nCansa\\nQuem morre ao fim do mês\\nNossa grana ou nossa esperança?\\nDelírio é\\nEquilíbrio\\nEntre nosso martírio e nossa fé\\nFoi foda contar migalha nos escombro\\nLona preta esticadas, enxada no ombro, e nada vim\\nNada, enfim, recria sozinho\\nCom a alma cheia de mágoa e as panela vazia\\nSonho imundo\\nSó água na geladeira e eu querendo salvar o mundo\\nNo fundo, é tipo David Blaine\\nA mãe assume, o pai some, de costume\\nNo máximo é um sobrenome\\nSou o terror dos clone\\nEsses boy conhece Marx, nós conhece a fome\\nEntão cerra os punho, sorria\\nE jamais volte pra sua quebrada de mão e mente vazia\\n\\nQuem costuma vir de onde eu sou\\nÀs vezes não tem motivos pra seguir\\nEntão levanta e anda\\nVai, levanta e anda\\nVai, levanta e anda\\nMas eu sei que vai\\nQue o sonho te traz coisas que te faz prosseguir\\nEntão levanta e anda\\nVai, levanta e anda\\nVai, levanta e anda\\nVai, levanta e anda\\n\\nSomos maior\\nNos basta só\\nSonhar, seguir'}})"
      ]
     },
     "execution_count": 12,
     "metadata": {},
     "output_type": "execute_result"
    }
   ],
   "source": [
    "levanta_anda_es"
   ]
  },
  {
   "cell_type": "code",
   "execution_count": 13,
   "id": "8f5a6316-64bb-40b9-a130-a99e40a54a55",
   "metadata": {},
   "outputs": [
    {
     "data": {
      "text/plain": [
       "ObjectApiResponse({'took': 615, 'timed_out': False, '_shards': {'total': 1, 'successful': 1, 'skipped': 0, 'failed': 0}, 'hits': {'total': {'value': 3, 'relation': 'eq'}, 'max_score': 0.13353139, 'hits': [{'_index': 'letras_v1', '_id': 'aqnExpQB2E_3w8_ELt2Q', '_score': 0.13353139, '_ignored': ['letra.keyword'], '_source': {'artista': 'Emicida', 'nome': 'Levanta e Anda', 'ano': 2014, 'letra': 'Era um cômodo incômodo\\nSujo como o dragão-de-komodo, úmido\\nEu, homem da casa aos seis anos\\nMofo no canto todo, TV, engodo, pronto pro lodo\\nTímido, porra, somos reis, mano\\nOlhos são eletrodos, sério, topo, trombo corvos\\nNum cemitério de sonhos graças a leis, planos\\nTroco de jogo, vendo, roubo\\nPus a cabeça a prêmio, ingênuo\\nColhi sorrisos e falei: Vamos\\nÉ um novo tempo, momento pro novo, ao sabor do vento\\nEu me movo pelo solo onde reinamos\\nPondo pontos finais na dor como Doril, Anador\\nSomos a luz do Senhor e pode crer\\nTamo construindo, suponho, não, creio, meto a mão\\nEm meio à escuridão, pronto, acertamos\\nNosso sorriso sereno hoje é o veneno\\nPra quem trouxe tanto ódio pra onde deitamos\\n\\nQuem costuma vir de onde eu sou\\nÀs vezes não tem motivos pra seguir\\nEntão levanta e anda\\nVai, levanta e anda\\nVai, levanta e anda\\nMas eu sei que vai\\nQue o sonho te traz coisas que te faz prosseguir\\nVai, levanta e anda\\nVai, levanta e anda\\nVai, levanta e anda\\nVai, levanta e anda\\n\\nIrmão\\nVocê não percebeu que você é o único representante do seu sonho na face da Terra?\\nSe isso não fizer você correr, chapa\\nEu não sei o que vai\\n\\nEu sei (sei)\\nCansa\\nQuem morre ao fim do mês\\nNossa grana ou nossa esperança?\\nDelírio é\\nEquilíbrio\\nEntre nosso martírio e nossa fé\\nFoi foda contar migalha nos escombro\\nLona preta esticadas, enxada no ombro, e nada vim\\nNada, enfim, recria sozinho\\nCom a alma cheia de mágoa e as panela vazia\\nSonho imundo\\nSó água na geladeira e eu querendo salvar o mundo\\nNo fundo, é tipo David Blaine\\nA mãe assume, o pai some, de costume\\nNo máximo é um sobrenome\\nSou o terror dos clone\\nEsses boy conhece Marx, nós conhece a fome\\nEntão cerra os punho, sorria\\nE jamais volte pra sua quebrada de mão e mente vazia\\n\\nQuem costuma vir de onde eu sou\\nÀs vezes não tem motivos pra seguir\\nEntão levanta e anda\\nVai, levanta e anda\\nVai, levanta e anda\\nMas eu sei que vai\\nQue o sonho te traz coisas que te faz prosseguir\\nEntão levanta e anda\\nVai, levanta e anda\\nVai, levanta e anda\\nVai, levanta e anda\\n\\nSomos maior\\nNos basta só\\nSonhar, seguir'}}, {'_index': 'letras_v1', '_id': 'a6nGxpQB2E_3w8_EaN18', '_score': 0.13353139, '_ignored': ['letra.keyword'], '_source': {'artista': 'Emicida', 'nome': 'Levanta e Anda', 'ano': 2014, 'letra': 'Era um cômodo incômodo\\nSujo como o dragão-de-komodo, úmido\\nEu, homem da casa aos seis anos\\nMofo no canto todo, TV, engodo, pronto pro lodo\\nTímido, porra, somos reis, mano\\nOlhos são eletrodos, sério, topo, trombo corvos\\nNum cemitério de sonhos graças a leis, planos\\nTroco de jogo, vendo, roubo\\nPus a cabeça a prêmio, ingênuo\\nColhi sorrisos e falei: Vamos\\nÉ um novo tempo, momento pro novo, ao sabor do vento\\nEu me movo pelo solo onde reinamos\\nPondo pontos finais na dor como Doril, Anador\\nSomos a luz do Senhor e pode crer\\nTamo construindo, suponho, não, creio, meto a mão\\nEm meio à escuridão, pronto, acertamos\\nNosso sorriso sereno hoje é o veneno\\nPra quem trouxe tanto ódio pra onde deitamos\\n\\nQuem costuma vir de onde eu sou\\nÀs vezes não tem motivos pra seguir\\nEntão levanta e anda\\nVai, levanta e anda\\nVai, levanta e anda\\nMas eu sei que vai\\nQue o sonho te traz coisas que te faz prosseguir\\nVai, levanta e anda\\nVai, levanta e anda\\nVai, levanta e anda\\nVai, levanta e anda\\n\\nIrmão\\nVocê não percebeu que você é o único representante do seu sonho na face da Terra?\\nSe isso não fizer você correr, chapa\\nEu não sei o que vai\\n\\nEu sei (sei)\\nCansa\\nQuem morre ao fim do mês\\nNossa grana ou nossa esperança?\\nDelírio é\\nEquilíbrio\\nEntre nosso martírio e nossa fé\\nFoi foda contar migalha nos escombro\\nLona preta esticadas, enxada no ombro, e nada vim\\nNada, enfim, recria sozinho\\nCom a alma cheia de mágoa e as panela vazia\\nSonho imundo\\nSó água na geladeira e eu querendo salvar o mundo\\nNo fundo, é tipo David Blaine\\nA mãe assume, o pai some, de costume\\nNo máximo é um sobrenome\\nSou o terror dos clone\\nEsses boy conhece Marx, nós conhece a fome\\nEntão cerra os punho, sorria\\nE jamais volte pra sua quebrada de mão e mente vazia\\n\\nQuem costuma vir de onde eu sou\\nÀs vezes não tem motivos pra seguir\\nEntão levanta e anda\\nVai, levanta e anda\\nVai, levanta e anda\\nMas eu sei que vai\\nQue o sonho te traz coisas que te faz prosseguir\\nEntão levanta e anda\\nVai, levanta e anda\\nVai, levanta e anda\\nVai, levanta e anda\\n\\nSomos maior\\nNos basta só\\nSonhar, seguir'}}, {'_index': 'letras_v1', '_id': 'bKncxpQB2E_3w8_EX93c', '_score': 0.13353139, '_ignored': ['letra.keyword'], '_source': {'artista': 'Emicida', 'nome': 'Levanta e Anda', 'ano': 2014, 'letra': 'Era um cômodo incômodo\\nSujo como o dragão-de-komodo, úmido\\nEu, homem da casa aos seis anos\\nMofo no canto todo, TV, engodo, pronto pro lodo\\nTímido, porra, somos reis, mano\\nOlhos são eletrodos, sério, topo, trombo corvos\\nNum cemitério de sonhos graças a leis, planos\\nTroco de jogo, vendo, roubo\\nPus a cabeça a prêmio, ingênuo\\nColhi sorrisos e falei: Vamos\\nÉ um novo tempo, momento pro novo, ao sabor do vento\\nEu me movo pelo solo onde reinamos\\nPondo pontos finais na dor como Doril, Anador\\nSomos a luz do Senhor e pode crer\\nTamo construindo, suponho, não, creio, meto a mão\\nEm meio à escuridão, pronto, acertamos\\nNosso sorriso sereno hoje é o veneno\\nPra quem trouxe tanto ódio pra onde deitamos\\n\\nQuem costuma vir de onde eu sou\\nÀs vezes não tem motivos pra seguir\\nEntão levanta e anda\\nVai, levanta e anda\\nVai, levanta e anda\\nMas eu sei que vai\\nQue o sonho te traz coisas que te faz prosseguir\\nVai, levanta e anda\\nVai, levanta e anda\\nVai, levanta e anda\\nVai, levanta e anda\\n\\nIrmão\\nVocê não percebeu que você é o único representante do seu sonho na face da Terra?\\nSe isso não fizer você correr, chapa\\nEu não sei o que vai\\n\\nEu sei (sei)\\nCansa\\nQuem morre ao fim do mês\\nNossa grana ou nossa esperança?\\nDelírio é\\nEquilíbrio\\nEntre nosso martírio e nossa fé\\nFoi foda contar migalha nos escombro\\nLona preta esticadas, enxada no ombro, e nada vim\\nNada, enfim, recria sozinho\\nCom a alma cheia de mágoa e as panela vazia\\nSonho imundo\\nSó água na geladeira e eu querendo salvar o mundo\\nNo fundo, é tipo David Blaine\\nA mãe assume, o pai some, de costume\\nNo máximo é um sobrenome\\nSou o terror dos clone\\nEsses boy conhece Marx, nós conhece a fome\\nEntão cerra os punho, sorria\\nE jamais volte pra sua quebrada de mão e mente vazia\\n\\nQuem costuma vir de onde eu sou\\nÀs vezes não tem motivos pra seguir\\nEntão levanta e anda\\nVai, levanta e anda\\nVai, levanta e anda\\nMas eu sei que vai\\nQue o sonho te traz coisas que te faz prosseguir\\nEntão levanta e anda\\nVai, levanta e anda\\nVai, levanta e anda\\nVai, levanta e anda\\n\\nSomos maior\\nNos basta só\\nSonhar, seguir'}}]}})"
      ]
     },
     "execution_count": 13,
     "metadata": {},
     "output_type": "execute_result"
    }
   ],
   "source": [
    "client.search(\n",
    "    index='letras_v1',\n",
    "    query={\n",
    "        \"match\":{\n",
    "            \"artista\":\"Emicida\"\n",
    "        }\n",
    "    }\n",
    ")"
   ]
  },
  {
   "cell_type": "code",
   "execution_count": 14,
   "id": "c1b347d5-45cf-43ad-b140-3f2cefcb84a2",
   "metadata": {},
   "outputs": [
    {
     "data": {
      "text/plain": [
       "ObjectApiResponse({'took': 2, 'timed_out': False, '_shards': {'total': 1, 'successful': 1, 'skipped': 0, 'failed': 0}, 'hits': {'total': {'value': 3, 'relation': 'eq'}, 'max_score': 0.13353139, 'hits': [{'_index': 'letras_v1', '_id': 'aqnExpQB2E_3w8_ELt2Q', '_score': 0.13353139, '_ignored': ['letra.keyword'], '_source': {'artista': 'Emicida', 'nome': 'Levanta e Anda', 'ano': 2014, 'letra': 'Era um cômodo incômodo\\nSujo como o dragão-de-komodo, úmido\\nEu, homem da casa aos seis anos\\nMofo no canto todo, TV, engodo, pronto pro lodo\\nTímido, porra, somos reis, mano\\nOlhos são eletrodos, sério, topo, trombo corvos\\nNum cemitério de sonhos graças a leis, planos\\nTroco de jogo, vendo, roubo\\nPus a cabeça a prêmio, ingênuo\\nColhi sorrisos e falei: Vamos\\nÉ um novo tempo, momento pro novo, ao sabor do vento\\nEu me movo pelo solo onde reinamos\\nPondo pontos finais na dor como Doril, Anador\\nSomos a luz do Senhor e pode crer\\nTamo construindo, suponho, não, creio, meto a mão\\nEm meio à escuridão, pronto, acertamos\\nNosso sorriso sereno hoje é o veneno\\nPra quem trouxe tanto ódio pra onde deitamos\\n\\nQuem costuma vir de onde eu sou\\nÀs vezes não tem motivos pra seguir\\nEntão levanta e anda\\nVai, levanta e anda\\nVai, levanta e anda\\nMas eu sei que vai\\nQue o sonho te traz coisas que te faz prosseguir\\nVai, levanta e anda\\nVai, levanta e anda\\nVai, levanta e anda\\nVai, levanta e anda\\n\\nIrmão\\nVocê não percebeu que você é o único representante do seu sonho na face da Terra?\\nSe isso não fizer você correr, chapa\\nEu não sei o que vai\\n\\nEu sei (sei)\\nCansa\\nQuem morre ao fim do mês\\nNossa grana ou nossa esperança?\\nDelírio é\\nEquilíbrio\\nEntre nosso martírio e nossa fé\\nFoi foda contar migalha nos escombro\\nLona preta esticadas, enxada no ombro, e nada vim\\nNada, enfim, recria sozinho\\nCom a alma cheia de mágoa e as panela vazia\\nSonho imundo\\nSó água na geladeira e eu querendo salvar o mundo\\nNo fundo, é tipo David Blaine\\nA mãe assume, o pai some, de costume\\nNo máximo é um sobrenome\\nSou o terror dos clone\\nEsses boy conhece Marx, nós conhece a fome\\nEntão cerra os punho, sorria\\nE jamais volte pra sua quebrada de mão e mente vazia\\n\\nQuem costuma vir de onde eu sou\\nÀs vezes não tem motivos pra seguir\\nEntão levanta e anda\\nVai, levanta e anda\\nVai, levanta e anda\\nMas eu sei que vai\\nQue o sonho te traz coisas que te faz prosseguir\\nEntão levanta e anda\\nVai, levanta e anda\\nVai, levanta e anda\\nVai, levanta e anda\\n\\nSomos maior\\nNos basta só\\nSonhar, seguir'}}, {'_index': 'letras_v1', '_id': 'a6nGxpQB2E_3w8_EaN18', '_score': 0.13353139, '_ignored': ['letra.keyword'], '_source': {'artista': 'Emicida', 'nome': 'Levanta e Anda', 'ano': 2014, 'letra': 'Era um cômodo incômodo\\nSujo como o dragão-de-komodo, úmido\\nEu, homem da casa aos seis anos\\nMofo no canto todo, TV, engodo, pronto pro lodo\\nTímido, porra, somos reis, mano\\nOlhos são eletrodos, sério, topo, trombo corvos\\nNum cemitério de sonhos graças a leis, planos\\nTroco de jogo, vendo, roubo\\nPus a cabeça a prêmio, ingênuo\\nColhi sorrisos e falei: Vamos\\nÉ um novo tempo, momento pro novo, ao sabor do vento\\nEu me movo pelo solo onde reinamos\\nPondo pontos finais na dor como Doril, Anador\\nSomos a luz do Senhor e pode crer\\nTamo construindo, suponho, não, creio, meto a mão\\nEm meio à escuridão, pronto, acertamos\\nNosso sorriso sereno hoje é o veneno\\nPra quem trouxe tanto ódio pra onde deitamos\\n\\nQuem costuma vir de onde eu sou\\nÀs vezes não tem motivos pra seguir\\nEntão levanta e anda\\nVai, levanta e anda\\nVai, levanta e anda\\nMas eu sei que vai\\nQue o sonho te traz coisas que te faz prosseguir\\nVai, levanta e anda\\nVai, levanta e anda\\nVai, levanta e anda\\nVai, levanta e anda\\n\\nIrmão\\nVocê não percebeu que você é o único representante do seu sonho na face da Terra?\\nSe isso não fizer você correr, chapa\\nEu não sei o que vai\\n\\nEu sei (sei)\\nCansa\\nQuem morre ao fim do mês\\nNossa grana ou nossa esperança?\\nDelírio é\\nEquilíbrio\\nEntre nosso martírio e nossa fé\\nFoi foda contar migalha nos escombro\\nLona preta esticadas, enxada no ombro, e nada vim\\nNada, enfim, recria sozinho\\nCom a alma cheia de mágoa e as panela vazia\\nSonho imundo\\nSó água na geladeira e eu querendo salvar o mundo\\nNo fundo, é tipo David Blaine\\nA mãe assume, o pai some, de costume\\nNo máximo é um sobrenome\\nSou o terror dos clone\\nEsses boy conhece Marx, nós conhece a fome\\nEntão cerra os punho, sorria\\nE jamais volte pra sua quebrada de mão e mente vazia\\n\\nQuem costuma vir de onde eu sou\\nÀs vezes não tem motivos pra seguir\\nEntão levanta e anda\\nVai, levanta e anda\\nVai, levanta e anda\\nMas eu sei que vai\\nQue o sonho te traz coisas que te faz prosseguir\\nEntão levanta e anda\\nVai, levanta e anda\\nVai, levanta e anda\\nVai, levanta e anda\\n\\nSomos maior\\nNos basta só\\nSonhar, seguir'}}, {'_index': 'letras_v1', '_id': 'bKncxpQB2E_3w8_EX93c', '_score': 0.13353139, '_ignored': ['letra.keyword'], '_source': {'artista': 'Emicida', 'nome': 'Levanta e Anda', 'ano': 2014, 'letra': 'Era um cômodo incômodo\\nSujo como o dragão-de-komodo, úmido\\nEu, homem da casa aos seis anos\\nMofo no canto todo, TV, engodo, pronto pro lodo\\nTímido, porra, somos reis, mano\\nOlhos são eletrodos, sério, topo, trombo corvos\\nNum cemitério de sonhos graças a leis, planos\\nTroco de jogo, vendo, roubo\\nPus a cabeça a prêmio, ingênuo\\nColhi sorrisos e falei: Vamos\\nÉ um novo tempo, momento pro novo, ao sabor do vento\\nEu me movo pelo solo onde reinamos\\nPondo pontos finais na dor como Doril, Anador\\nSomos a luz do Senhor e pode crer\\nTamo construindo, suponho, não, creio, meto a mão\\nEm meio à escuridão, pronto, acertamos\\nNosso sorriso sereno hoje é o veneno\\nPra quem trouxe tanto ódio pra onde deitamos\\n\\nQuem costuma vir de onde eu sou\\nÀs vezes não tem motivos pra seguir\\nEntão levanta e anda\\nVai, levanta e anda\\nVai, levanta e anda\\nMas eu sei que vai\\nQue o sonho te traz coisas que te faz prosseguir\\nVai, levanta e anda\\nVai, levanta e anda\\nVai, levanta e anda\\nVai, levanta e anda\\n\\nIrmão\\nVocê não percebeu que você é o único representante do seu sonho na face da Terra?\\nSe isso não fizer você correr, chapa\\nEu não sei o que vai\\n\\nEu sei (sei)\\nCansa\\nQuem morre ao fim do mês\\nNossa grana ou nossa esperança?\\nDelírio é\\nEquilíbrio\\nEntre nosso martírio e nossa fé\\nFoi foda contar migalha nos escombro\\nLona preta esticadas, enxada no ombro, e nada vim\\nNada, enfim, recria sozinho\\nCom a alma cheia de mágoa e as panela vazia\\nSonho imundo\\nSó água na geladeira e eu querendo salvar o mundo\\nNo fundo, é tipo David Blaine\\nA mãe assume, o pai some, de costume\\nNo máximo é um sobrenome\\nSou o terror dos clone\\nEsses boy conhece Marx, nós conhece a fome\\nEntão cerra os punho, sorria\\nE jamais volte pra sua quebrada de mão e mente vazia\\n\\nQuem costuma vir de onde eu sou\\nÀs vezes não tem motivos pra seguir\\nEntão levanta e anda\\nVai, levanta e anda\\nVai, levanta e anda\\nMas eu sei que vai\\nQue o sonho te traz coisas que te faz prosseguir\\nEntão levanta e anda\\nVai, levanta e anda\\nVai, levanta e anda\\nVai, levanta e anda\\n\\nSomos maior\\nNos basta só\\nSonhar, seguir'}}]}})"
      ]
     },
     "execution_count": 14,
     "metadata": {},
     "output_type": "execute_result"
    }
   ],
   "source": [
    "client.search(\n",
    "    index='letras_v1',\n",
    "    query={\n",
    "        \"match\":{\n",
    "            \"artista\":\"emicida\"\n",
    "        }\n",
    "    }\n",
    ")"
   ]
  },
  {
   "cell_type": "code",
   "execution_count": 15,
   "id": "22ffdca3-c174-4683-81cb-6fbc03edc399",
   "metadata": {},
   "outputs": [
    {
     "data": {
      "text/plain": [
       "ObjectApiResponse({'took': 5, 'timed_out': False, '_shards': {'total': 1, 'successful': 1, 'skipped': 0, 'failed': 0}, 'hits': {'total': {'value': 0, 'relation': 'eq'}, 'max_score': None, 'hits': []}})"
      ]
     },
     "execution_count": 15,
     "metadata": {},
     "output_type": "execute_result"
    }
   ],
   "source": [
    "client.search(\n",
    "    index='letras_v1',\n",
    "    query={\n",
    "        \"match\":{\n",
    "            \"artista.keyword\":\"emicida\"\n",
    "        }\n",
    "    }\n",
    ")"
   ]
  },
  {
   "cell_type": "code",
   "execution_count": 16,
   "id": "f2828da8-c5ed-4056-82df-652cdde1ef75",
   "metadata": {},
   "outputs": [
    {
     "data": {
      "text/plain": [
       "ObjectApiResponse({'took': 14, 'timed_out': False, '_shards': {'total': 1, 'successful': 1, 'skipped': 0, 'failed': 0}, 'hits': {'total': {'value': 3, 'relation': 'eq'}, 'max_score': 0.5273947, 'hits': [{'_index': 'letras_v1', '_id': 'aqnExpQB2E_3w8_ELt2Q', '_score': 0.5273947, '_ignored': ['letra.keyword'], '_source': {'artista': 'Emicida', 'nome': 'Levanta e Anda', 'ano': 2014, 'letra': 'Era um cômodo incômodo\\nSujo como o dragão-de-komodo, úmido\\nEu, homem da casa aos seis anos\\nMofo no canto todo, TV, engodo, pronto pro lodo\\nTímido, porra, somos reis, mano\\nOlhos são eletrodos, sério, topo, trombo corvos\\nNum cemitério de sonhos graças a leis, planos\\nTroco de jogo, vendo, roubo\\nPus a cabeça a prêmio, ingênuo\\nColhi sorrisos e falei: Vamos\\nÉ um novo tempo, momento pro novo, ao sabor do vento\\nEu me movo pelo solo onde reinamos\\nPondo pontos finais na dor como Doril, Anador\\nSomos a luz do Senhor e pode crer\\nTamo construindo, suponho, não, creio, meto a mão\\nEm meio à escuridão, pronto, acertamos\\nNosso sorriso sereno hoje é o veneno\\nPra quem trouxe tanto ódio pra onde deitamos\\n\\nQuem costuma vir de onde eu sou\\nÀs vezes não tem motivos pra seguir\\nEntão levanta e anda\\nVai, levanta e anda\\nVai, levanta e anda\\nMas eu sei que vai\\nQue o sonho te traz coisas que te faz prosseguir\\nVai, levanta e anda\\nVai, levanta e anda\\nVai, levanta e anda\\nVai, levanta e anda\\n\\nIrmão\\nVocê não percebeu que você é o único representante do seu sonho na face da Terra?\\nSe isso não fizer você correr, chapa\\nEu não sei o que vai\\n\\nEu sei (sei)\\nCansa\\nQuem morre ao fim do mês\\nNossa grana ou nossa esperança?\\nDelírio é\\nEquilíbrio\\nEntre nosso martírio e nossa fé\\nFoi foda contar migalha nos escombro\\nLona preta esticadas, enxada no ombro, e nada vim\\nNada, enfim, recria sozinho\\nCom a alma cheia de mágoa e as panela vazia\\nSonho imundo\\nSó água na geladeira e eu querendo salvar o mundo\\nNo fundo, é tipo David Blaine\\nA mãe assume, o pai some, de costume\\nNo máximo é um sobrenome\\nSou o terror dos clone\\nEsses boy conhece Marx, nós conhece a fome\\nEntão cerra os punho, sorria\\nE jamais volte pra sua quebrada de mão e mente vazia\\n\\nQuem costuma vir de onde eu sou\\nÀs vezes não tem motivos pra seguir\\nEntão levanta e anda\\nVai, levanta e anda\\nVai, levanta e anda\\nMas eu sei que vai\\nQue o sonho te traz coisas que te faz prosseguir\\nEntão levanta e anda\\nVai, levanta e anda\\nVai, levanta e anda\\nVai, levanta e anda\\n\\nSomos maior\\nNos basta só\\nSonhar, seguir'}}, {'_index': 'letras_v1', '_id': 'a6nGxpQB2E_3w8_EaN18', '_score': 0.5273947, '_ignored': ['letra.keyword'], '_source': {'artista': 'Emicida', 'nome': 'Levanta e Anda', 'ano': 2014, 'letra': 'Era um cômodo incômodo\\nSujo como o dragão-de-komodo, úmido\\nEu, homem da casa aos seis anos\\nMofo no canto todo, TV, engodo, pronto pro lodo\\nTímido, porra, somos reis, mano\\nOlhos são eletrodos, sério, topo, trombo corvos\\nNum cemitério de sonhos graças a leis, planos\\nTroco de jogo, vendo, roubo\\nPus a cabeça a prêmio, ingênuo\\nColhi sorrisos e falei: Vamos\\nÉ um novo tempo, momento pro novo, ao sabor do vento\\nEu me movo pelo solo onde reinamos\\nPondo pontos finais na dor como Doril, Anador\\nSomos a luz do Senhor e pode crer\\nTamo construindo, suponho, não, creio, meto a mão\\nEm meio à escuridão, pronto, acertamos\\nNosso sorriso sereno hoje é o veneno\\nPra quem trouxe tanto ódio pra onde deitamos\\n\\nQuem costuma vir de onde eu sou\\nÀs vezes não tem motivos pra seguir\\nEntão levanta e anda\\nVai, levanta e anda\\nVai, levanta e anda\\nMas eu sei que vai\\nQue o sonho te traz coisas que te faz prosseguir\\nVai, levanta e anda\\nVai, levanta e anda\\nVai, levanta e anda\\nVai, levanta e anda\\n\\nIrmão\\nVocê não percebeu que você é o único representante do seu sonho na face da Terra?\\nSe isso não fizer você correr, chapa\\nEu não sei o que vai\\n\\nEu sei (sei)\\nCansa\\nQuem morre ao fim do mês\\nNossa grana ou nossa esperança?\\nDelírio é\\nEquilíbrio\\nEntre nosso martírio e nossa fé\\nFoi foda contar migalha nos escombro\\nLona preta esticadas, enxada no ombro, e nada vim\\nNada, enfim, recria sozinho\\nCom a alma cheia de mágoa e as panela vazia\\nSonho imundo\\nSó água na geladeira e eu querendo salvar o mundo\\nNo fundo, é tipo David Blaine\\nA mãe assume, o pai some, de costume\\nNo máximo é um sobrenome\\nSou o terror dos clone\\nEsses boy conhece Marx, nós conhece a fome\\nEntão cerra os punho, sorria\\nE jamais volte pra sua quebrada de mão e mente vazia\\n\\nQuem costuma vir de onde eu sou\\nÀs vezes não tem motivos pra seguir\\nEntão levanta e anda\\nVai, levanta e anda\\nVai, levanta e anda\\nMas eu sei que vai\\nQue o sonho te traz coisas que te faz prosseguir\\nEntão levanta e anda\\nVai, levanta e anda\\nVai, levanta e anda\\nVai, levanta e anda\\n\\nSomos maior\\nNos basta só\\nSonhar, seguir'}}, {'_index': 'letras_v1', '_id': 'bKncxpQB2E_3w8_EX93c', '_score': 0.5273947, '_ignored': ['letra.keyword'], '_source': {'artista': 'Emicida', 'nome': 'Levanta e Anda', 'ano': 2014, 'letra': 'Era um cômodo incômodo\\nSujo como o dragão-de-komodo, úmido\\nEu, homem da casa aos seis anos\\nMofo no canto todo, TV, engodo, pronto pro lodo\\nTímido, porra, somos reis, mano\\nOlhos são eletrodos, sério, topo, trombo corvos\\nNum cemitério de sonhos graças a leis, planos\\nTroco de jogo, vendo, roubo\\nPus a cabeça a prêmio, ingênuo\\nColhi sorrisos e falei: Vamos\\nÉ um novo tempo, momento pro novo, ao sabor do vento\\nEu me movo pelo solo onde reinamos\\nPondo pontos finais na dor como Doril, Anador\\nSomos a luz do Senhor e pode crer\\nTamo construindo, suponho, não, creio, meto a mão\\nEm meio à escuridão, pronto, acertamos\\nNosso sorriso sereno hoje é o veneno\\nPra quem trouxe tanto ódio pra onde deitamos\\n\\nQuem costuma vir de onde eu sou\\nÀs vezes não tem motivos pra seguir\\nEntão levanta e anda\\nVai, levanta e anda\\nVai, levanta e anda\\nMas eu sei que vai\\nQue o sonho te traz coisas que te faz prosseguir\\nVai, levanta e anda\\nVai, levanta e anda\\nVai, levanta e anda\\nVai, levanta e anda\\n\\nIrmão\\nVocê não percebeu que você é o único representante do seu sonho na face da Terra?\\nSe isso não fizer você correr, chapa\\nEu não sei o que vai\\n\\nEu sei (sei)\\nCansa\\nQuem morre ao fim do mês\\nNossa grana ou nossa esperança?\\nDelírio é\\nEquilíbrio\\nEntre nosso martírio e nossa fé\\nFoi foda contar migalha nos escombro\\nLona preta esticadas, enxada no ombro, e nada vim\\nNada, enfim, recria sozinho\\nCom a alma cheia de mágoa e as panela vazia\\nSonho imundo\\nSó água na geladeira e eu querendo salvar o mundo\\nNo fundo, é tipo David Blaine\\nA mãe assume, o pai some, de costume\\nNo máximo é um sobrenome\\nSou o terror dos clone\\nEsses boy conhece Marx, nós conhece a fome\\nEntão cerra os punho, sorria\\nE jamais volte pra sua quebrada de mão e mente vazia\\n\\nQuem costuma vir de onde eu sou\\nÀs vezes não tem motivos pra seguir\\nEntão levanta e anda\\nVai, levanta e anda\\nVai, levanta e anda\\nMas eu sei que vai\\nQue o sonho te traz coisas que te faz prosseguir\\nEntão levanta e anda\\nVai, levanta e anda\\nVai, levanta e anda\\nVai, levanta e anda\\n\\nSomos maior\\nNos basta só\\nSonhar, seguir'}}]}})"
      ]
     },
     "execution_count": 16,
     "metadata": {},
     "output_type": "execute_result"
    }
   ],
   "source": [
    "client.search(\n",
    "    index='letras_v1',\n",
    "    query={\n",
    "        \"match\":{\n",
    "            \"letra\":\" cabeça a prêmio\"\n",
    "        }\n",
    "    }\n",
    ")"
   ]
  },
  {
   "cell_type": "code",
   "execution_count": 45,
   "id": "93828b51-ab29-40ab-a277-2437b840ab66",
   "metadata": {},
   "outputs": [
    {
     "data": {
      "text/plain": [
       "ObjectApiResponse({'took': 25, 'timed_out': False, '_shards': {'total': 1, 'successful': 1, 'skipped': 0, 'failed': 0}, 'hits': {'total': {'value': 2, 'relation': 'eq'}, 'max_score': 0.2711531, 'hits': [{'_index': 'letras_v1', '_id': 'aqnExpQB2E_3w8_ELt2Q', '_score': 0.2711531, '_ignored': ['letra.keyword'], '_source': {'artista': 'Emicida', 'nome': 'Levanta e Anda', 'ano': 2014, 'letra': 'Era um cômodo incômodo\\nSujo como o dragão-de-komodo, úmido\\nEu, homem da casa aos seis anos\\nMofo no canto todo, TV, engodo, pronto pro lodo\\nTímido, porra, somos reis, mano\\nOlhos são eletrodos, sério, topo, trombo corvos\\nNum cemitério de sonhos graças a leis, planos\\nTroco de jogo, vendo, roubo\\nPus a cabeça a prêmio, ingênuo\\nColhi sorrisos e falei: Vamos\\nÉ um novo tempo, momento pro novo, ao sabor do vento\\nEu me movo pelo solo onde reinamos\\nPondo pontos finais na dor como Doril, Anador\\nSomos a luz do Senhor e pode crer\\nTamo construindo, suponho, não, creio, meto a mão\\nEm meio à escuridão, pronto, acertamos\\nNosso sorriso sereno hoje é o veneno\\nPra quem trouxe tanto ódio pra onde deitamos\\n\\nQuem costuma vir de onde eu sou\\nÀs vezes não tem motivos pra seguir\\nEntão levanta e anda\\nVai, levanta e anda\\nVai, levanta e anda\\nMas eu sei que vai\\nQue o sonho te traz coisas que te faz prosseguir\\nVai, levanta e anda\\nVai, levanta e anda\\nVai, levanta e anda\\nVai, levanta e anda\\n\\nIrmão\\nVocê não percebeu que você é o único representante do seu sonho na face da Terra?\\nSe isso não fizer você correr, chapa\\nEu não sei o que vai\\n\\nEu sei (sei)\\nCansa\\nQuem morre ao fim do mês\\nNossa grana ou nossa esperança?\\nDelírio é\\nEquilíbrio\\nEntre nosso martírio e nossa fé\\nFoi foda contar migalha nos escombro\\nLona preta esticadas, enxada no ombro, e nada vim\\nNada, enfim, recria sozinho\\nCom a alma cheia de mágoa e as panela vazia\\nSonho imundo\\nSó água na geladeira e eu querendo salvar o mundo\\nNo fundo, é tipo David Blaine\\nA mãe assume, o pai some, de costume\\nNo máximo é um sobrenome\\nSou o terror dos clone\\nEsses boy conhece Marx, nós conhece a fome\\nEntão cerra os punho, sorria\\nE jamais volte pra sua quebrada de mão e mente vazia\\n\\nQuem costuma vir de onde eu sou\\nÀs vezes não tem motivos pra seguir\\nEntão levanta e anda\\nVai, levanta e anda\\nVai, levanta e anda\\nMas eu sei que vai\\nQue o sonho te traz coisas que te faz prosseguir\\nEntão levanta e anda\\nVai, levanta e anda\\nVai, levanta e anda\\nVai, levanta e anda\\n\\nSomos maior\\nNos basta só\\nSonhar, seguir'}}, {'_index': 'letras_v1', '_id': 'a6nGxpQB2E_3w8_EaN18', '_score': 0.2711531, '_ignored': ['letra.keyword'], '_source': {'artista': 'Emicida', 'nome': 'Levanta e Anda', 'ano': 2014, 'letra': 'Era um cômodo incômodo\\nSujo como o dragão-de-komodo, úmido\\nEu, homem da casa aos seis anos\\nMofo no canto todo, TV, engodo, pronto pro lodo\\nTímido, porra, somos reis, mano\\nOlhos são eletrodos, sério, topo, trombo corvos\\nNum cemitério de sonhos graças a leis, planos\\nTroco de jogo, vendo, roubo\\nPus a cabeça a prêmio, ingênuo\\nColhi sorrisos e falei: Vamos\\nÉ um novo tempo, momento pro novo, ao sabor do vento\\nEu me movo pelo solo onde reinamos\\nPondo pontos finais na dor como Doril, Anador\\nSomos a luz do Senhor e pode crer\\nTamo construindo, suponho, não, creio, meto a mão\\nEm meio à escuridão, pronto, acertamos\\nNosso sorriso sereno hoje é o veneno\\nPra quem trouxe tanto ódio pra onde deitamos\\n\\nQuem costuma vir de onde eu sou\\nÀs vezes não tem motivos pra seguir\\nEntão levanta e anda\\nVai, levanta e anda\\nVai, levanta e anda\\nMas eu sei que vai\\nQue o sonho te traz coisas que te faz prosseguir\\nVai, levanta e anda\\nVai, levanta e anda\\nVai, levanta e anda\\nVai, levanta e anda\\n\\nIrmão\\nVocê não percebeu que você é o único representante do seu sonho na face da Terra?\\nSe isso não fizer você correr, chapa\\nEu não sei o que vai\\n\\nEu sei (sei)\\nCansa\\nQuem morre ao fim do mês\\nNossa grana ou nossa esperança?\\nDelírio é\\nEquilíbrio\\nEntre nosso martírio e nossa fé\\nFoi foda contar migalha nos escombro\\nLona preta esticadas, enxada no ombro, e nada vim\\nNada, enfim, recria sozinho\\nCom a alma cheia de mágoa e as panela vazia\\nSonho imundo\\nSó água na geladeira e eu querendo salvar o mundo\\nNo fundo, é tipo David Blaine\\nA mãe assume, o pai some, de costume\\nNo máximo é um sobrenome\\nSou o terror dos clone\\nEsses boy conhece Marx, nós conhece a fome\\nEntão cerra os punho, sorria\\nE jamais volte pra sua quebrada de mão e mente vazia\\n\\nQuem costuma vir de onde eu sou\\nÀs vezes não tem motivos pra seguir\\nEntão levanta e anda\\nVai, levanta e anda\\nVai, levanta e anda\\nMas eu sei que vai\\nQue o sonho te traz coisas que te faz prosseguir\\nEntão levanta e anda\\nVai, levanta e anda\\nVai, levanta e anda\\nVai, levanta e anda\\n\\nSomos maior\\nNos basta só\\nSonhar, seguir'}}]}})"
      ]
     },
     "execution_count": 45,
     "metadata": {},
     "output_type": "execute_result"
    }
   ],
   "source": [
    "client.search(\n",
    "    index=\"letras_v1\",\n",
    "    query={\n",
    "        \"bool\": {\n",
    "            \"must\": [\n",
    "                {\"multi_match\": {\"query\": \"Levanta\"}}\n",
    "            ]\n",
    "        }\n",
    "    }\n",
    ")\n"
   ]
  },
  {
   "cell_type": "code",
   "execution_count": 17,
   "id": "5faa3b4a-86b4-4429-874c-748d595c3205",
   "metadata": {},
   "outputs": [
    {
     "data": {
      "text/plain": [
       "ObjectApiResponse({'took': 16, 'timed_out': False, '_shards': {'total': 1, 'successful': 1, 'skipped': 0, 'failed': 0}, 'hits': {'total': {'value': 3, 'relation': 'eq'}, 'max_score': 0.2563516, 'hits': [{'_index': 'letras_v1', '_id': 'aqnExpQB2E_3w8_ELt2Q', '_score': 0.2563516, '_ignored': ['letra.keyword'], '_source': {'artista': 'Emicida', 'nome': 'Levanta e Anda', 'ano': 2014, 'letra': 'Era um cômodo incômodo\\nSujo como o dragão-de-komodo, úmido\\nEu, homem da casa aos seis anos\\nMofo no canto todo, TV, engodo, pronto pro lodo\\nTímido, porra, somos reis, mano\\nOlhos são eletrodos, sério, topo, trombo corvos\\nNum cemitério de sonhos graças a leis, planos\\nTroco de jogo, vendo, roubo\\nPus a cabeça a prêmio, ingênuo\\nColhi sorrisos e falei: Vamos\\nÉ um novo tempo, momento pro novo, ao sabor do vento\\nEu me movo pelo solo onde reinamos\\nPondo pontos finais na dor como Doril, Anador\\nSomos a luz do Senhor e pode crer\\nTamo construindo, suponho, não, creio, meto a mão\\nEm meio à escuridão, pronto, acertamos\\nNosso sorriso sereno hoje é o veneno\\nPra quem trouxe tanto ódio pra onde deitamos\\n\\nQuem costuma vir de onde eu sou\\nÀs vezes não tem motivos pra seguir\\nEntão levanta e anda\\nVai, levanta e anda\\nVai, levanta e anda\\nMas eu sei que vai\\nQue o sonho te traz coisas que te faz prosseguir\\nVai, levanta e anda\\nVai, levanta e anda\\nVai, levanta e anda\\nVai, levanta e anda\\n\\nIrmão\\nVocê não percebeu que você é o único representante do seu sonho na face da Terra?\\nSe isso não fizer você correr, chapa\\nEu não sei o que vai\\n\\nEu sei (sei)\\nCansa\\nQuem morre ao fim do mês\\nNossa grana ou nossa esperança?\\nDelírio é\\nEquilíbrio\\nEntre nosso martírio e nossa fé\\nFoi foda contar migalha nos escombro\\nLona preta esticadas, enxada no ombro, e nada vim\\nNada, enfim, recria sozinho\\nCom a alma cheia de mágoa e as panela vazia\\nSonho imundo\\nSó água na geladeira e eu querendo salvar o mundo\\nNo fundo, é tipo David Blaine\\nA mãe assume, o pai some, de costume\\nNo máximo é um sobrenome\\nSou o terror dos clone\\nEsses boy conhece Marx, nós conhece a fome\\nEntão cerra os punho, sorria\\nE jamais volte pra sua quebrada de mão e mente vazia\\n\\nQuem costuma vir de onde eu sou\\nÀs vezes não tem motivos pra seguir\\nEntão levanta e anda\\nVai, levanta e anda\\nVai, levanta e anda\\nMas eu sei que vai\\nQue o sonho te traz coisas que te faz prosseguir\\nEntão levanta e anda\\nVai, levanta e anda\\nVai, levanta e anda\\nVai, levanta e anda\\n\\nSomos maior\\nNos basta só\\nSonhar, seguir'}}, {'_index': 'letras_v1', '_id': 'a6nGxpQB2E_3w8_EaN18', '_score': 0.2563516, '_ignored': ['letra.keyword'], '_source': {'artista': 'Emicida', 'nome': 'Levanta e Anda', 'ano': 2014, 'letra': 'Era um cômodo incômodo\\nSujo como o dragão-de-komodo, úmido\\nEu, homem da casa aos seis anos\\nMofo no canto todo, TV, engodo, pronto pro lodo\\nTímido, porra, somos reis, mano\\nOlhos são eletrodos, sério, topo, trombo corvos\\nNum cemitério de sonhos graças a leis, planos\\nTroco de jogo, vendo, roubo\\nPus a cabeça a prêmio, ingênuo\\nColhi sorrisos e falei: Vamos\\nÉ um novo tempo, momento pro novo, ao sabor do vento\\nEu me movo pelo solo onde reinamos\\nPondo pontos finais na dor como Doril, Anador\\nSomos a luz do Senhor e pode crer\\nTamo construindo, suponho, não, creio, meto a mão\\nEm meio à escuridão, pronto, acertamos\\nNosso sorriso sereno hoje é o veneno\\nPra quem trouxe tanto ódio pra onde deitamos\\n\\nQuem costuma vir de onde eu sou\\nÀs vezes não tem motivos pra seguir\\nEntão levanta e anda\\nVai, levanta e anda\\nVai, levanta e anda\\nMas eu sei que vai\\nQue o sonho te traz coisas que te faz prosseguir\\nVai, levanta e anda\\nVai, levanta e anda\\nVai, levanta e anda\\nVai, levanta e anda\\n\\nIrmão\\nVocê não percebeu que você é o único representante do seu sonho na face da Terra?\\nSe isso não fizer você correr, chapa\\nEu não sei o que vai\\n\\nEu sei (sei)\\nCansa\\nQuem morre ao fim do mês\\nNossa grana ou nossa esperança?\\nDelírio é\\nEquilíbrio\\nEntre nosso martírio e nossa fé\\nFoi foda contar migalha nos escombro\\nLona preta esticadas, enxada no ombro, e nada vim\\nNada, enfim, recria sozinho\\nCom a alma cheia de mágoa e as panela vazia\\nSonho imundo\\nSó água na geladeira e eu querendo salvar o mundo\\nNo fundo, é tipo David Blaine\\nA mãe assume, o pai some, de costume\\nNo máximo é um sobrenome\\nSou o terror dos clone\\nEsses boy conhece Marx, nós conhece a fome\\nEntão cerra os punho, sorria\\nE jamais volte pra sua quebrada de mão e mente vazia\\n\\nQuem costuma vir de onde eu sou\\nÀs vezes não tem motivos pra seguir\\nEntão levanta e anda\\nVai, levanta e anda\\nVai, levanta e anda\\nMas eu sei que vai\\nQue o sonho te traz coisas que te faz prosseguir\\nEntão levanta e anda\\nVai, levanta e anda\\nVai, levanta e anda\\nVai, levanta e anda\\n\\nSomos maior\\nNos basta só\\nSonhar, seguir'}}, {'_index': 'letras_v1', '_id': 'bKncxpQB2E_3w8_EX93c', '_score': 0.2563516, '_ignored': ['letra.keyword'], '_source': {'artista': 'Emicida', 'nome': 'Levanta e Anda', 'ano': 2014, 'letra': 'Era um cômodo incômodo\\nSujo como o dragão-de-komodo, úmido\\nEu, homem da casa aos seis anos\\nMofo no canto todo, TV, engodo, pronto pro lodo\\nTímido, porra, somos reis, mano\\nOlhos são eletrodos, sério, topo, trombo corvos\\nNum cemitério de sonhos graças a leis, planos\\nTroco de jogo, vendo, roubo\\nPus a cabeça a prêmio, ingênuo\\nColhi sorrisos e falei: Vamos\\nÉ um novo tempo, momento pro novo, ao sabor do vento\\nEu me movo pelo solo onde reinamos\\nPondo pontos finais na dor como Doril, Anador\\nSomos a luz do Senhor e pode crer\\nTamo construindo, suponho, não, creio, meto a mão\\nEm meio à escuridão, pronto, acertamos\\nNosso sorriso sereno hoje é o veneno\\nPra quem trouxe tanto ódio pra onde deitamos\\n\\nQuem costuma vir de onde eu sou\\nÀs vezes não tem motivos pra seguir\\nEntão levanta e anda\\nVai, levanta e anda\\nVai, levanta e anda\\nMas eu sei que vai\\nQue o sonho te traz coisas que te faz prosseguir\\nVai, levanta e anda\\nVai, levanta e anda\\nVai, levanta e anda\\nVai, levanta e anda\\n\\nIrmão\\nVocê não percebeu que você é o único representante do seu sonho na face da Terra?\\nSe isso não fizer você correr, chapa\\nEu não sei o que vai\\n\\nEu sei (sei)\\nCansa\\nQuem morre ao fim do mês\\nNossa grana ou nossa esperança?\\nDelírio é\\nEquilíbrio\\nEntre nosso martírio e nossa fé\\nFoi foda contar migalha nos escombro\\nLona preta esticadas, enxada no ombro, e nada vim\\nNada, enfim, recria sozinho\\nCom a alma cheia de mágoa e as panela vazia\\nSonho imundo\\nSó água na geladeira e eu querendo salvar o mundo\\nNo fundo, é tipo David Blaine\\nA mãe assume, o pai some, de costume\\nNo máximo é um sobrenome\\nSou o terror dos clone\\nEsses boy conhece Marx, nós conhece a fome\\nEntão cerra os punho, sorria\\nE jamais volte pra sua quebrada de mão e mente vazia\\n\\nQuem costuma vir de onde eu sou\\nÀs vezes não tem motivos pra seguir\\nEntão levanta e anda\\nVai, levanta e anda\\nVai, levanta e anda\\nMas eu sei que vai\\nQue o sonho te traz coisas que te faz prosseguir\\nEntão levanta e anda\\nVai, levanta e anda\\nVai, levanta e anda\\nVai, levanta e anda\\n\\nSomos maior\\nNos basta só\\nSonhar, seguir'}}]}})"
      ]
     },
     "execution_count": 17,
     "metadata": {},
     "output_type": "execute_result"
    }
   ],
   "source": [
    "client.search(\n",
    "    index='letras_v1',\n",
    "    query={\n",
    "        \"match\":{\n",
    "            \"letra\":\" cabeca a premio\"\n",
    "        }\n",
    "    }\n",
    ")"
   ]
  },
  {
   "cell_type": "code",
   "execution_count": 18,
   "id": "e599d5a6-0f2b-4582-ba47-87b01ccd5e3e",
   "metadata": {},
   "outputs": [
    {
     "data": {
      "text/plain": [
       "ObjectApiResponse({'took': 8, 'timed_out': False, '_shards': {'total': 1, 'successful': 1, 'skipped': 0, 'failed': 0}, 'hits': {'total': {'value': 3, 'relation': 'eq'}, 'max_score': 0.13552156, 'hits': [{'_index': 'letras_v1', '_id': 'aqnExpQB2E_3w8_ELt2Q', '_score': 0.13552156, '_ignored': ['letra.keyword'], '_source': {'artista': 'Emicida', 'nome': 'Levanta e Anda', 'ano': 2014, 'letra': 'Era um cômodo incômodo\\nSujo como o dragão-de-komodo, úmido\\nEu, homem da casa aos seis anos\\nMofo no canto todo, TV, engodo, pronto pro lodo\\nTímido, porra, somos reis, mano\\nOlhos são eletrodos, sério, topo, trombo corvos\\nNum cemitério de sonhos graças a leis, planos\\nTroco de jogo, vendo, roubo\\nPus a cabeça a prêmio, ingênuo\\nColhi sorrisos e falei: Vamos\\nÉ um novo tempo, momento pro novo, ao sabor do vento\\nEu me movo pelo solo onde reinamos\\nPondo pontos finais na dor como Doril, Anador\\nSomos a luz do Senhor e pode crer\\nTamo construindo, suponho, não, creio, meto a mão\\nEm meio à escuridão, pronto, acertamos\\nNosso sorriso sereno hoje é o veneno\\nPra quem trouxe tanto ódio pra onde deitamos\\n\\nQuem costuma vir de onde eu sou\\nÀs vezes não tem motivos pra seguir\\nEntão levanta e anda\\nVai, levanta e anda\\nVai, levanta e anda\\nMas eu sei que vai\\nQue o sonho te traz coisas que te faz prosseguir\\nVai, levanta e anda\\nVai, levanta e anda\\nVai, levanta e anda\\nVai, levanta e anda\\n\\nIrmão\\nVocê não percebeu que você é o único representante do seu sonho na face da Terra?\\nSe isso não fizer você correr, chapa\\nEu não sei o que vai\\n\\nEu sei (sei)\\nCansa\\nQuem morre ao fim do mês\\nNossa grana ou nossa esperança?\\nDelírio é\\nEquilíbrio\\nEntre nosso martírio e nossa fé\\nFoi foda contar migalha nos escombro\\nLona preta esticadas, enxada no ombro, e nada vim\\nNada, enfim, recria sozinho\\nCom a alma cheia de mágoa e as panela vazia\\nSonho imundo\\nSó água na geladeira e eu querendo salvar o mundo\\nNo fundo, é tipo David Blaine\\nA mãe assume, o pai some, de costume\\nNo máximo é um sobrenome\\nSou o terror dos clone\\nEsses boy conhece Marx, nós conhece a fome\\nEntão cerra os punho, sorria\\nE jamais volte pra sua quebrada de mão e mente vazia\\n\\nQuem costuma vir de onde eu sou\\nÀs vezes não tem motivos pra seguir\\nEntão levanta e anda\\nVai, levanta e anda\\nVai, levanta e anda\\nMas eu sei que vai\\nQue o sonho te traz coisas que te faz prosseguir\\nEntão levanta e anda\\nVai, levanta e anda\\nVai, levanta e anda\\nVai, levanta e anda\\n\\nSomos maior\\nNos basta só\\nSonhar, seguir'}}, {'_index': 'letras_v1', '_id': 'a6nGxpQB2E_3w8_EaN18', '_score': 0.13552156, '_ignored': ['letra.keyword'], '_source': {'artista': 'Emicida', 'nome': 'Levanta e Anda', 'ano': 2014, 'letra': 'Era um cômodo incômodo\\nSujo como o dragão-de-komodo, úmido\\nEu, homem da casa aos seis anos\\nMofo no canto todo, TV, engodo, pronto pro lodo\\nTímido, porra, somos reis, mano\\nOlhos são eletrodos, sério, topo, trombo corvos\\nNum cemitério de sonhos graças a leis, planos\\nTroco de jogo, vendo, roubo\\nPus a cabeça a prêmio, ingênuo\\nColhi sorrisos e falei: Vamos\\nÉ um novo tempo, momento pro novo, ao sabor do vento\\nEu me movo pelo solo onde reinamos\\nPondo pontos finais na dor como Doril, Anador\\nSomos a luz do Senhor e pode crer\\nTamo construindo, suponho, não, creio, meto a mão\\nEm meio à escuridão, pronto, acertamos\\nNosso sorriso sereno hoje é o veneno\\nPra quem trouxe tanto ódio pra onde deitamos\\n\\nQuem costuma vir de onde eu sou\\nÀs vezes não tem motivos pra seguir\\nEntão levanta e anda\\nVai, levanta e anda\\nVai, levanta e anda\\nMas eu sei que vai\\nQue o sonho te traz coisas que te faz prosseguir\\nVai, levanta e anda\\nVai, levanta e anda\\nVai, levanta e anda\\nVai, levanta e anda\\n\\nIrmão\\nVocê não percebeu que você é o único representante do seu sonho na face da Terra?\\nSe isso não fizer você correr, chapa\\nEu não sei o que vai\\n\\nEu sei (sei)\\nCansa\\nQuem morre ao fim do mês\\nNossa grana ou nossa esperança?\\nDelírio é\\nEquilíbrio\\nEntre nosso martírio e nossa fé\\nFoi foda contar migalha nos escombro\\nLona preta esticadas, enxada no ombro, e nada vim\\nNada, enfim, recria sozinho\\nCom a alma cheia de mágoa e as panela vazia\\nSonho imundo\\nSó água na geladeira e eu querendo salvar o mundo\\nNo fundo, é tipo David Blaine\\nA mãe assume, o pai some, de costume\\nNo máximo é um sobrenome\\nSou o terror dos clone\\nEsses boy conhece Marx, nós conhece a fome\\nEntão cerra os punho, sorria\\nE jamais volte pra sua quebrada de mão e mente vazia\\n\\nQuem costuma vir de onde eu sou\\nÀs vezes não tem motivos pra seguir\\nEntão levanta e anda\\nVai, levanta e anda\\nVai, levanta e anda\\nMas eu sei que vai\\nQue o sonho te traz coisas que te faz prosseguir\\nEntão levanta e anda\\nVai, levanta e anda\\nVai, levanta e anda\\nVai, levanta e anda\\n\\nSomos maior\\nNos basta só\\nSonhar, seguir'}}, {'_index': 'letras_v1', '_id': 'bKncxpQB2E_3w8_EX93c', '_score': 0.13552156, '_ignored': ['letra.keyword'], '_source': {'artista': 'Emicida', 'nome': 'Levanta e Anda', 'ano': 2014, 'letra': 'Era um cômodo incômodo\\nSujo como o dragão-de-komodo, úmido\\nEu, homem da casa aos seis anos\\nMofo no canto todo, TV, engodo, pronto pro lodo\\nTímido, porra, somos reis, mano\\nOlhos são eletrodos, sério, topo, trombo corvos\\nNum cemitério de sonhos graças a leis, planos\\nTroco de jogo, vendo, roubo\\nPus a cabeça a prêmio, ingênuo\\nColhi sorrisos e falei: Vamos\\nÉ um novo tempo, momento pro novo, ao sabor do vento\\nEu me movo pelo solo onde reinamos\\nPondo pontos finais na dor como Doril, Anador\\nSomos a luz do Senhor e pode crer\\nTamo construindo, suponho, não, creio, meto a mão\\nEm meio à escuridão, pronto, acertamos\\nNosso sorriso sereno hoje é o veneno\\nPra quem trouxe tanto ódio pra onde deitamos\\n\\nQuem costuma vir de onde eu sou\\nÀs vezes não tem motivos pra seguir\\nEntão levanta e anda\\nVai, levanta e anda\\nVai, levanta e anda\\nMas eu sei que vai\\nQue o sonho te traz coisas que te faz prosseguir\\nVai, levanta e anda\\nVai, levanta e anda\\nVai, levanta e anda\\nVai, levanta e anda\\n\\nIrmão\\nVocê não percebeu que você é o único representante do seu sonho na face da Terra?\\nSe isso não fizer você correr, chapa\\nEu não sei o que vai\\n\\nEu sei (sei)\\nCansa\\nQuem morre ao fim do mês\\nNossa grana ou nossa esperança?\\nDelírio é\\nEquilíbrio\\nEntre nosso martírio e nossa fé\\nFoi foda contar migalha nos escombro\\nLona preta esticadas, enxada no ombro, e nada vim\\nNada, enfim, recria sozinho\\nCom a alma cheia de mágoa e as panela vazia\\nSonho imundo\\nSó água na geladeira e eu querendo salvar o mundo\\nNo fundo, é tipo David Blaine\\nA mãe assume, o pai some, de costume\\nNo máximo é um sobrenome\\nSou o terror dos clone\\nEsses boy conhece Marx, nós conhece a fome\\nEntão cerra os punho, sorria\\nE jamais volte pra sua quebrada de mão e mente vazia\\n\\nQuem costuma vir de onde eu sou\\nÀs vezes não tem motivos pra seguir\\nEntão levanta e anda\\nVai, levanta e anda\\nVai, levanta e anda\\nMas eu sei que vai\\nQue o sonho te traz coisas que te faz prosseguir\\nEntão levanta e anda\\nVai, levanta e anda\\nVai, levanta e anda\\nVai, levanta e anda\\n\\nSomos maior\\nNos basta só\\nSonhar, seguir'}}]}})"
      ]
     },
     "execution_count": 18,
     "metadata": {},
     "output_type": "execute_result"
    }
   ],
   "source": [
    "client.search(\n",
    "    index='letras_v1',\n",
    "    query={\n",
    "        \"match\":{\n",
    "            \"letra\":\"pontos\"\n",
    "        }\n",
    "    }\n",
    ")"
   ]
  },
  {
   "cell_type": "code",
   "execution_count": 19,
   "id": "f5e97a4d-cce8-407f-8b8a-bee3a7a6d525",
   "metadata": {},
   "outputs": [
    {
     "data": {
      "text/plain": [
       "ObjectApiResponse({'took': 13, 'timed_out': False, '_shards': {'total': 1, 'successful': 1, 'skipped': 0, 'failed': 0}, 'hits': {'total': {'value': 3, 'relation': 'eq'}, 'max_score': 1.8212688, 'hits': [{'_index': 'letras_v1', '_id': 'aqnExpQB2E_3w8_ELt2Q', '_score': 1.8212688, '_ignored': ['letra.keyword'], '_source': {'artista': 'Emicida', 'nome': 'Levanta e Anda', 'ano': 2014, 'letra': 'Era um cômodo incômodo\\nSujo como o dragão-de-komodo, úmido\\nEu, homem da casa aos seis anos\\nMofo no canto todo, TV, engodo, pronto pro lodo\\nTímido, porra, somos reis, mano\\nOlhos são eletrodos, sério, topo, trombo corvos\\nNum cemitério de sonhos graças a leis, planos\\nTroco de jogo, vendo, roubo\\nPus a cabeça a prêmio, ingênuo\\nColhi sorrisos e falei: Vamos\\nÉ um novo tempo, momento pro novo, ao sabor do vento\\nEu me movo pelo solo onde reinamos\\nPondo pontos finais na dor como Doril, Anador\\nSomos a luz do Senhor e pode crer\\nTamo construindo, suponho, não, creio, meto a mão\\nEm meio à escuridão, pronto, acertamos\\nNosso sorriso sereno hoje é o veneno\\nPra quem trouxe tanto ódio pra onde deitamos\\n\\nQuem costuma vir de onde eu sou\\nÀs vezes não tem motivos pra seguir\\nEntão levanta e anda\\nVai, levanta e anda\\nVai, levanta e anda\\nMas eu sei que vai\\nQue o sonho te traz coisas que te faz prosseguir\\nVai, levanta e anda\\nVai, levanta e anda\\nVai, levanta e anda\\nVai, levanta e anda\\n\\nIrmão\\nVocê não percebeu que você é o único representante do seu sonho na face da Terra?\\nSe isso não fizer você correr, chapa\\nEu não sei o que vai\\n\\nEu sei (sei)\\nCansa\\nQuem morre ao fim do mês\\nNossa grana ou nossa esperança?\\nDelírio é\\nEquilíbrio\\nEntre nosso martírio e nossa fé\\nFoi foda contar migalha nos escombro\\nLona preta esticadas, enxada no ombro, e nada vim\\nNada, enfim, recria sozinho\\nCom a alma cheia de mágoa e as panela vazia\\nSonho imundo\\nSó água na geladeira e eu querendo salvar o mundo\\nNo fundo, é tipo David Blaine\\nA mãe assume, o pai some, de costume\\nNo máximo é um sobrenome\\nSou o terror dos clone\\nEsses boy conhece Marx, nós conhece a fome\\nEntão cerra os punho, sorria\\nE jamais volte pra sua quebrada de mão e mente vazia\\n\\nQuem costuma vir de onde eu sou\\nÀs vezes não tem motivos pra seguir\\nEntão levanta e anda\\nVai, levanta e anda\\nVai, levanta e anda\\nMas eu sei que vai\\nQue o sonho te traz coisas que te faz prosseguir\\nEntão levanta e anda\\nVai, levanta e anda\\nVai, levanta e anda\\nVai, levanta e anda\\n\\nSomos maior\\nNos basta só\\nSonhar, seguir'}}, {'_index': 'letras_v1', '_id': 'a6nGxpQB2E_3w8_EaN18', '_score': 1.8212688, '_ignored': ['letra.keyword'], '_source': {'artista': 'Emicida', 'nome': 'Levanta e Anda', 'ano': 2014, 'letra': 'Era um cômodo incômodo\\nSujo como o dragão-de-komodo, úmido\\nEu, homem da casa aos seis anos\\nMofo no canto todo, TV, engodo, pronto pro lodo\\nTímido, porra, somos reis, mano\\nOlhos são eletrodos, sério, topo, trombo corvos\\nNum cemitério de sonhos graças a leis, planos\\nTroco de jogo, vendo, roubo\\nPus a cabeça a prêmio, ingênuo\\nColhi sorrisos e falei: Vamos\\nÉ um novo tempo, momento pro novo, ao sabor do vento\\nEu me movo pelo solo onde reinamos\\nPondo pontos finais na dor como Doril, Anador\\nSomos a luz do Senhor e pode crer\\nTamo construindo, suponho, não, creio, meto a mão\\nEm meio à escuridão, pronto, acertamos\\nNosso sorriso sereno hoje é o veneno\\nPra quem trouxe tanto ódio pra onde deitamos\\n\\nQuem costuma vir de onde eu sou\\nÀs vezes não tem motivos pra seguir\\nEntão levanta e anda\\nVai, levanta e anda\\nVai, levanta e anda\\nMas eu sei que vai\\nQue o sonho te traz coisas que te faz prosseguir\\nVai, levanta e anda\\nVai, levanta e anda\\nVai, levanta e anda\\nVai, levanta e anda\\n\\nIrmão\\nVocê não percebeu que você é o único representante do seu sonho na face da Terra?\\nSe isso não fizer você correr, chapa\\nEu não sei o que vai\\n\\nEu sei (sei)\\nCansa\\nQuem morre ao fim do mês\\nNossa grana ou nossa esperança?\\nDelírio é\\nEquilíbrio\\nEntre nosso martírio e nossa fé\\nFoi foda contar migalha nos escombro\\nLona preta esticadas, enxada no ombro, e nada vim\\nNada, enfim, recria sozinho\\nCom a alma cheia de mágoa e as panela vazia\\nSonho imundo\\nSó água na geladeira e eu querendo salvar o mundo\\nNo fundo, é tipo David Blaine\\nA mãe assume, o pai some, de costume\\nNo máximo é um sobrenome\\nSou o terror dos clone\\nEsses boy conhece Marx, nós conhece a fome\\nEntão cerra os punho, sorria\\nE jamais volte pra sua quebrada de mão e mente vazia\\n\\nQuem costuma vir de onde eu sou\\nÀs vezes não tem motivos pra seguir\\nEntão levanta e anda\\nVai, levanta e anda\\nVai, levanta e anda\\nMas eu sei que vai\\nQue o sonho te traz coisas que te faz prosseguir\\nEntão levanta e anda\\nVai, levanta e anda\\nVai, levanta e anda\\nVai, levanta e anda\\n\\nSomos maior\\nNos basta só\\nSonhar, seguir'}}, {'_index': 'letras_v1', '_id': 'bKncxpQB2E_3w8_EX93c', '_score': 1.8212688, '_ignored': ['letra.keyword'], '_source': {'artista': 'Emicida', 'nome': 'Levanta e Anda', 'ano': 2014, 'letra': 'Era um cômodo incômodo\\nSujo como o dragão-de-komodo, úmido\\nEu, homem da casa aos seis anos\\nMofo no canto todo, TV, engodo, pronto pro lodo\\nTímido, porra, somos reis, mano\\nOlhos são eletrodos, sério, topo, trombo corvos\\nNum cemitério de sonhos graças a leis, planos\\nTroco de jogo, vendo, roubo\\nPus a cabeça a prêmio, ingênuo\\nColhi sorrisos e falei: Vamos\\nÉ um novo tempo, momento pro novo, ao sabor do vento\\nEu me movo pelo solo onde reinamos\\nPondo pontos finais na dor como Doril, Anador\\nSomos a luz do Senhor e pode crer\\nTamo construindo, suponho, não, creio, meto a mão\\nEm meio à escuridão, pronto, acertamos\\nNosso sorriso sereno hoje é o veneno\\nPra quem trouxe tanto ódio pra onde deitamos\\n\\nQuem costuma vir de onde eu sou\\nÀs vezes não tem motivos pra seguir\\nEntão levanta e anda\\nVai, levanta e anda\\nVai, levanta e anda\\nMas eu sei que vai\\nQue o sonho te traz coisas que te faz prosseguir\\nVai, levanta e anda\\nVai, levanta e anda\\nVai, levanta e anda\\nVai, levanta e anda\\n\\nIrmão\\nVocê não percebeu que você é o único representante do seu sonho na face da Terra?\\nSe isso não fizer você correr, chapa\\nEu não sei o que vai\\n\\nEu sei (sei)\\nCansa\\nQuem morre ao fim do mês\\nNossa grana ou nossa esperança?\\nDelírio é\\nEquilíbrio\\nEntre nosso martírio e nossa fé\\nFoi foda contar migalha nos escombro\\nLona preta esticadas, enxada no ombro, e nada vim\\nNada, enfim, recria sozinho\\nCom a alma cheia de mágoa e as panela vazia\\nSonho imundo\\nSó água na geladeira e eu querendo salvar o mundo\\nNo fundo, é tipo David Blaine\\nA mãe assume, o pai some, de costume\\nNo máximo é um sobrenome\\nSou o terror dos clone\\nEsses boy conhece Marx, nós conhece a fome\\nEntão cerra os punho, sorria\\nE jamais volte pra sua quebrada de mão e mente vazia\\n\\nQuem costuma vir de onde eu sou\\nÀs vezes não tem motivos pra seguir\\nEntão levanta e anda\\nVai, levanta e anda\\nVai, levanta e anda\\nMas eu sei que vai\\nQue o sonho te traz coisas que te faz prosseguir\\nEntão levanta e anda\\nVai, levanta e anda\\nVai, levanta e anda\\nVai, levanta e anda\\n\\nSomos maior\\nNos basta só\\nSonhar, seguir'}}]}})"
      ]
     },
     "execution_count": 19,
     "metadata": {},
     "output_type": "execute_result"
    }
   ],
   "source": [
    "client.search(\n",
    "    index=\"letras_v1\",\n",
    "    query={\n",
    "        \"bool\": {\n",
    "            \"must\": [\n",
    "                {\"match\": {\"letra\": \"Levanta e anda\"}},\n",
    "                {\"term\": {\"ano\": 2014}}\n",
    "            ]\n",
    "        }\n",
    "    }\n",
    ")\n"
   ]
  },
  {
   "cell_type": "code",
   "execution_count": 19,
   "id": "e74be72a-25d4-4bec-b81d-126f9df575b4",
   "metadata": {},
   "outputs": [
    {
     "data": {
      "text/plain": [
       "ObjectApiResponse({'took': 13, 'timed_out': False, '_shards': {'total': 1, 'successful': 1, 'skipped': 0, 'failed': 0}, 'hits': {'total': {'value': 3, 'relation': 'eq'}, 'max_score': 1.8212688, 'hits': [{'_index': 'letras_v1', '_id': 'aqnExpQB2E_3w8_ELt2Q', '_score': 1.8212688, '_ignored': ['letra.keyword'], '_source': {'artista': 'Emicida', 'nome': 'Levanta e Anda', 'ano': 2014, 'letra': 'Era um cômodo incômodo\\nSujo como o dragão-de-komodo, úmido\\nEu, homem da casa aos seis anos\\nMofo no canto todo, TV, engodo, pronto pro lodo\\nTímido, porra, somos reis, mano\\nOlhos são eletrodos, sério, topo, trombo corvos\\nNum cemitério de sonhos graças a leis, planos\\nTroco de jogo, vendo, roubo\\nPus a cabeça a prêmio, ingênuo\\nColhi sorrisos e falei: Vamos\\nÉ um novo tempo, momento pro novo, ao sabor do vento\\nEu me movo pelo solo onde reinamos\\nPondo pontos finais na dor como Doril, Anador\\nSomos a luz do Senhor e pode crer\\nTamo construindo, suponho, não, creio, meto a mão\\nEm meio à escuridão, pronto, acertamos\\nNosso sorriso sereno hoje é o veneno\\nPra quem trouxe tanto ódio pra onde deitamos\\n\\nQuem costuma vir de onde eu sou\\nÀs vezes não tem motivos pra seguir\\nEntão levanta e anda\\nVai, levanta e anda\\nVai, levanta e anda\\nMas eu sei que vai\\nQue o sonho te traz coisas que te faz prosseguir\\nVai, levanta e anda\\nVai, levanta e anda\\nVai, levanta e anda\\nVai, levanta e anda\\n\\nIrmão\\nVocê não percebeu que você é o único representante do seu sonho na face da Terra?\\nSe isso não fizer você correr, chapa\\nEu não sei o que vai\\n\\nEu sei (sei)\\nCansa\\nQuem morre ao fim do mês\\nNossa grana ou nossa esperança?\\nDelírio é\\nEquilíbrio\\nEntre nosso martírio e nossa fé\\nFoi foda contar migalha nos escombro\\nLona preta esticadas, enxada no ombro, e nada vim\\nNada, enfim, recria sozinho\\nCom a alma cheia de mágoa e as panela vazia\\nSonho imundo\\nSó água na geladeira e eu querendo salvar o mundo\\nNo fundo, é tipo David Blaine\\nA mãe assume, o pai some, de costume\\nNo máximo é um sobrenome\\nSou o terror dos clone\\nEsses boy conhece Marx, nós conhece a fome\\nEntão cerra os punho, sorria\\nE jamais volte pra sua quebrada de mão e mente vazia\\n\\nQuem costuma vir de onde eu sou\\nÀs vezes não tem motivos pra seguir\\nEntão levanta e anda\\nVai, levanta e anda\\nVai, levanta e anda\\nMas eu sei que vai\\nQue o sonho te traz coisas que te faz prosseguir\\nEntão levanta e anda\\nVai, levanta e anda\\nVai, levanta e anda\\nVai, levanta e anda\\n\\nSomos maior\\nNos basta só\\nSonhar, seguir'}}, {'_index': 'letras_v1', '_id': 'a6nGxpQB2E_3w8_EaN18', '_score': 1.8212688, '_ignored': ['letra.keyword'], '_source': {'artista': 'Emicida', 'nome': 'Levanta e Anda', 'ano': 2014, 'letra': 'Era um cômodo incômodo\\nSujo como o dragão-de-komodo, úmido\\nEu, homem da casa aos seis anos\\nMofo no canto todo, TV, engodo, pronto pro lodo\\nTímido, porra, somos reis, mano\\nOlhos são eletrodos, sério, topo, trombo corvos\\nNum cemitério de sonhos graças a leis, planos\\nTroco de jogo, vendo, roubo\\nPus a cabeça a prêmio, ingênuo\\nColhi sorrisos e falei: Vamos\\nÉ um novo tempo, momento pro novo, ao sabor do vento\\nEu me movo pelo solo onde reinamos\\nPondo pontos finais na dor como Doril, Anador\\nSomos a luz do Senhor e pode crer\\nTamo construindo, suponho, não, creio, meto a mão\\nEm meio à escuridão, pronto, acertamos\\nNosso sorriso sereno hoje é o veneno\\nPra quem trouxe tanto ódio pra onde deitamos\\n\\nQuem costuma vir de onde eu sou\\nÀs vezes não tem motivos pra seguir\\nEntão levanta e anda\\nVai, levanta e anda\\nVai, levanta e anda\\nMas eu sei que vai\\nQue o sonho te traz coisas que te faz prosseguir\\nVai, levanta e anda\\nVai, levanta e anda\\nVai, levanta e anda\\nVai, levanta e anda\\n\\nIrmão\\nVocê não percebeu que você é o único representante do seu sonho na face da Terra?\\nSe isso não fizer você correr, chapa\\nEu não sei o que vai\\n\\nEu sei (sei)\\nCansa\\nQuem morre ao fim do mês\\nNossa grana ou nossa esperança?\\nDelírio é\\nEquilíbrio\\nEntre nosso martírio e nossa fé\\nFoi foda contar migalha nos escombro\\nLona preta esticadas, enxada no ombro, e nada vim\\nNada, enfim, recria sozinho\\nCom a alma cheia de mágoa e as panela vazia\\nSonho imundo\\nSó água na geladeira e eu querendo salvar o mundo\\nNo fundo, é tipo David Blaine\\nA mãe assume, o pai some, de costume\\nNo máximo é um sobrenome\\nSou o terror dos clone\\nEsses boy conhece Marx, nós conhece a fome\\nEntão cerra os punho, sorria\\nE jamais volte pra sua quebrada de mão e mente vazia\\n\\nQuem costuma vir de onde eu sou\\nÀs vezes não tem motivos pra seguir\\nEntão levanta e anda\\nVai, levanta e anda\\nVai, levanta e anda\\nMas eu sei que vai\\nQue o sonho te traz coisas que te faz prosseguir\\nEntão levanta e anda\\nVai, levanta e anda\\nVai, levanta e anda\\nVai, levanta e anda\\n\\nSomos maior\\nNos basta só\\nSonhar, seguir'}}, {'_index': 'letras_v1', '_id': 'bKncxpQB2E_3w8_EX93c', '_score': 1.8212688, '_ignored': ['letra.keyword'], '_source': {'artista': 'Emicida', 'nome': 'Levanta e Anda', 'ano': 2014, 'letra': 'Era um cômodo incômodo\\nSujo como o dragão-de-komodo, úmido\\nEu, homem da casa aos seis anos\\nMofo no canto todo, TV, engodo, pronto pro lodo\\nTímido, porra, somos reis, mano\\nOlhos são eletrodos, sério, topo, trombo corvos\\nNum cemitério de sonhos graças a leis, planos\\nTroco de jogo, vendo, roubo\\nPus a cabeça a prêmio, ingênuo\\nColhi sorrisos e falei: Vamos\\nÉ um novo tempo, momento pro novo, ao sabor do vento\\nEu me movo pelo solo onde reinamos\\nPondo pontos finais na dor como Doril, Anador\\nSomos a luz do Senhor e pode crer\\nTamo construindo, suponho, não, creio, meto a mão\\nEm meio à escuridão, pronto, acertamos\\nNosso sorriso sereno hoje é o veneno\\nPra quem trouxe tanto ódio pra onde deitamos\\n\\nQuem costuma vir de onde eu sou\\nÀs vezes não tem motivos pra seguir\\nEntão levanta e anda\\nVai, levanta e anda\\nVai, levanta e anda\\nMas eu sei que vai\\nQue o sonho te traz coisas que te faz prosseguir\\nVai, levanta e anda\\nVai, levanta e anda\\nVai, levanta e anda\\nVai, levanta e anda\\n\\nIrmão\\nVocê não percebeu que você é o único representante do seu sonho na face da Terra?\\nSe isso não fizer você correr, chapa\\nEu não sei o que vai\\n\\nEu sei (sei)\\nCansa\\nQuem morre ao fim do mês\\nNossa grana ou nossa esperança?\\nDelírio é\\nEquilíbrio\\nEntre nosso martírio e nossa fé\\nFoi foda contar migalha nos escombro\\nLona preta esticadas, enxada no ombro, e nada vim\\nNada, enfim, recria sozinho\\nCom a alma cheia de mágoa e as panela vazia\\nSonho imundo\\nSó água na geladeira e eu querendo salvar o mundo\\nNo fundo, é tipo David Blaine\\nA mãe assume, o pai some, de costume\\nNo máximo é um sobrenome\\nSou o terror dos clone\\nEsses boy conhece Marx, nós conhece a fome\\nEntão cerra os punho, sorria\\nE jamais volte pra sua quebrada de mão e mente vazia\\n\\nQuem costuma vir de onde eu sou\\nÀs vezes não tem motivos pra seguir\\nEntão levanta e anda\\nVai, levanta e anda\\nVai, levanta e anda\\nMas eu sei que vai\\nQue o sonho te traz coisas que te faz prosseguir\\nEntão levanta e anda\\nVai, levanta e anda\\nVai, levanta e anda\\nVai, levanta e anda\\n\\nSomos maior\\nNos basta só\\nSonhar, seguir'}}]}})"
      ]
     },
     "execution_count": 19,
     "metadata": {},
     "output_type": "execute_result"
    }
   ],
   "source": [
    "client.search(\n",
    "    index=\"letras_v1\",\n",
    "    query={\n",
    "        \"bool\": {\n",
    "            \"must\": [\n",
    "                {\"match\": {\"letra\": \"Levanta e anda\"}},\n",
    "                {\"term\": {\"ano\": 2014}}\n",
    "            ]\n",
    "        }\n",
    "    }\n",
    ")\n"
   ]
  },
  {
   "cell_type": "code",
   "execution_count": 20,
   "id": "16d22a6f-cb71-4cb8-adfb-3aef4e2a7305",
   "metadata": {},
   "outputs": [
    {
     "data": {
      "text/plain": [
       "ObjectApiResponse({'took': 14, 'timed_out': False, '_shards': {'total': 1, 'successful': 1, 'skipped': 0, 'failed': 0}, 'hits': {'total': {'value': 3, 'relation': 'eq'}, 'max_score': 0.8212688, 'hits': [{'_index': 'letras_v1', '_id': 'aqnExpQB2E_3w8_ELt2Q', '_score': 0.8212688, '_ignored': ['letra.keyword'], '_source': {'artista': 'Emicida', 'nome': 'Levanta e Anda', 'ano': 2014, 'letra': 'Era um cômodo incômodo\\nSujo como o dragão-de-komodo, úmido\\nEu, homem da casa aos seis anos\\nMofo no canto todo, TV, engodo, pronto pro lodo\\nTímido, porra, somos reis, mano\\nOlhos são eletrodos, sério, topo, trombo corvos\\nNum cemitério de sonhos graças a leis, planos\\nTroco de jogo, vendo, roubo\\nPus a cabeça a prêmio, ingênuo\\nColhi sorrisos e falei: Vamos\\nÉ um novo tempo, momento pro novo, ao sabor do vento\\nEu me movo pelo solo onde reinamos\\nPondo pontos finais na dor como Doril, Anador\\nSomos a luz do Senhor e pode crer\\nTamo construindo, suponho, não, creio, meto a mão\\nEm meio à escuridão, pronto, acertamos\\nNosso sorriso sereno hoje é o veneno\\nPra quem trouxe tanto ódio pra onde deitamos\\n\\nQuem costuma vir de onde eu sou\\nÀs vezes não tem motivos pra seguir\\nEntão levanta e anda\\nVai, levanta e anda\\nVai, levanta e anda\\nMas eu sei que vai\\nQue o sonho te traz coisas que te faz prosseguir\\nVai, levanta e anda\\nVai, levanta e anda\\nVai, levanta e anda\\nVai, levanta e anda\\n\\nIrmão\\nVocê não percebeu que você é o único representante do seu sonho na face da Terra?\\nSe isso não fizer você correr, chapa\\nEu não sei o que vai\\n\\nEu sei (sei)\\nCansa\\nQuem morre ao fim do mês\\nNossa grana ou nossa esperança?\\nDelírio é\\nEquilíbrio\\nEntre nosso martírio e nossa fé\\nFoi foda contar migalha nos escombro\\nLona preta esticadas, enxada no ombro, e nada vim\\nNada, enfim, recria sozinho\\nCom a alma cheia de mágoa e as panela vazia\\nSonho imundo\\nSó água na geladeira e eu querendo salvar o mundo\\nNo fundo, é tipo David Blaine\\nA mãe assume, o pai some, de costume\\nNo máximo é um sobrenome\\nSou o terror dos clone\\nEsses boy conhece Marx, nós conhece a fome\\nEntão cerra os punho, sorria\\nE jamais volte pra sua quebrada de mão e mente vazia\\n\\nQuem costuma vir de onde eu sou\\nÀs vezes não tem motivos pra seguir\\nEntão levanta e anda\\nVai, levanta e anda\\nVai, levanta e anda\\nMas eu sei que vai\\nQue o sonho te traz coisas que te faz prosseguir\\nEntão levanta e anda\\nVai, levanta e anda\\nVai, levanta e anda\\nVai, levanta e anda\\n\\nSomos maior\\nNos basta só\\nSonhar, seguir'}}, {'_index': 'letras_v1', '_id': 'a6nGxpQB2E_3w8_EaN18', '_score': 0.8212688, '_ignored': ['letra.keyword'], '_source': {'artista': 'Emicida', 'nome': 'Levanta e Anda', 'ano': 2014, 'letra': 'Era um cômodo incômodo\\nSujo como o dragão-de-komodo, úmido\\nEu, homem da casa aos seis anos\\nMofo no canto todo, TV, engodo, pronto pro lodo\\nTímido, porra, somos reis, mano\\nOlhos são eletrodos, sério, topo, trombo corvos\\nNum cemitério de sonhos graças a leis, planos\\nTroco de jogo, vendo, roubo\\nPus a cabeça a prêmio, ingênuo\\nColhi sorrisos e falei: Vamos\\nÉ um novo tempo, momento pro novo, ao sabor do vento\\nEu me movo pelo solo onde reinamos\\nPondo pontos finais na dor como Doril, Anador\\nSomos a luz do Senhor e pode crer\\nTamo construindo, suponho, não, creio, meto a mão\\nEm meio à escuridão, pronto, acertamos\\nNosso sorriso sereno hoje é o veneno\\nPra quem trouxe tanto ódio pra onde deitamos\\n\\nQuem costuma vir de onde eu sou\\nÀs vezes não tem motivos pra seguir\\nEntão levanta e anda\\nVai, levanta e anda\\nVai, levanta e anda\\nMas eu sei que vai\\nQue o sonho te traz coisas que te faz prosseguir\\nVai, levanta e anda\\nVai, levanta e anda\\nVai, levanta e anda\\nVai, levanta e anda\\n\\nIrmão\\nVocê não percebeu que você é o único representante do seu sonho na face da Terra?\\nSe isso não fizer você correr, chapa\\nEu não sei o que vai\\n\\nEu sei (sei)\\nCansa\\nQuem morre ao fim do mês\\nNossa grana ou nossa esperança?\\nDelírio é\\nEquilíbrio\\nEntre nosso martírio e nossa fé\\nFoi foda contar migalha nos escombro\\nLona preta esticadas, enxada no ombro, e nada vim\\nNada, enfim, recria sozinho\\nCom a alma cheia de mágoa e as panela vazia\\nSonho imundo\\nSó água na geladeira e eu querendo salvar o mundo\\nNo fundo, é tipo David Blaine\\nA mãe assume, o pai some, de costume\\nNo máximo é um sobrenome\\nSou o terror dos clone\\nEsses boy conhece Marx, nós conhece a fome\\nEntão cerra os punho, sorria\\nE jamais volte pra sua quebrada de mão e mente vazia\\n\\nQuem costuma vir de onde eu sou\\nÀs vezes não tem motivos pra seguir\\nEntão levanta e anda\\nVai, levanta e anda\\nVai, levanta e anda\\nMas eu sei que vai\\nQue o sonho te traz coisas que te faz prosseguir\\nEntão levanta e anda\\nVai, levanta e anda\\nVai, levanta e anda\\nVai, levanta e anda\\n\\nSomos maior\\nNos basta só\\nSonhar, seguir'}}, {'_index': 'letras_v1', '_id': 'bKncxpQB2E_3w8_EX93c', '_score': 0.8212688, '_ignored': ['letra.keyword'], '_source': {'artista': 'Emicida', 'nome': 'Levanta e Anda', 'ano': 2014, 'letra': 'Era um cômodo incômodo\\nSujo como o dragão-de-komodo, úmido\\nEu, homem da casa aos seis anos\\nMofo no canto todo, TV, engodo, pronto pro lodo\\nTímido, porra, somos reis, mano\\nOlhos são eletrodos, sério, topo, trombo corvos\\nNum cemitério de sonhos graças a leis, planos\\nTroco de jogo, vendo, roubo\\nPus a cabeça a prêmio, ingênuo\\nColhi sorrisos e falei: Vamos\\nÉ um novo tempo, momento pro novo, ao sabor do vento\\nEu me movo pelo solo onde reinamos\\nPondo pontos finais na dor como Doril, Anador\\nSomos a luz do Senhor e pode crer\\nTamo construindo, suponho, não, creio, meto a mão\\nEm meio à escuridão, pronto, acertamos\\nNosso sorriso sereno hoje é o veneno\\nPra quem trouxe tanto ódio pra onde deitamos\\n\\nQuem costuma vir de onde eu sou\\nÀs vezes não tem motivos pra seguir\\nEntão levanta e anda\\nVai, levanta e anda\\nVai, levanta e anda\\nMas eu sei que vai\\nQue o sonho te traz coisas que te faz prosseguir\\nVai, levanta e anda\\nVai, levanta e anda\\nVai, levanta e anda\\nVai, levanta e anda\\n\\nIrmão\\nVocê não percebeu que você é o único representante do seu sonho na face da Terra?\\nSe isso não fizer você correr, chapa\\nEu não sei o que vai\\n\\nEu sei (sei)\\nCansa\\nQuem morre ao fim do mês\\nNossa grana ou nossa esperança?\\nDelírio é\\nEquilíbrio\\nEntre nosso martírio e nossa fé\\nFoi foda contar migalha nos escombro\\nLona preta esticadas, enxada no ombro, e nada vim\\nNada, enfim, recria sozinho\\nCom a alma cheia de mágoa e as panela vazia\\nSonho imundo\\nSó água na geladeira e eu querendo salvar o mundo\\nNo fundo, é tipo David Blaine\\nA mãe assume, o pai some, de costume\\nNo máximo é um sobrenome\\nSou o terror dos clone\\nEsses boy conhece Marx, nós conhece a fome\\nEntão cerra os punho, sorria\\nE jamais volte pra sua quebrada de mão e mente vazia\\n\\nQuem costuma vir de onde eu sou\\nÀs vezes não tem motivos pra seguir\\nEntão levanta e anda\\nVai, levanta e anda\\nVai, levanta e anda\\nMas eu sei que vai\\nQue o sonho te traz coisas que te faz prosseguir\\nEntão levanta e anda\\nVai, levanta e anda\\nVai, levanta e anda\\nVai, levanta e anda\\n\\nSomos maior\\nNos basta só\\nSonhar, seguir'}}]}})"
      ]
     },
     "execution_count": 20,
     "metadata": {},
     "output_type": "execute_result"
    }
   ],
   "source": [
    "client.search(\n",
    "    index=\"letras_v1\",\n",
    "    query={\n",
    "        \"bool\": {\n",
    "            \"must\": [\n",
    "                {\"match\": {\"letra\": \"Levanta e anda\"}},\n",
    "            ],\n",
    "            \"filter\":[\n",
    "                  {\"term\": {\"ano\": 2014}}\n",
    "            ]\n",
    "        }\n",
    "    }\n",
    ")"
   ]
  },
  {
   "cell_type": "code",
   "execution_count": 21,
   "id": "a6f8fb37-4115-416a-87be-4e11aa1fb542",
   "metadata": {},
   "outputs": [
    {
     "data": {
      "text/plain": [
       "ObjectApiResponse({'took': 16, 'timed_out': False, '_shards': {'total': 1, 'successful': 1, 'skipped': 0, 'failed': 0}, 'hits': {'total': {'value': 3, 'relation': 'eq'}, 'max_score': 0.8212688, 'hits': [{'_index': 'letras_v1', '_id': 'aqnExpQB2E_3w8_ELt2Q', '_score': 0.8212688, '_ignored': ['letra.keyword'], '_source': {'artista': 'Emicida', 'nome': 'Levanta e Anda', 'ano': 2014, 'letra': 'Era um cômodo incômodo\\nSujo como o dragão-de-komodo, úmido\\nEu, homem da casa aos seis anos\\nMofo no canto todo, TV, engodo, pronto pro lodo\\nTímido, porra, somos reis, mano\\nOlhos são eletrodos, sério, topo, trombo corvos\\nNum cemitério de sonhos graças a leis, planos\\nTroco de jogo, vendo, roubo\\nPus a cabeça a prêmio, ingênuo\\nColhi sorrisos e falei: Vamos\\nÉ um novo tempo, momento pro novo, ao sabor do vento\\nEu me movo pelo solo onde reinamos\\nPondo pontos finais na dor como Doril, Anador\\nSomos a luz do Senhor e pode crer\\nTamo construindo, suponho, não, creio, meto a mão\\nEm meio à escuridão, pronto, acertamos\\nNosso sorriso sereno hoje é o veneno\\nPra quem trouxe tanto ódio pra onde deitamos\\n\\nQuem costuma vir de onde eu sou\\nÀs vezes não tem motivos pra seguir\\nEntão levanta e anda\\nVai, levanta e anda\\nVai, levanta e anda\\nMas eu sei que vai\\nQue o sonho te traz coisas que te faz prosseguir\\nVai, levanta e anda\\nVai, levanta e anda\\nVai, levanta e anda\\nVai, levanta e anda\\n\\nIrmão\\nVocê não percebeu que você é o único representante do seu sonho na face da Terra?\\nSe isso não fizer você correr, chapa\\nEu não sei o que vai\\n\\nEu sei (sei)\\nCansa\\nQuem morre ao fim do mês\\nNossa grana ou nossa esperança?\\nDelírio é\\nEquilíbrio\\nEntre nosso martírio e nossa fé\\nFoi foda contar migalha nos escombro\\nLona preta esticadas, enxada no ombro, e nada vim\\nNada, enfim, recria sozinho\\nCom a alma cheia de mágoa e as panela vazia\\nSonho imundo\\nSó água na geladeira e eu querendo salvar o mundo\\nNo fundo, é tipo David Blaine\\nA mãe assume, o pai some, de costume\\nNo máximo é um sobrenome\\nSou o terror dos clone\\nEsses boy conhece Marx, nós conhece a fome\\nEntão cerra os punho, sorria\\nE jamais volte pra sua quebrada de mão e mente vazia\\n\\nQuem costuma vir de onde eu sou\\nÀs vezes não tem motivos pra seguir\\nEntão levanta e anda\\nVai, levanta e anda\\nVai, levanta e anda\\nMas eu sei que vai\\nQue o sonho te traz coisas que te faz prosseguir\\nEntão levanta e anda\\nVai, levanta e anda\\nVai, levanta e anda\\nVai, levanta e anda\\n\\nSomos maior\\nNos basta só\\nSonhar, seguir'}}, {'_index': 'letras_v1', '_id': 'a6nGxpQB2E_3w8_EaN18', '_score': 0.8212688, '_ignored': ['letra.keyword'], '_source': {'artista': 'Emicida', 'nome': 'Levanta e Anda', 'ano': 2014, 'letra': 'Era um cômodo incômodo\\nSujo como o dragão-de-komodo, úmido\\nEu, homem da casa aos seis anos\\nMofo no canto todo, TV, engodo, pronto pro lodo\\nTímido, porra, somos reis, mano\\nOlhos são eletrodos, sério, topo, trombo corvos\\nNum cemitério de sonhos graças a leis, planos\\nTroco de jogo, vendo, roubo\\nPus a cabeça a prêmio, ingênuo\\nColhi sorrisos e falei: Vamos\\nÉ um novo tempo, momento pro novo, ao sabor do vento\\nEu me movo pelo solo onde reinamos\\nPondo pontos finais na dor como Doril, Anador\\nSomos a luz do Senhor e pode crer\\nTamo construindo, suponho, não, creio, meto a mão\\nEm meio à escuridão, pronto, acertamos\\nNosso sorriso sereno hoje é o veneno\\nPra quem trouxe tanto ódio pra onde deitamos\\n\\nQuem costuma vir de onde eu sou\\nÀs vezes não tem motivos pra seguir\\nEntão levanta e anda\\nVai, levanta e anda\\nVai, levanta e anda\\nMas eu sei que vai\\nQue o sonho te traz coisas que te faz prosseguir\\nVai, levanta e anda\\nVai, levanta e anda\\nVai, levanta e anda\\nVai, levanta e anda\\n\\nIrmão\\nVocê não percebeu que você é o único representante do seu sonho na face da Terra?\\nSe isso não fizer você correr, chapa\\nEu não sei o que vai\\n\\nEu sei (sei)\\nCansa\\nQuem morre ao fim do mês\\nNossa grana ou nossa esperança?\\nDelírio é\\nEquilíbrio\\nEntre nosso martírio e nossa fé\\nFoi foda contar migalha nos escombro\\nLona preta esticadas, enxada no ombro, e nada vim\\nNada, enfim, recria sozinho\\nCom a alma cheia de mágoa e as panela vazia\\nSonho imundo\\nSó água na geladeira e eu querendo salvar o mundo\\nNo fundo, é tipo David Blaine\\nA mãe assume, o pai some, de costume\\nNo máximo é um sobrenome\\nSou o terror dos clone\\nEsses boy conhece Marx, nós conhece a fome\\nEntão cerra os punho, sorria\\nE jamais volte pra sua quebrada de mão e mente vazia\\n\\nQuem costuma vir de onde eu sou\\nÀs vezes não tem motivos pra seguir\\nEntão levanta e anda\\nVai, levanta e anda\\nVai, levanta e anda\\nMas eu sei que vai\\nQue o sonho te traz coisas que te faz prosseguir\\nEntão levanta e anda\\nVai, levanta e anda\\nVai, levanta e anda\\nVai, levanta e anda\\n\\nSomos maior\\nNos basta só\\nSonhar, seguir'}}, {'_index': 'letras_v1', '_id': 'bKncxpQB2E_3w8_EX93c', '_score': 0.8212688, '_ignored': ['letra.keyword'], '_source': {'artista': 'Emicida', 'nome': 'Levanta e Anda', 'ano': 2014, 'letra': 'Era um cômodo incômodo\\nSujo como o dragão-de-komodo, úmido\\nEu, homem da casa aos seis anos\\nMofo no canto todo, TV, engodo, pronto pro lodo\\nTímido, porra, somos reis, mano\\nOlhos são eletrodos, sério, topo, trombo corvos\\nNum cemitério de sonhos graças a leis, planos\\nTroco de jogo, vendo, roubo\\nPus a cabeça a prêmio, ingênuo\\nColhi sorrisos e falei: Vamos\\nÉ um novo tempo, momento pro novo, ao sabor do vento\\nEu me movo pelo solo onde reinamos\\nPondo pontos finais na dor como Doril, Anador\\nSomos a luz do Senhor e pode crer\\nTamo construindo, suponho, não, creio, meto a mão\\nEm meio à escuridão, pronto, acertamos\\nNosso sorriso sereno hoje é o veneno\\nPra quem trouxe tanto ódio pra onde deitamos\\n\\nQuem costuma vir de onde eu sou\\nÀs vezes não tem motivos pra seguir\\nEntão levanta e anda\\nVai, levanta e anda\\nVai, levanta e anda\\nMas eu sei que vai\\nQue o sonho te traz coisas que te faz prosseguir\\nVai, levanta e anda\\nVai, levanta e anda\\nVai, levanta e anda\\nVai, levanta e anda\\n\\nIrmão\\nVocê não percebeu que você é o único representante do seu sonho na face da Terra?\\nSe isso não fizer você correr, chapa\\nEu não sei o que vai\\n\\nEu sei (sei)\\nCansa\\nQuem morre ao fim do mês\\nNossa grana ou nossa esperança?\\nDelírio é\\nEquilíbrio\\nEntre nosso martírio e nossa fé\\nFoi foda contar migalha nos escombro\\nLona preta esticadas, enxada no ombro, e nada vim\\nNada, enfim, recria sozinho\\nCom a alma cheia de mágoa e as panela vazia\\nSonho imundo\\nSó água na geladeira e eu querendo salvar o mundo\\nNo fundo, é tipo David Blaine\\nA mãe assume, o pai some, de costume\\nNo máximo é um sobrenome\\nSou o terror dos clone\\nEsses boy conhece Marx, nós conhece a fome\\nEntão cerra os punho, sorria\\nE jamais volte pra sua quebrada de mão e mente vazia\\n\\nQuem costuma vir de onde eu sou\\nÀs vezes não tem motivos pra seguir\\nEntão levanta e anda\\nVai, levanta e anda\\nVai, levanta e anda\\nMas eu sei que vai\\nQue o sonho te traz coisas que te faz prosseguir\\nEntão levanta e anda\\nVai, levanta e anda\\nVai, levanta e anda\\nVai, levanta e anda\\n\\nSomos maior\\nNos basta só\\nSonhar, seguir'}}]}})"
      ]
     },
     "execution_count": 21,
     "metadata": {},
     "output_type": "execute_result"
    }
   ],
   "source": [
    "client.search(\n",
    "    index=\"letras_v1\",\n",
    "    query={\n",
    "        \"bool\": {\n",
    "            \"must\": [\n",
    "                {\"match\": {\"letra\": \"Levanta e anda\"}},\n",
    "            ],\n",
    "            \"should\":[\n",
    "                  {\"term\": {\"ano\": 2015}}\n",
    "            ]\n",
    "        }\n",
    "    }\n",
    ")"
   ]
  },
  {
   "cell_type": "markdown",
   "id": "8bfe96a5-53b5-4acc-ba54-8ea4155f0083",
   "metadata": {},
   "source": [
    "Using DSL"
   ]
  },
  {
   "cell_type": "code",
   "execution_count": 22,
   "id": "41548445-4b2a-484f-8058-3bd4e45ff29f",
   "metadata": {},
   "outputs": [],
   "source": [
    "from elasticsearch_dsl import Search"
   ]
  },
  {
   "cell_type": "code",
   "execution_count": 25,
   "id": "4514d1b3-ad0b-4b3b-af56-5ed05c228ee9",
   "metadata": {},
   "outputs": [],
   "source": [
    "resposta_dsl = Search(using=client, index=\"letras_v1\").query('match',artista=\"Emicida\")"
   ]
  },
  {
   "cell_type": "code",
   "execution_count": 26,
   "id": "bf4ad128-5742-4af1-b173-8c02f86898b3",
   "metadata": {},
   "outputs": [
    {
     "data": {
      "text/plain": [
       "<elasticsearch_dsl._sync.search.Search at 0x21fe62d92e0>"
      ]
     },
     "execution_count": 26,
     "metadata": {},
     "output_type": "execute_result"
    }
   ],
   "source": [
    "resposta_dsl"
   ]
  },
  {
   "cell_type": "code",
   "execution_count": 29,
   "id": "3bcf0666-b763-46bd-b305-15c86bf181ef",
   "metadata": {},
   "outputs": [
    {
     "data": {
      "text/plain": [
       "<Response: [<Hit(letras_v1/aqnExpQB2E_3w8_ELt2Q): {'artista': 'Emicida', 'nome': 'Levanta e Anda', 'ano': 2014...}>, <Hit(letras_v1/a6nGxpQB2E_3w8_EaN18): {'artista': 'Emicida', 'nome': 'Levanta e Anda', 'ano': 2014...}>, <Hit(letras_v1/bKncxpQB2E_3w8_EX93c): {'artista': 'Emicida', 'nome': 'Levanta e Anda', 'ano': 2014...}>]>"
      ]
     },
     "execution_count": 29,
     "metadata": {},
     "output_type": "execute_result"
    }
   ],
   "source": [
    "resposta_dsl.execute()"
   ]
  },
  {
   "cell_type": "code",
   "execution_count": 36,
   "id": "0e1b508e-9bed-4865-97d0-0d1a99f3fd98",
   "metadata": {},
   "outputs": [
    {
     "data": {
      "text/plain": [
       "0.13353139"
      ]
     },
     "execution_count": 36,
     "metadata": {},
     "output_type": "execute_result"
    }
   ],
   "source": [
    "resposta_dsl.execute().hits.max_score"
   ]
  },
  {
   "cell_type": "code",
   "execution_count": 37,
   "id": "827ce3a3-7542-4b13-9865-5afd0d74f674",
   "metadata": {},
   "outputs": [],
   "source": [
    "resposta_dsl = Search(using=client, index=\"letras_v1\").query('bool',must=[{\"match\":{\"letra\":\"Levanta e anda\"}}],should=[{\"term\":{\"ano\":2025}}])"
   ]
  },
  {
   "cell_type": "code",
   "execution_count": 38,
   "id": "8e145a52-c247-44bd-b3f2-8a0879113f2b",
   "metadata": {},
   "outputs": [
    {
     "data": {
      "text/plain": [
       "<Response: [<Hit(letras_v1/aqnExpQB2E_3w8_ELt2Q): {'artista': 'Emicida', 'nome': 'Levanta e Anda', 'ano': 2014...}>, <Hit(letras_v1/a6nGxpQB2E_3w8_EaN18): {'artista': 'Emicida', 'nome': 'Levanta e Anda', 'ano': 2014...}>, <Hit(letras_v1/bKncxpQB2E_3w8_EX93c): {'artista': 'Emicida', 'nome': 'Levanta e Anda', 'ano': 2014...}>]>"
      ]
     },
     "execution_count": 38,
     "metadata": {},
     "output_type": "execute_result"
    }
   ],
   "source": [
    "resposta_dsl.execute()"
   ]
  },
  {
   "cell_type": "markdown",
   "id": "f17da0a9-b2c5-4ee0-bb7d-ff2641e775fc",
   "metadata": {},
   "source": [
    "## Third Step - Update"
   ]
  },
  {
   "cell_type": "code",
   "execution_count": 39,
   "id": "57c6b8f1-1179-46ea-98c9-469cebcc85cc",
   "metadata": {},
   "outputs": [
    {
     "data": {
      "text/plain": [
       "ObjectApiResponse({'_index': 'letras_v1', '_id': 'bKncxpQB2E_3w8_EX93c', '_version': 2, 'result': 'updated', '_shards': {'total': 2, 'successful': 1, 'failed': 0}, '_seq_no': 3, '_primary_term': 1})"
      ]
     },
     "execution_count": 39,
     "metadata": {},
     "output_type": "execute_result"
    }
   ],
   "source": [
    "client.update(index=\"letras_v1\", id=id_obj, doc={\n",
    "    \"ano\": 2025\n",
    "})"
   ]
  },
  {
   "cell_type": "code",
   "execution_count": 40,
   "id": "6caa19e8-af7c-4caa-876f-56a15957faf3",
   "metadata": {},
   "outputs": [],
   "source": [
    "resposta_dsl = Search(using=client, index=\"letras_v1\").query('bool',must=[{\"match\":{\"letra\":\"Levanta e anda\"}}],should=[{\"term\":{\"ano\":2025}}])"
   ]
  },
  {
   "cell_type": "code",
   "execution_count": 41,
   "id": "33c860ed-3f9c-475f-b466-f0175d3358c7",
   "metadata": {},
   "outputs": [
    {
     "data": {
      "text/plain": [
       "<Response: [<Hit(letras_v1/bKncxpQB2E_3w8_EX93c): {'artista': 'Emicida', 'nome': 'Levanta e Anda', 'ano': 2025...}>, <Hit(letras_v1/aqnExpQB2E_3w8_ELt2Q): {'artista': 'Emicida', 'nome': 'Levanta e Anda', 'ano': 2014...}>, <Hit(letras_v1/a6nGxpQB2E_3w8_EaN18): {'artista': 'Emicida', 'nome': 'Levanta e Anda', 'ano': 2014...}>]>"
      ]
     },
     "execution_count": 41,
     "metadata": {},
     "output_type": "execute_result"
    }
   ],
   "source": [
    "resposta_dsl.execute()"
   ]
  },
  {
   "cell_type": "markdown",
   "id": "2cefc098-d27c-4f2b-9773-5cc583d8b968",
   "metadata": {},
   "source": [
    "## Fourth Step - Delete"
   ]
  },
  {
   "cell_type": "code",
   "execution_count": 42,
   "id": "87957225-92b4-4ecc-b818-df112a7a7d87",
   "metadata": {},
   "outputs": [
    {
     "data": {
      "text/plain": [
       "ObjectApiResponse({'_index': 'letras_v1', '_id': 'bKncxpQB2E_3w8_EX93c', '_version': 3, 'result': 'deleted', '_shards': {'total': 2, 'successful': 1, 'failed': 0}, '_seq_no': 4, '_primary_term': 1})"
      ]
     },
     "execution_count": 42,
     "metadata": {},
     "output_type": "execute_result"
    }
   ],
   "source": [
    "client.delete(index=\"letras_v1\", id=id_obj)"
   ]
  },
  {
   "cell_type": "code",
   "execution_count": 43,
   "id": "1f0b5f9a-5416-4b69-83dd-98e93f3469a3",
   "metadata": {},
   "outputs": [
    {
     "ename": "NotFoundError",
     "evalue": "NotFoundError(404, \"{'_index': 'letras_v1', '_id': 'bKncxpQB2E_3w8_EX93c', 'found': False}\")",
     "output_type": "error",
     "traceback": [
      "\u001b[1;31m---------------------------------------------------------------------------\u001b[0m",
      "\u001b[1;31mNotFoundError\u001b[0m                             Traceback (most recent call last)",
      "Cell \u001b[1;32mIn[43], line 1\u001b[0m\n\u001b[1;32m----> 1\u001b[0m \u001b[43mclient\u001b[49m\u001b[38;5;241;43m.\u001b[39;49m\u001b[43mget\u001b[49m\u001b[43m(\u001b[49m\u001b[43mindex\u001b[49m\u001b[38;5;241;43m=\u001b[39;49m\u001b[38;5;124;43m\"\u001b[39;49m\u001b[38;5;124;43mletras_v1\u001b[39;49m\u001b[38;5;124;43m\"\u001b[39;49m\u001b[43m,\u001b[49m\u001b[38;5;28;43mid\u001b[39;49m\u001b[38;5;241;43m=\u001b[39;49m\u001b[43mid_obj\u001b[49m\u001b[43m)\u001b[49m\n",
      "File \u001b[1;32m~\\Documents\\Pessoal\\4_database_in_one_lecture\\4databaseenv\\Lib\\site-packages\\elasticsearch\\_sync\\client\\utils.py:455\u001b[0m, in \u001b[0;36m_rewrite_parameters.<locals>.wrapper.<locals>.wrapped\u001b[1;34m(*args, **kwargs)\u001b[0m\n\u001b[0;32m    452\u001b[0m         \u001b[38;5;28;01mexcept\u001b[39;00m \u001b[38;5;167;01mKeyError\u001b[39;00m:\n\u001b[0;32m    453\u001b[0m             \u001b[38;5;28;01mpass\u001b[39;00m\n\u001b[1;32m--> 455\u001b[0m \u001b[38;5;28;01mreturn\u001b[39;00m \u001b[43mapi\u001b[49m\u001b[43m(\u001b[49m\u001b[38;5;241;43m*\u001b[39;49m\u001b[43margs\u001b[49m\u001b[43m,\u001b[49m\u001b[43m \u001b[49m\u001b[38;5;241;43m*\u001b[39;49m\u001b[38;5;241;43m*\u001b[39;49m\u001b[43mkwargs\u001b[49m\u001b[43m)\u001b[49m\n",
      "File \u001b[1;32m~\\Documents\\Pessoal\\4_database_in_one_lecture\\4databaseenv\\Lib\\site-packages\\elasticsearch\\_sync\\client\\__init__.py:2151\u001b[0m, in \u001b[0;36mElasticsearch.get\u001b[1;34m(self, index, id, error_trace, filter_path, force_synthetic_source, human, preference, pretty, realtime, refresh, routing, source, source_excludes, source_includes, stored_fields, version, version_type)\u001b[0m\n\u001b[0;32m   2149\u001b[0m     __query[\u001b[38;5;124m\"\u001b[39m\u001b[38;5;124mversion_type\u001b[39m\u001b[38;5;124m\"\u001b[39m] \u001b[38;5;241m=\u001b[39m version_type\n\u001b[0;32m   2150\u001b[0m __headers \u001b[38;5;241m=\u001b[39m {\u001b[38;5;124m\"\u001b[39m\u001b[38;5;124maccept\u001b[39m\u001b[38;5;124m\"\u001b[39m: \u001b[38;5;124m\"\u001b[39m\u001b[38;5;124mapplication/json\u001b[39m\u001b[38;5;124m\"\u001b[39m}\n\u001b[1;32m-> 2151\u001b[0m \u001b[38;5;28;01mreturn\u001b[39;00m \u001b[38;5;28;43mself\u001b[39;49m\u001b[38;5;241;43m.\u001b[39;49m\u001b[43mperform_request\u001b[49m\u001b[43m(\u001b[49m\u001b[43m  \u001b[49m\u001b[38;5;66;43;03m# type: ignore[return-value]\u001b[39;49;00m\n\u001b[0;32m   2152\u001b[0m \u001b[43m    \u001b[49m\u001b[38;5;124;43m\"\u001b[39;49m\u001b[38;5;124;43mGET\u001b[39;49m\u001b[38;5;124;43m\"\u001b[39;49m\u001b[43m,\u001b[49m\n\u001b[0;32m   2153\u001b[0m \u001b[43m    \u001b[49m\u001b[43m__path\u001b[49m\u001b[43m,\u001b[49m\n\u001b[0;32m   2154\u001b[0m \u001b[43m    \u001b[49m\u001b[43mparams\u001b[49m\u001b[38;5;241;43m=\u001b[39;49m\u001b[43m__query\u001b[49m\u001b[43m,\u001b[49m\n\u001b[0;32m   2155\u001b[0m \u001b[43m    \u001b[49m\u001b[43mheaders\u001b[49m\u001b[38;5;241;43m=\u001b[39;49m\u001b[43m__headers\u001b[49m\u001b[43m,\u001b[49m\n\u001b[0;32m   2156\u001b[0m \u001b[43m    \u001b[49m\u001b[43mendpoint_id\u001b[49m\u001b[38;5;241;43m=\u001b[39;49m\u001b[38;5;124;43m\"\u001b[39;49m\u001b[38;5;124;43mget\u001b[39;49m\u001b[38;5;124;43m\"\u001b[39;49m\u001b[43m,\u001b[49m\n\u001b[0;32m   2157\u001b[0m \u001b[43m    \u001b[49m\u001b[43mpath_parts\u001b[49m\u001b[38;5;241;43m=\u001b[39;49m\u001b[43m__path_parts\u001b[49m\u001b[43m,\u001b[49m\n\u001b[0;32m   2158\u001b[0m \u001b[43m\u001b[49m\u001b[43m)\u001b[49m\n",
      "File \u001b[1;32m~\\Documents\\Pessoal\\4_database_in_one_lecture\\4databaseenv\\Lib\\site-packages\\elasticsearch\\_sync\\client\\_base.py:271\u001b[0m, in \u001b[0;36mBaseClient.perform_request\u001b[1;34m(self, method, path, params, headers, body, endpoint_id, path_parts)\u001b[0m\n\u001b[0;32m    255\u001b[0m \u001b[38;5;28;01mdef\u001b[39;00m\u001b[38;5;250m \u001b[39m\u001b[38;5;21mperform_request\u001b[39m(\n\u001b[0;32m    256\u001b[0m     \u001b[38;5;28mself\u001b[39m,\n\u001b[0;32m    257\u001b[0m     method: \u001b[38;5;28mstr\u001b[39m,\n\u001b[1;32m   (...)\u001b[0m\n\u001b[0;32m    264\u001b[0m     path_parts: Optional[Mapping[\u001b[38;5;28mstr\u001b[39m, Any]] \u001b[38;5;241m=\u001b[39m \u001b[38;5;28;01mNone\u001b[39;00m,\n\u001b[0;32m    265\u001b[0m ) \u001b[38;5;241m-\u001b[39m\u001b[38;5;241m>\u001b[39m ApiResponse[Any]:\n\u001b[0;32m    266\u001b[0m     \u001b[38;5;28;01mwith\u001b[39;00m \u001b[38;5;28mself\u001b[39m\u001b[38;5;241m.\u001b[39m_otel\u001b[38;5;241m.\u001b[39mspan(\n\u001b[0;32m    267\u001b[0m         method,\n\u001b[0;32m    268\u001b[0m         endpoint_id\u001b[38;5;241m=\u001b[39mendpoint_id,\n\u001b[0;32m    269\u001b[0m         path_parts\u001b[38;5;241m=\u001b[39mpath_parts \u001b[38;5;129;01mor\u001b[39;00m {},\n\u001b[0;32m    270\u001b[0m     ) \u001b[38;5;28;01mas\u001b[39;00m otel_span:\n\u001b[1;32m--> 271\u001b[0m         response \u001b[38;5;241m=\u001b[39m \u001b[38;5;28;43mself\u001b[39;49m\u001b[38;5;241;43m.\u001b[39;49m\u001b[43m_perform_request\u001b[49m\u001b[43m(\u001b[49m\n\u001b[0;32m    272\u001b[0m \u001b[43m            \u001b[49m\u001b[43mmethod\u001b[49m\u001b[43m,\u001b[49m\n\u001b[0;32m    273\u001b[0m \u001b[43m            \u001b[49m\u001b[43mpath\u001b[49m\u001b[43m,\u001b[49m\n\u001b[0;32m    274\u001b[0m \u001b[43m            \u001b[49m\u001b[43mparams\u001b[49m\u001b[38;5;241;43m=\u001b[39;49m\u001b[43mparams\u001b[49m\u001b[43m,\u001b[49m\n\u001b[0;32m    275\u001b[0m \u001b[43m            \u001b[49m\u001b[43mheaders\u001b[49m\u001b[38;5;241;43m=\u001b[39;49m\u001b[43mheaders\u001b[49m\u001b[43m,\u001b[49m\n\u001b[0;32m    276\u001b[0m \u001b[43m            \u001b[49m\u001b[43mbody\u001b[49m\u001b[38;5;241;43m=\u001b[39;49m\u001b[43mbody\u001b[49m\u001b[43m,\u001b[49m\n\u001b[0;32m    277\u001b[0m \u001b[43m            \u001b[49m\u001b[43motel_span\u001b[49m\u001b[38;5;241;43m=\u001b[39;49m\u001b[43motel_span\u001b[49m\u001b[43m,\u001b[49m\n\u001b[0;32m    278\u001b[0m \u001b[43m        \u001b[49m\u001b[43m)\u001b[49m\n\u001b[0;32m    279\u001b[0m         otel_span\u001b[38;5;241m.\u001b[39mset_elastic_cloud_metadata(response\u001b[38;5;241m.\u001b[39mmeta\u001b[38;5;241m.\u001b[39mheaders)\n\u001b[0;32m    280\u001b[0m         \u001b[38;5;28;01mreturn\u001b[39;00m response\n",
      "File \u001b[1;32m~\\Documents\\Pessoal\\4_database_in_one_lecture\\4databaseenv\\Lib\\site-packages\\elasticsearch\\_sync\\client\\_base.py:352\u001b[0m, in \u001b[0;36mBaseClient._perform_request\u001b[1;34m(self, method, path, params, headers, body, otel_span)\u001b[0m\n\u001b[0;32m    349\u001b[0m         \u001b[38;5;28;01mexcept\u001b[39;00m (\u001b[38;5;167;01mValueError\u001b[39;00m, \u001b[38;5;167;01mKeyError\u001b[39;00m, \u001b[38;5;167;01mTypeError\u001b[39;00m):\n\u001b[0;32m    350\u001b[0m             \u001b[38;5;28;01mpass\u001b[39;00m\n\u001b[1;32m--> 352\u001b[0m     \u001b[38;5;28;01mraise\u001b[39;00m HTTP_EXCEPTIONS\u001b[38;5;241m.\u001b[39mget(meta\u001b[38;5;241m.\u001b[39mstatus, ApiError)(\n\u001b[0;32m    353\u001b[0m         message\u001b[38;5;241m=\u001b[39mmessage, meta\u001b[38;5;241m=\u001b[39mmeta, body\u001b[38;5;241m=\u001b[39mresp_body\n\u001b[0;32m    354\u001b[0m     )\n\u001b[0;32m    356\u001b[0m \u001b[38;5;66;03m# 'X-Elastic-Product: Elasticsearch' should be on every 2XX response.\u001b[39;00m\n\u001b[0;32m    357\u001b[0m \u001b[38;5;28;01mif\u001b[39;00m \u001b[38;5;129;01mnot\u001b[39;00m \u001b[38;5;28mself\u001b[39m\u001b[38;5;241m.\u001b[39m_verified_elasticsearch:\n\u001b[0;32m    358\u001b[0m     \u001b[38;5;66;03m# If the header is set we mark the server as verified.\u001b[39;00m\n",
      "\u001b[1;31mNotFoundError\u001b[0m: NotFoundError(404, \"{'_index': 'letras_v1', '_id': 'bKncxpQB2E_3w8_EX93c', 'found': False}\")"
     ]
    }
   ],
   "source": [
    "client.get(index=\"letras_v1\",id=id_obj)"
   ]
  },
  {
   "cell_type": "markdown",
   "id": "5faae2c2-ebe9-484e-a0c7-1a6c770aa45f",
   "metadata": {},
   "source": [
    "## Fifth Step - Extra search"
   ]
  },
  {
   "cell_type": "code",
   "execution_count": 46,
   "id": "e2a5ad1d-d3e3-4e79-b16a-92ece7165b6c",
   "metadata": {},
   "outputs": [],
   "source": [
    "index_release = 'movie_release_v1'\n",
    "movies = [\n",
    "    {\n",
    "        \"name\":\"The Lion King\",\n",
    "        \"anos\":[1994,2011,2019]\n",
    "    },\n",
    "    {\n",
    "        \"name\":\"Star Wars: A New Hope\",\n",
    "        \"anos\":[1977,1997,2012]\n",
    "    },\n",
    "    {\n",
    "        \"name\":\"Jurassic Park\",\n",
    "        \"anos\":[1993,2013,2013]\n",
    "    }\n",
    "]"
   ]
  },
  {
   "cell_type": "code",
   "execution_count": 49,
   "id": "f4d79ad3-243d-43c2-9f03-00b424cd9e1f",
   "metadata": {},
   "outputs": [],
   "source": [
    "if not client.indices.exists(index=index_release):\n",
    "    client.indices.create(index=index_release)\n",
    "\n",
    "for movie in movies:\n",
    "    client.index(index=index_release,document=movie)"
   ]
  },
  {
   "cell_type": "code",
   "execution_count": 50,
   "id": "ca50249c-00f3-4a49-882a-c697d6d0f257",
   "metadata": {},
   "outputs": [
    {
     "data": {
      "text/plain": [
       "<Response: [<Hit(movie_release_v1/banzxpQB2E_3w8_Eet0e): {'name': 'The Lion King', 'anos': [1994, 2011, 2019]}>, <Hit(movie_release_v1/bqnzxpQB2E_3w8_Eet1l): {'name': 'Star Wars: A New Hope', 'anos': [1977, 1997, 2012]...}>, <Hit(movie_release_v1/b6nzxpQB2E_3w8_Eet1x): {'name': 'Jurassic Park', 'anos': [1993, 2013, 2013]}>]>"
      ]
     },
     "execution_count": 50,
     "metadata": {},
     "output_type": "execute_result"
    }
   ],
   "source": [
    "Search(using=client, index=index_release).execute()"
   ]
  },
  {
   "cell_type": "code",
   "execution_count": 87,
   "id": "8751e5aa-b400-42e7-a4ca-760ae932366b",
   "metadata": {},
   "outputs": [
    {
     "data": {
      "text/plain": [
       "ObjectApiResponse({'took': 28, 'timed_out': False, '_shards': {'total': 1, 'successful': 1, 'skipped': 0, 'failed': 0}, 'hits': {'total': {'value': 3, 'relation': 'eq'}, 'max_score': 1.0, 'hits': [{'_index': 'movie_release_v1', '_id': 'banzxpQB2E_3w8_Eet0e', '_score': 1.0, '_source': {'name': 'The Lion King', 'anos': [1994, 2011, 2019]}}, {'_index': 'movie_release_v1', '_id': 'bqnzxpQB2E_3w8_Eet1l', '_score': 1.0, '_source': {'name': 'Star Wars: A New Hope', 'anos': [1977, 1997, 2012]}}, {'_index': 'movie_release_v1', '_id': 'b6nzxpQB2E_3w8_Eet1x', '_score': 1.0, '_source': {'name': 'Jurassic Park', 'anos': [1993, 2013, 2013]}}]}})"
      ]
     },
     "execution_count": 87,
     "metadata": {},
     "output_type": "execute_result"
    }
   ],
   "source": [
    "body = {\n",
    "    \"range\": {\n",
    "      \"anos\": {\n",
    "        \"gte\": 2000\n",
    "      }\n",
    "    }\n",
    "  }\n",
    "\n",
    "client.search(\n",
    "    index=index_release,\n",
    "    query=body\n",
    ")\n"
   ]
  },
  {
   "cell_type": "code",
   "execution_count": 83,
   "id": "9c7ccdd3-7a65-4e4e-8779-85cab97819c8",
   "metadata": {},
   "outputs": [
    {
     "data": {
      "text/plain": [
       "ObjectApiResponse({'took': 6, 'timed_out': False, '_shards': {'total': 1, 'successful': 1, 'skipped': 0, 'failed': 0}, 'hits': {'total': {'value': 1, 'relation': 'eq'}, 'max_score': 0.0, 'hits': [{'_index': 'movie_release_v1', '_id': 'bqnzxpQB2E_3w8_Eet1l', '_score': 0.0, '_source': {'name': 'Star Wars: A New Hope', 'anos': [1977, 1997, 2012]}}]}})"
      ]
     },
     "execution_count": 83,
     "metadata": {},
     "output_type": "execute_result"
    }
   ],
   "source": [
    "body = {\n",
    "    \"bool\":{\n",
    "        \"filter\":{\n",
    "            \"script\":{\n",
    "                \"script\":\"\"\"\n",
    "                    if (doc['anos'].size() > 1){\n",
    "                     return doc['anos'].get(1) < 2000\n",
    "                    }\n",
    "                    else{\n",
    "                        return false\n",
    "                    }\n",
    "                   \n",
    "                \"\"\"\n",
    "            }\n",
    "        }\n",
    "    }\n",
    "}\n",
    "\n",
    "client.search(\n",
    "    index=index_release,\n",
    "    query=body\n",
    ")\n"
   ]
  },
  {
   "cell_type": "code",
   "execution_count": 85,
   "id": "4888bbf9-ffbb-4b90-8c87-1694b40bbfc5",
   "metadata": {},
   "outputs": [
    {
     "data": {
      "text/plain": [
       "ObjectApiResponse({'took': 24, 'timed_out': False, '_shards': {'total': 1, 'successful': 1, 'skipped': 0, 'failed': 0}, 'hits': {'total': {'value': 0, 'relation': 'eq'}, 'max_score': None, 'hits': []}})"
      ]
     },
     "execution_count": 85,
     "metadata": {},
     "output_type": "execute_result"
    }
   ],
   "source": [
    "body = {\n",
    "    \"bool\":{\n",
    "        \"filter\":{\n",
    "            \"script\":{\n",
    "                \"script\":\"\"\"\n",
    "                    if (doc['anos'].size() > 1){\n",
    "                     return (doc['anos'].get(1) < 2000 && doc['anos'].get(0) > 1990)\n",
    "                    }\n",
    "                    else{\n",
    "                        return false\n",
    "                    }\n",
    "                   \n",
    "                \"\"\"\n",
    "            }\n",
    "        }\n",
    "    }\n",
    "}\n",
    "\n",
    "client.search(\n",
    "    index=index_release,\n",
    "    query=body\n",
    ")\n"
   ]
  },
  {
   "cell_type": "code",
   "execution_count": null,
   "id": "d75907c9-ca1e-4d0f-be66-82188c3078f7",
   "metadata": {},
   "outputs": [],
   "source": []
  }
 ],
 "metadata": {
  "kernelspec": {
   "display_name": "Python 3 (ipykernel)",
   "language": "python",
   "name": "python3"
  },
  "language_info": {
   "codemirror_mode": {
    "name": "ipython",
    "version": 3
   },
   "file_extension": ".py",
   "mimetype": "text/x-python",
   "name": "python",
   "nbconvert_exporter": "python",
   "pygments_lexer": "ipython3",
   "version": "3.12.0"
  }
 },
 "nbformat": 4,
 "nbformat_minor": 5
}
