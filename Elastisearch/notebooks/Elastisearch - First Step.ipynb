{
 "cells": [
  {
   "cell_type": "markdown",
   "id": "535b2782-11fd-4be6-aa47-1d58a2dc6a37",
   "metadata": {},
   "source": [
    "## Elastisearch - CRUD\n",
    "\n",
    "Neste notbook, vamos fazer um teste simples utilizando duas bibliotecas: elastisearch e elastisearch_dsl\n",
    "\n",
    "Links da documentação:\n",
    "\n",
    "[elastisearch](https://elasticsearch-py.readthedocs.io/en/v8.17.1/)\n",
    "\n",
    "[elastisearch_dsl](https://elasticsearch-dsl.readthedocs.io/en/latest/)"
   ]
  },
  {
   "cell_type": "code",
   "execution_count": 91,
   "id": "8bcefbfa-b6ae-4bcd-883c-d5053b0ea7e3",
   "metadata": {},
   "outputs": [],
   "source": [
    "from elasticsearch import Elasticsearch, helpers\n",
    "from elasticsearch_dsl import Document, Integer, Keyword, Text, Search,connections, Q\n",
    "from typing import Optional"
   ]
  },
  {
   "cell_type": "code",
   "execution_count": 178,
   "id": "5bdcca8a-8dbe-483b-860c-7e2935bdc3ca",
   "metadata": {},
   "outputs": [],
   "source": [
    "USERNAME = 'elastic'\n",
    "PASSWORD =  'test10'\n",
    "HOST = 'http://192.168.0.17:9200'"
   ]
  },
  {
   "cell_type": "code",
   "execution_count": 179,
   "id": "b6114129-a241-45f1-bfac-002f44e1c5fd",
   "metadata": {},
   "outputs": [],
   "source": [
    "client = Elasticsearch(\n",
    "    HOST,\n",
    "    basic_auth=(USERNAME,PASSWORD)\n",
    ")"
   ]
  },
  {
   "cell_type": "markdown",
   "id": "8bf7e013",
   "metadata": {},
   "source": [
    "### Verificando a conexão"
   ]
  },
  {
   "cell_type": "code",
   "execution_count": 180,
   "id": "8487e6c8-9392-4544-9308-f7ce341af16d",
   "metadata": {},
   "outputs": [
    {
     "data": {
      "text/plain": [
       "ObjectApiResponse({'name': 'elasticsearch', 'cluster_name': 'es-docker-cluster', 'cluster_uuid': 'M_MRJ2p6SLGZLngE4lpOig', 'version': {'number': '8.5.3', 'build_flavor': 'default', 'build_type': 'docker', 'build_hash': '4ed5ee9afac63de92ec98f404ccbed7d3ba9584e', 'build_date': '2022-12-05T18:22:22.226119656Z', 'build_snapshot': False, 'lucene_version': '9.4.2', 'minimum_wire_compatibility_version': '7.17.0', 'minimum_index_compatibility_version': '7.0.0'}, 'tagline': 'You Know, for Search'})"
      ]
     },
     "execution_count": 180,
     "metadata": {},
     "output_type": "execute_result"
    }
   ],
   "source": [
    "client.info()"
   ]
  },
  {
   "cell_type": "markdown",
   "id": "1358ae5e-2f49-43a8-b183-65ad9fd1255d",
   "metadata": {},
   "source": [
    "## CRUD\n",
    "\n",
    "Para mostrar como utilizar as funcionalidades básicas das duas bibliotecas, será feito um CRUD (adicionar, ler, atualizar e deletar) os dados relacionados a músicas. Na célula abaixo, temos 3 músicas e suas propriedades."
   ]
  },
  {
   "cell_type": "code",
   "execution_count": 76,
   "id": "a1a30382-cb62-4768-83f0-a4b889558394",
   "metadata": {},
   "outputs": [],
   "source": [
    "levanta_anda = {\n",
    "    \"artista\": \"Emicida\",\n",
    "    \"nome\": \"Levanta e Anda\",\n",
    "    \"ano\": 2014,\n",
    "    \"letra\": \"\"\"Era um cômodo incômodo\n",
    "Sujo como o dragão-de-komodo, úmido\n",
    "Eu, homem da casa aos seis anos\n",
    "Mofo no canto todo, TV, engodo, pronto pro lodo\n",
    "Tímido, porra, somos reis, mano\n",
    "Olhos são eletrodos, sério, topo, trombo corvos\n",
    "Num cemitério de sonhos graças a leis, planos\n",
    "Troco de jogo, vendo, roubo\n",
    "Pus a cabeça a prêmio, ingênuo\n",
    "Colhi sorrisos e falei: Vamos\n",
    "É um novo tempo, momento pro novo, ao sabor do vento\n",
    "Eu me movo pelo solo onde reinamos\n",
    "Pondo pontos finais na dor como Doril, Anador\n",
    "Somos a luz do Senhor e pode crer\n",
    "Tamo construindo, suponho, não, creio, meto a mão\n",
    "Em meio à escuridão, pronto, acertamos\n",
    "Nosso sorriso sereno hoje é o veneno\n",
    "Pra quem trouxe tanto ódio pra onde deitamos\n",
    "\n",
    "Quem costuma vir de onde eu sou\n",
    "Às vezes não tem motivos pra seguir\n",
    "Então levanta e anda\n",
    "Vai, levanta e anda\n",
    "Vai, levanta e anda\n",
    "Mas eu sei que vai\n",
    "Que o sonho te traz coisas que te faz prosseguir\n",
    "Vai, levanta e anda\n",
    "Vai, levanta e anda\n",
    "Vai, levanta e anda\n",
    "Vai, levanta e anda\n",
    "\n",
    "Irmão\n",
    "Você não percebeu que você é o único representante do seu sonho na face da Terra?\n",
    "Se isso não fizer você correr, chapa\n",
    "Eu não sei o que vai\n",
    "\n",
    "Eu sei (sei)\n",
    "Cansa\n",
    "Quem morre ao fim do mês\n",
    "Nossa grana ou nossa esperança?\n",
    "Delírio é\n",
    "Equilíbrio\n",
    "Entre nosso martírio e nossa fé\n",
    "Foi foda contar migalha nos escombro\n",
    "Lona preta esticadas, enxada no ombro, e nada vim\n",
    "Nada, enfim, recria sozinho\n",
    "Com a alma cheia de mágoa e as panela vazia\n",
    "Sonho imundo\n",
    "Só água na geladeira e eu querendo salvar o mundo\n",
    "No fundo, é tipo David Blaine\n",
    "A mãe assume, o pai some, de costume\n",
    "No máximo é um sobrenome\n",
    "Sou o terror dos clone\n",
    "Esses boy conhece Marx, nós conhece a fome\n",
    "Então cerra os punho, sorria\n",
    "E jamais volte pra sua quebrada de mão e mente vazia\n",
    "\n",
    "Quem costuma vir de onde eu sou\n",
    "Às vezes não tem motivos pra seguir\n",
    "Então levanta e anda\n",
    "Vai, levanta e anda\n",
    "Vai, levanta e anda\n",
    "Mas eu sei que vai\n",
    "Que o sonho te traz coisas que te faz prosseguir\n",
    "Então levanta e anda\n",
    "Vai, levanta e anda\n",
    "Vai, levanta e anda\n",
    "Vai, levanta e anda\n",
    "\n",
    "Somos maior\n",
    "Nos basta só\n",
    "Sonhar, seguir\"\"\"\n",
    "}\n",
    "\n",
    "hoje_cedo = {\n",
    "    \"artista\": \"Emicida\",\n",
    "    \"nome\": \"Levanta e Anda\",\n",
    "    \"ano\": 2013,\n",
    "    \"letra\":\"\"\"\n",
    "    Hoje cedo\n",
    "    Quando eu acordei e não te vi\n",
    "    Eu pensei em tanta coisa\n",
    "    Tive medo\n",
    "    Ah, como eu chorei\n",
    "    Eu sofri em segredo\n",
    "    Tudo isso hoje cedo\n",
    "    Holofotes fortes, purpurina\n",
    "    E o sorriso dessas mina só me lembra cocaína\n",
    "    Em cinco abrem-se cortinas\n",
    "    Estáticas retinas brilham, garoa fina\n",
    "    Que fita, meus poema me trouxe onde eles não habita\n",
    "    A fama irrita, a grana dita, 'cê desacredita?\n",
    "    Fantoches, pique Celso Pitta mentem\n",
    "    Mortos tipo meu pai, nem eu me sinto presente\n",
    "    Aí, é rima que cês quer, toma, duas, três\n",
    "    Farta pra infartar cada um de vocês\n",
    "    Num abismo sem volta, de festa, ladainha\n",
    "    Minha alma afunda igual minha família em casa, sozinha\n",
    "    Entre putas como um cafetão, coisas que afetam\n",
    "    Sintonia, como eu sonhei em tá aqui um dia?\n",
    "    Crise, trampo, ideologia, pause\n",
    "    E é aqui onde nóis entende a Amy Winehouse\n",
    "    Hoje cedo\n",
    "    Quando eu acordei e não te vi\n",
    "    Eu pensei em tanta coisa\n",
    "    Tive medo\n",
    "    Ah, como eu chorei\n",
    "    Eu sofri em segredo\n",
    "    Tudo isso hoje cedo\n",
    "    Vagabundo, a trilha\n",
    "    É um precipício, penso o melhor\n",
    "    Quero salvar o mundo, pois desisti da minha família\n",
    "    E numa luta mais difícil a frustração vai ser menor\n",
    "    Digno de dó, só o pó, vazio, comum\n",
    "    Que já é moda no século XXI\n",
    "    Blacks com voz sagaz gravada\n",
    "    Contra vilões que sangram a quebrada\n",
    "    Só que raps por nóiz, por paz, mais nada\n",
    "    Me pôs nas Gerais, numa cela trancada\n",
    "    Eu lembrei do Racionais, reflexão\n",
    "    Aí, \"os próprio preto num 'tá nem aí com isso, não\"\n",
    "    É um clichê romântico, triste\n",
    "    Vai perceber, vai ver, se matou e o paraíso não existe\n",
    "    Eu ainda sou o Emicida da Rinha\n",
    "    Lotei casas do Sul ao Norte,\n",
    "    Mas esvaziei a minha\n",
    "    E vou por aí, Taliban\n",
    "    Vendo os boy beber dois mês de salário da minha irmã\n",
    "    Hennessys, avelãs, camarins, fãs, globais\n",
    "    Mano, onde eles tavam há dez anos atrás?\n",
    "    Showbiz como a regra diz, lek\n",
    "    A sociedade vende Jesus, por que não ia vender rap?\n",
    "    O mundo vai se ocupar com seu cifrão\n",
    "    Dizendo que a miséria é quem carecia de atenção\n",
    "    Hoje cedo\n",
    "    Quando eu acordei e não te vi\n",
    "    Eu pensei em tanta coisa\n",
    "    Tive medo\n",
    "    Ah, como eu chorei\n",
    "    Eu sofri em segredo\n",
    "    Tudo isso hoje cedo\n",
    "\n",
    "    \"\"\"\n",
    "}\n",
    "\n",
    "\n",
    "dias_gloria = {\n",
    "    \"artista\": \"Charlie Brown Jr.\",\n",
    "    \"nome\": \"Dias de luta, dias de gloria\",\n",
    "    \"ano\": 2013,\n",
    "    \"letra\":\"\"\"\n",
    "    Dias De Luta, Dias De Glória\n",
    "    (Canta comigo meu povo)\n",
    "    Na minha vida tudo acontece\n",
    "    Mas quanto mais a gente rala, mais a gente cresce\n",
    "    Hoje estou feliz porque eu sonhei com você\n",
    "    E amanhã posso chorar por não poder te ver\n",
    "    Mas o seu sorriso vale mais que um diamante\n",
    "    Se você vier comigo, aí nós vamos adiante\n",
    "    Com a cabeça erguida e mantendo a fé em Deus\n",
    "    O seu dia mais feliz vai ser o mesmo que o meu\n",
    "    A vida me ensinou a nunca desistir\n",
    "    Nem ganhar, nem perder mas procurar evoluir\n",
    "    Podem me tirar tudo que tenho\n",
    "    Só não podem me tirar as coisas boas que eu já fiz pra quem eu amo\n",
    "    E eu sou feliz e canto e o universo é uma canção\n",
    "    E eu vou que vou\n",
    "    História, nossas histórias\n",
    "    Dias de luta, dias de glória\n",
    "    História, nossas histórias\n",
    "    Dias de luta, dias de glória\n",
    "    História, nossas histórias\n",
    "    Dias de luta, dias de glória\n",
    "    História, nossas histórias\n",
    "    Dias de luta, dias de glória\n",
    "    Oh minha gata, morada dos meus sonhos\n",
    "    Todo dia, se pudesse eu ia estar com você\n",
    "    Eu já te via muito antes nos meus sonhos\n",
    "    Eu procurei a vida inteira por alguém como você\n",
    "    Por isso eu canto a minha vida com orgulho\n",
    "    Com melodia, alegria e barulho\n",
    "    Eu sou feliz e rodo pelo mundo\n",
    "    Eu sou correria mas também sou vagabundo\n",
    "    Mas hoje dou valor de verdade pra minha saúde,\n",
    "    Pra minha liberdade\n",
    "    Que bom te encontrar nessa cidade\n",
    "    Esse brilho intenso me lembra você\n",
    "    História, nossas histórias\n",
    "    Dias de luta, dias de glória\n",
    "    História, nossas histórias\n",
    "    Dias de luta, dias de glória\n",
    "    História, nossas histórias\n",
    "    Dias de luta, dias de glória\n",
    "    História, nossas histórias\n",
    "    Dias de luta, dias de glória\n",
    "    Hoje estou feliz, acordei com o pé direito\n",
    "    E vou fazer de novo, vou fazer muito bem feito\n",
    "    Sintonia, telepatia, comunicação pelo córtex bum bye bye\n",
    "    \"\"\"\n",
    "}\n",
    "\n"
   ]
  },
  {
   "cell_type": "markdown",
   "id": "fc16fc91",
   "metadata": {},
   "source": [
    "## Inicializandoo processo de CRUD\n",
    "\n",
    "Semelhante ao Mongodb ou Postgres, para adicionar dados no elastisearch, inicialmente é preciso informar onde será adicionado. O 'local' que será adicionado é chamado de index e ele possui as configurações de como cada chave do objeto deve ser indexado. (obs: nome do index precisa ser letra minúscula)"
   ]
  },
  {
   "cell_type": "code",
   "execution_count": 77,
   "id": "c59abdfa",
   "metadata": {},
   "outputs": [],
   "source": [
    "INDEX_LETRAS = 'letras_v2' "
   ]
  },
  {
   "cell_type": "code",
   "execution_count": 78,
   "id": "20a950a4-d7b3-4770-81fd-40867fcb2f79",
   "metadata": {},
   "outputs": [
    {
     "data": {
      "text/plain": [
       "ObjectApiResponse({'acknowledged': True, 'shards_acknowledged': True, 'index': 'letras_v2'})"
      ]
     },
     "execution_count": 78,
     "metadata": {},
     "output_type": "execute_result"
    }
   ],
   "source": [
    "if client.indices.exists(index=INDEX_LETRAS):\n",
    "    client.indices.delete(index=INDEX_LETRAS)\n",
    "client.indices.create(index=INDEX_LETRAS)"
   ]
  },
  {
   "cell_type": "markdown",
   "id": "59be9543",
   "metadata": {},
   "source": [
    "### Adicionando a letra dentro do index"
   ]
  },
  {
   "cell_type": "code",
   "execution_count": 79,
   "id": "d6e24938-e2f2-4bfc-9f36-9ebf38b0f0d2",
   "metadata": {},
   "outputs": [],
   "source": [
    "obj = client.index(\n",
    "    index=INDEX_LETRAS,\n",
    "    document=levanta_anda,\n",
    "    id=\"levanta_e_anda\"\n",
    ")"
   ]
  },
  {
   "cell_type": "code",
   "execution_count": 80,
   "id": "c7ed729d",
   "metadata": {},
   "outputs": [
    {
     "data": {
      "text/plain": [
       "ObjectApiResponse({'_index': 'letras_v2', '_id': 'levanta_e_anda', '_version': 1, 'result': 'created', '_shards': {'total': 2, 'successful': 1, 'failed': 0}, '_seq_no': 0, '_primary_term': 1})"
      ]
     },
     "execution_count": 80,
     "metadata": {},
     "output_type": "execute_result"
    }
   ],
   "source": [
    "obj"
   ]
  },
  {
   "cell_type": "markdown",
   "id": "435ad422",
   "metadata": {},
   "source": [
    "### Verificando como o index interpreta cada uma das chaves"
   ]
  },
  {
   "cell_type": "code",
   "execution_count": 81,
   "id": "4fe59c3c",
   "metadata": {},
   "outputs": [
    {
     "data": {
      "text/plain": [
       "ObjectApiResponse({'letras_v2': {'aliases': {}, 'mappings': {'properties': {'ano': {'type': 'long'}, 'artista': {'type': 'text', 'fields': {'keyword': {'type': 'keyword', 'ignore_above': 256}}}, 'letra': {'type': 'text', 'fields': {'keyword': {'type': 'keyword', 'ignore_above': 256}}}, 'nome': {'type': 'text', 'fields': {'keyword': {'type': 'keyword', 'ignore_above': 256}}}}}, 'settings': {'index': {'routing': {'allocation': {'include': {'_tier_preference': 'data_content'}}}, 'number_of_shards': '1', 'provided_name': 'letras_v2', 'creation_date': '1740334202799', 'number_of_replicas': '1', 'uuid': 'CE0quGg_T-G-segLFbO_SQ', 'version': {'created': '8050399'}}}}})"
      ]
     },
     "execution_count": 81,
     "metadata": {},
     "output_type": "execute_result"
    }
   ],
   "source": [
    "client.indices.get(index=INDEX_LETRAS)"
   ]
  },
  {
   "cell_type": "markdown",
   "id": "fbd10632",
   "metadata": {},
   "source": [
    "## Adicionando o objeto novamente"
   ]
  },
  {
   "cell_type": "code",
   "execution_count": 82,
   "id": "389f13aa",
   "metadata": {},
   "outputs": [],
   "source": [
    "obj = client.index(\n",
    "    index=INDEX_LETRAS,\n",
    "    document=levanta_anda,\n",
    "    id=\"levanta_e_anda\"\n",
    ")\n"
   ]
  },
  {
   "cell_type": "code",
   "execution_count": 83,
   "id": "14df0b6b",
   "metadata": {},
   "outputs": [
    {
     "data": {
      "text/plain": [
       "ObjectApiResponse({'_index': 'letras_v2', '_id': 'levanta_e_anda', '_version': 2, 'result': 'updated', '_shards': {'total': 2, 'successful': 1, 'failed': 0}, '_seq_no': 1, '_primary_term': 1})"
      ]
     },
     "execution_count": 83,
     "metadata": {},
     "output_type": "execute_result"
    }
   ],
   "source": [
    "obj"
   ]
  },
  {
   "cell_type": "markdown",
   "id": "47bc2d00",
   "metadata": {},
   "source": [
    "## Adicionando um conjunto"
   ]
  },
  {
   "cell_type": "code",
   "execution_count": 84,
   "id": "1bb83580",
   "metadata": {},
   "outputs": [
    {
     "data": {
      "text/plain": [
       "(3, [])"
      ]
     },
     "execution_count": 84,
     "metadata": {},
     "output_type": "execute_result"
    }
   ],
   "source": [
    "data = [\n",
    "    {\"_index\":INDEX_LETRAS,\"_id\":\"levanta_e_anda\",\"_source\":levanta_anda},\n",
    "    {\"_index\":INDEX_LETRAS,\"_id\":\"hoje_cedo\",\"_source\":hoje_cedo},\n",
    "    {\"_index\":INDEX_LETRAS,\"_id\":\"dias_gloria\",\"_source\":dias_gloria}\n",
    "]\n",
    "\n",
    "helpers.bulk(client, data)"
   ]
  },
  {
   "cell_type": "code",
   "execution_count": 85,
   "id": "ebc5c667",
   "metadata": {},
   "outputs": [
    {
     "data": {
      "text/plain": [
       "ObjectApiResponse({'_index': 'letras_v2', '_id': 'levanta_e_anda', '_version': 3, '_seq_no': 2, '_primary_term': 1, 'found': True, '_source': {'artista': 'Emicida', 'nome': 'Levanta e Anda', 'ano': 2014, 'letra': 'Era um cômodo incômodo\\nSujo como o dragão-de-komodo, úmido\\nEu, homem da casa aos seis anos\\nMofo no canto todo, TV, engodo, pronto pro lodo\\nTímido, porra, somos reis, mano\\nOlhos são eletrodos, sério, topo, trombo corvos\\nNum cemitério de sonhos graças a leis, planos\\nTroco de jogo, vendo, roubo\\nPus a cabeça a prêmio, ingênuo\\nColhi sorrisos e falei: Vamos\\nÉ um novo tempo, momento pro novo, ao sabor do vento\\nEu me movo pelo solo onde reinamos\\nPondo pontos finais na dor como Doril, Anador\\nSomos a luz do Senhor e pode crer\\nTamo construindo, suponho, não, creio, meto a mão\\nEm meio à escuridão, pronto, acertamos\\nNosso sorriso sereno hoje é o veneno\\nPra quem trouxe tanto ódio pra onde deitamos\\n\\nQuem costuma vir de onde eu sou\\nÀs vezes não tem motivos pra seguir\\nEntão levanta e anda\\nVai, levanta e anda\\nVai, levanta e anda\\nMas eu sei que vai\\nQue o sonho te traz coisas que te faz prosseguir\\nVai, levanta e anda\\nVai, levanta e anda\\nVai, levanta e anda\\nVai, levanta e anda\\n\\nIrmão\\nVocê não percebeu que você é o único representante do seu sonho na face da Terra?\\nSe isso não fizer você correr, chapa\\nEu não sei o que vai\\n\\nEu sei (sei)\\nCansa\\nQuem morre ao fim do mês\\nNossa grana ou nossa esperança?\\nDelírio é\\nEquilíbrio\\nEntre nosso martírio e nossa fé\\nFoi foda contar migalha nos escombro\\nLona preta esticadas, enxada no ombro, e nada vim\\nNada, enfim, recria sozinho\\nCom a alma cheia de mágoa e as panela vazia\\nSonho imundo\\nSó água na geladeira e eu querendo salvar o mundo\\nNo fundo, é tipo David Blaine\\nA mãe assume, o pai some, de costume\\nNo máximo é um sobrenome\\nSou o terror dos clone\\nEsses boy conhece Marx, nós conhece a fome\\nEntão cerra os punho, sorria\\nE jamais volte pra sua quebrada de mão e mente vazia\\n\\nQuem costuma vir de onde eu sou\\nÀs vezes não tem motivos pra seguir\\nEntão levanta e anda\\nVai, levanta e anda\\nVai, levanta e anda\\nMas eu sei que vai\\nQue o sonho te traz coisas que te faz prosseguir\\nEntão levanta e anda\\nVai, levanta e anda\\nVai, levanta e anda\\nVai, levanta e anda\\n\\nSomos maior\\nNos basta só\\nSonhar, seguir'}})"
      ]
     },
     "execution_count": 85,
     "metadata": {},
     "output_type": "execute_result"
    }
   ],
   "source": [
    "client.get(index=INDEX_LETRAS,id=\"levanta_e_anda\")"
   ]
  },
  {
   "cell_type": "code",
   "execution_count": 86,
   "id": "87eca9ec",
   "metadata": {},
   "outputs": [
    {
     "data": {
      "text/plain": [
       "ObjectApiResponse({'_index': 'letras_v2', '_id': 'dias_gloria', '_version': 1, '_seq_no': 4, '_primary_term': 1, 'found': True, '_source': {'artista': 'Charlie Brown Jr.', 'nome': 'Dias de luta, dias de gloria', 'ano': 2013, 'letra': '\\n    Dias De Luta, Dias De Glória\\n    (Canta comigo meu povo)\\n    Na minha vida tudo acontece\\n    Mas quanto mais a gente rala, mais a gente cresce\\n    Hoje estou feliz porque eu sonhei com você\\n    E amanhã posso chorar por não poder te ver\\n    Mas o seu sorriso vale mais que um diamante\\n    Se você vier comigo, aí nós vamos adiante\\n    Com a cabeça erguida e mantendo a fé em Deus\\n    O seu dia mais feliz vai ser o mesmo que o meu\\n    A vida me ensinou a nunca desistir\\n    Nem ganhar, nem perder mas procurar evoluir\\n    Podem me tirar tudo que tenho\\n    Só não podem me tirar as coisas boas que eu já fiz pra quem eu amo\\n    E eu sou feliz e canto e o universo é uma canção\\n    E eu vou que vou\\n    História, nossas histórias\\n    Dias de luta, dias de glória\\n    História, nossas histórias\\n    Dias de luta, dias de glória\\n    História, nossas histórias\\n    Dias de luta, dias de glória\\n    História, nossas histórias\\n    Dias de luta, dias de glória\\n    Oh minha gata, morada dos meus sonhos\\n    Todo dia, se pudesse eu ia estar com você\\n    Eu já te via muito antes nos meus sonhos\\n    Eu procurei a vida inteira por alguém como você\\n    Por isso eu canto a minha vida com orgulho\\n    Com melodia, alegria e barulho\\n    Eu sou feliz e rodo pelo mundo\\n    Eu sou correria mas também sou vagabundo\\n    Mas hoje dou valor de verdade pra minha saúde,\\n    Pra minha liberdade\\n    Que bom te encontrar nessa cidade\\n    Esse brilho intenso me lembra você\\n    História, nossas histórias\\n    Dias de luta, dias de glória\\n    História, nossas histórias\\n    Dias de luta, dias de glória\\n    História, nossas histórias\\n    Dias de luta, dias de glória\\n    História, nossas histórias\\n    Dias de luta, dias de glória\\n    Hoje estou feliz, acordei com o pé direito\\n    E vou fazer de novo, vou fazer muito bem feito\\n    Sintonia, telepatia, comunicação pelo córtex bum bye bye\\n    '}})"
      ]
     },
     "execution_count": 86,
     "metadata": {},
     "output_type": "execute_result"
    }
   ],
   "source": [
    "client.get(index=INDEX_LETRAS,id=\"dias_gloria\")"
   ]
  },
  {
   "cell_type": "markdown",
   "id": "f265ede2",
   "metadata": {},
   "source": [
    "### Utilizando a biblioteca elastisearch_dsl para adicionar as letras\n",
    "\n",
    "\n",
    "A biblioteca elastisearch_dsl conecta com o elastisearch através da biblioteca  elastisearch."
   ]
  },
  {
   "cell_type": "code",
   "execution_count": null,
   "id": "6adb1137",
   "metadata": {},
   "outputs": [],
   "source": [
    "connections.add_connection(\"default\",client)"
   ]
  },
  {
   "cell_type": "code",
   "execution_count": null,
   "id": "4df67c2f",
   "metadata": {},
   "outputs": [],
   "source": [
    "INDEX_LETRAS2 = 'letras_dsl'"
   ]
  },
  {
   "cell_type": "markdown",
   "id": "d0980172",
   "metadata": {},
   "source": [
    "A biblioteca elastisearch_dsl permite criar uma classe que reflita o index do elastisearch, permitindo assim manipular as configurações\n",
    "sem a necessidade de entender a linguagem do elastisearch previamente"
   ]
  },
  {
   "cell_type": "code",
   "execution_count": null,
   "id": "a6894a6b",
   "metadata": {},
   "outputs": [],
   "source": [
    "\n",
    "\n",
    "class Letra(Document):\n",
    "    artista : Optional[str] = Keyword()\n",
    "    nome: Optional[str] = Keyword()\n",
    "    ano:Optional[int] = Integer()\n",
    "    letra:Optional[str] = Text()\n",
    "\n",
    "    class Index:\n",
    "        name = INDEX_LETRAS2\n",
    "\n",
    "    def save(self, ** kwargs):\n",
    "        return super().save(** kwargs)"
   ]
  },
  {
   "cell_type": "markdown",
   "id": "a4956a95",
   "metadata": {},
   "source": [
    "### Criando o index"
   ]
  },
  {
   "cell_type": "code",
   "execution_count": null,
   "id": "6257979b-5216-4c95-991d-f689401354ea",
   "metadata": {},
   "outputs": [],
   "source": [
    "if Letra._index.exists():\n",
    "    Letra._index.delete()\n",
    "Letra.init()"
   ]
  },
  {
   "cell_type": "code",
   "execution_count": null,
   "id": "a06fb240",
   "metadata": {},
   "outputs": [],
   "source": [
    "levanta_anda_es = Letra(meta={\"id\": \"levanta_e_anda\"},**levanta_anda)"
   ]
  },
  {
   "cell_type": "code",
   "execution_count": null,
   "id": "58868f31",
   "metadata": {},
   "outputs": [],
   "source": [
    "levanta_anda_es.save()"
   ]
  },
  {
   "cell_type": "code",
   "execution_count": null,
   "id": "df3b6210-be80-4e03-93ea-bbe0371b802d",
   "metadata": {},
   "outputs": [],
   "source": [
    "levanta_anda_es_return = Letra.get(id=\"levanta_e_anda\")"
   ]
  },
  {
   "cell_type": "code",
   "execution_count": null,
   "id": "3c234959-b303-4ad0-bd48-6b396918420a",
   "metadata": {},
   "outputs": [],
   "source": [
    "levanta_anda_es_return.artista"
   ]
  },
  {
   "cell_type": "markdown",
   "id": "e2b44b60",
   "metadata": {},
   "source": [
    "### Verificando a indexação"
   ]
  },
  {
   "cell_type": "code",
   "execution_count": null,
   "id": "ff1a5081-b856-4097-a3ad-d947a1df5b63",
   "metadata": {},
   "outputs": [],
   "source": [
    "Letra._index.get_mapping()"
   ]
  },
  {
   "cell_type": "markdown",
   "id": "e53965ab-0d17-492f-b2e1-11365d03db2b",
   "metadata": {},
   "source": [
    "## Executando leituras e pesquisas"
   ]
  },
  {
   "cell_type": "code",
   "execution_count": null,
   "id": "1c2fa4d2-98b4-4b1e-b0af-59fb55873229",
   "metadata": {},
   "outputs": [],
   "source": [
    "levanta_anda_es = client.get(index=INDEX_LETRAS,id=\"levanta_e_anda\")"
   ]
  },
  {
   "cell_type": "code",
   "execution_count": null,
   "id": "b0a367ff-4cd5-4c5e-a1fb-d10ea60fbf7f",
   "metadata": {},
   "outputs": [],
   "source": [
    "levanta_anda_es"
   ]
  },
  {
   "cell_type": "markdown",
   "id": "e8bc4994",
   "metadata": {},
   "source": [
    "## Pesquisas simples por termo\n",
    "\n",
    "\n",
    "Link de como funciona a pesquisa no elastisearch\n",
    "\n",
    "https://www.elastic.co/guide/en/elasticsearch/reference/current/analysis-overview.html\n",
    "\n",
    "https://www.elastic.co/guide/en/elasticsearch/reference/current/analysis-overview.html"
   ]
  },
  {
   "cell_type": "code",
   "execution_count": null,
   "id": "8f5a6316-64bb-40b9-a130-a99e40a54a55",
   "metadata": {},
   "outputs": [],
   "source": [
    "client.search(\n",
    "    index=INDEX_LETRAS,\n",
    "    query={\n",
    "        \"match\":{\n",
    "            \"artista\":\"Emicida\"\n",
    "        }\n",
    "    }\n",
    ")"
   ]
  },
  {
   "cell_type": "code",
   "execution_count": null,
   "id": "c1b347d5-45cf-43ad-b140-3f2cefcb84a2",
   "metadata": {},
   "outputs": [],
   "source": [
    "client.search(\n",
    "    index=INDEX_LETRAS,\n",
    "    query={\n",
    "        \"match\":{\n",
    "            \"artista\":\"emicida\"\n",
    "        }\n",
    "    }\n",
    ")"
   ]
  },
  {
   "cell_type": "code",
   "execution_count": null,
   "id": "e613e32c",
   "metadata": {},
   "outputs": [],
   "source": [
    "analyze_query = {\n",
    "    \"analyzer\": \"standard\",\n",
    "    \"text\": \"Emicida emicida\"\n",
    "}\n",
    "\n",
    "client.indices.analyze(body=analyze_query)"
   ]
  },
  {
   "cell_type": "markdown",
   "id": "cd870f49",
   "metadata": {},
   "source": [
    "### Pesquisar por keyword"
   ]
  },
  {
   "cell_type": "code",
   "execution_count": null,
   "id": "22ffdca3-c174-4683-81cb-6fbc03edc399",
   "metadata": {},
   "outputs": [],
   "source": [
    "client.search(\n",
    "    index=INDEX_LETRAS,\n",
    "    query={\n",
    "        \"match\":{\n",
    "            \"artista.keyword\":\"emicida\"\n",
    "        }\n",
    "    }\n",
    ")"
   ]
  },
  {
   "cell_type": "code",
   "execution_count": null,
   "id": "f2828da8-c5ed-4056-82df-652cdde1ef75",
   "metadata": {},
   "outputs": [],
   "source": [
    "client.search(\n",
    "    index=INDEX_LETRAS,\n",
    "    query={\n",
    "        \"match\":{\n",
    "            \"letra\":\" cabeça a prêmio\"\n",
    "        }\n",
    "    }\n",
    ")"
   ]
  },
  {
   "cell_type": "code",
   "execution_count": null,
   "id": "93828b51-ab29-40ab-a277-2437b840ab66",
   "metadata": {},
   "outputs": [],
   "source": [
    "client.search(\n",
    "    index=INDEX_LETRAS,\n",
    "    query={\n",
    "        \"bool\": {\n",
    "            \"must\": [\n",
    "                {\"multi_match\": {\"query\": \"hoje\"}}\n",
    "            ]\n",
    "        }\n",
    "    }\n",
    ")\n"
   ]
  },
  {
   "cell_type": "markdown",
   "id": "26a89564",
   "metadata": {},
   "source": [
    "Verificando a diferença entre must, filter e should"
   ]
  },
  {
   "cell_type": "code",
   "execution_count": null,
   "id": "5faa3b4a-86b4-4429-874c-748d595c3205",
   "metadata": {},
   "outputs": [],
   "source": [
    "client.search(\n",
    "    index=INDEX_LETRAS,\n",
    "    query={\n",
    "       \"bool\":{\n",
    "           \"must\":[\n",
    "               {\"match\":{\"artista\":\"Emicida\"}},\n",
    "               {\"match\":{\"letra\":\"hoje\"}},\n",
    "           ]\n",
    "       }\n",
    "    }\n",
    ")"
   ]
  },
  {
   "cell_type": "code",
   "execution_count": 87,
   "id": "f4581202",
   "metadata": {},
   "outputs": [
    {
     "data": {
      "text/plain": [
       "ObjectApiResponse({'took': 3, 'timed_out': False, '_shards': {'total': 1, 'successful': 1, 'skipped': 0, 'failed': 0}, 'hits': {'total': {'value': 2, 'relation': 'eq'}, 'max_score': 0.15940359, 'hits': [{'_index': 'letras_v2', '_id': 'hoje_cedo', '_score': 0.15940359, '_ignored': ['letra.keyword'], '_source': {'artista': 'Emicida', 'nome': 'Levanta e Anda', 'ano': 2013, 'letra': '\\n    Hoje cedo\\n    Quando eu acordei e não te vi\\n    Eu pensei em tanta coisa\\n    Tive medo\\n    Ah, como eu chorei\\n    Eu sofri em segredo\\n    Tudo isso hoje cedo\\n    Holofotes fortes, purpurina\\n    E o sorriso dessas mina só me lembra cocaína\\n    Em cinco abrem-se cortinas\\n    Estáticas retinas brilham, garoa fina\\n    Que fita, meus poema me trouxe onde eles não habita\\n    A fama irrita, a grana dita, \\'cê desacredita?\\n    Fantoches, pique Celso Pitta mentem\\n    Mortos tipo meu pai, nem eu me sinto presente\\n    Aí, é rima que cês quer, toma, duas, três\\n    Farta pra infartar cada um de vocês\\n    Num abismo sem volta, de festa, ladainha\\n    Minha alma afunda igual minha família em casa, sozinha\\n    Entre putas como um cafetão, coisas que afetam\\n    Sintonia, como eu sonhei em tá aqui um dia?\\n    Crise, trampo, ideologia, pause\\n    E é aqui onde nóis entende a Amy Winehouse\\n    Hoje cedo\\n    Quando eu acordei e não te vi\\n    Eu pensei em tanta coisa\\n    Tive medo\\n    Ah, como eu chorei\\n    Eu sofri em segredo\\n    Tudo isso hoje cedo\\n    Vagabundo, a trilha\\n    É um precipício, penso o melhor\\n    Quero salvar o mundo, pois desisti da minha família\\n    E numa luta mais difícil a frustração vai ser menor\\n    Digno de dó, só o pó, vazio, comum\\n    Que já é moda no século XXI\\n    Blacks com voz sagaz gravada\\n    Contra vilões que sangram a quebrada\\n    Só que raps por nóiz, por paz, mais nada\\n    Me pôs nas Gerais, numa cela trancada\\n    Eu lembrei do Racionais, reflexão\\n    Aí, \"os próprio preto num \\'tá nem aí com isso, não\"\\n    É um clichê romântico, triste\\n    Vai perceber, vai ver, se matou e o paraíso não existe\\n    Eu ainda sou o Emicida da Rinha\\n    Lotei casas do Sul ao Norte,\\n    Mas esvaziei a minha\\n    E vou por aí, Taliban\\n    Vendo os boy beber dois mês de salário da minha irmã\\n    Hennessys, avelãs, camarins, fãs, globais\\n    Mano, onde eles tavam há dez anos atrás?\\n    Showbiz como a regra diz, lek\\n    A sociedade vende Jesus, por que não ia vender rap?\\n    O mundo vai se ocupar com seu cifrão\\n    Dizendo que a miséria é quem carecia de atenção\\n    Hoje cedo\\n    Quando eu acordei e não te vi\\n    Eu pensei em tanta coisa\\n    Tive medo\\n    Ah, como eu chorei\\n    Eu sofri em segredo\\n    Tudo isso hoje cedo\\n\\n    '}}, {'_index': 'letras_v2', '_id': 'levanta_e_anda', '_score': 0.08680238, '_ignored': ['letra.keyword'], '_source': {'artista': 'Emicida', 'nome': 'Levanta e Anda', 'ano': 2014, 'letra': 'Era um cômodo incômodo\\nSujo como o dragão-de-komodo, úmido\\nEu, homem da casa aos seis anos\\nMofo no canto todo, TV, engodo, pronto pro lodo\\nTímido, porra, somos reis, mano\\nOlhos são eletrodos, sério, topo, trombo corvos\\nNum cemitério de sonhos graças a leis, planos\\nTroco de jogo, vendo, roubo\\nPus a cabeça a prêmio, ingênuo\\nColhi sorrisos e falei: Vamos\\nÉ um novo tempo, momento pro novo, ao sabor do vento\\nEu me movo pelo solo onde reinamos\\nPondo pontos finais na dor como Doril, Anador\\nSomos a luz do Senhor e pode crer\\nTamo construindo, suponho, não, creio, meto a mão\\nEm meio à escuridão, pronto, acertamos\\nNosso sorriso sereno hoje é o veneno\\nPra quem trouxe tanto ódio pra onde deitamos\\n\\nQuem costuma vir de onde eu sou\\nÀs vezes não tem motivos pra seguir\\nEntão levanta e anda\\nVai, levanta e anda\\nVai, levanta e anda\\nMas eu sei que vai\\nQue o sonho te traz coisas que te faz prosseguir\\nVai, levanta e anda\\nVai, levanta e anda\\nVai, levanta e anda\\nVai, levanta e anda\\n\\nIrmão\\nVocê não percebeu que você é o único representante do seu sonho na face da Terra?\\nSe isso não fizer você correr, chapa\\nEu não sei o que vai\\n\\nEu sei (sei)\\nCansa\\nQuem morre ao fim do mês\\nNossa grana ou nossa esperança?\\nDelírio é\\nEquilíbrio\\nEntre nosso martírio e nossa fé\\nFoi foda contar migalha nos escombro\\nLona preta esticadas, enxada no ombro, e nada vim\\nNada, enfim, recria sozinho\\nCom a alma cheia de mágoa e as panela vazia\\nSonho imundo\\nSó água na geladeira e eu querendo salvar o mundo\\nNo fundo, é tipo David Blaine\\nA mãe assume, o pai some, de costume\\nNo máximo é um sobrenome\\nSou o terror dos clone\\nEsses boy conhece Marx, nós conhece a fome\\nEntão cerra os punho, sorria\\nE jamais volte pra sua quebrada de mão e mente vazia\\n\\nQuem costuma vir de onde eu sou\\nÀs vezes não tem motivos pra seguir\\nEntão levanta e anda\\nVai, levanta e anda\\nVai, levanta e anda\\nMas eu sei que vai\\nQue o sonho te traz coisas que te faz prosseguir\\nEntão levanta e anda\\nVai, levanta e anda\\nVai, levanta e anda\\nVai, levanta e anda\\n\\nSomos maior\\nNos basta só\\nSonhar, seguir'}}]}})"
      ]
     },
     "execution_count": 87,
     "metadata": {},
     "output_type": "execute_result"
    }
   ],
   "source": [
    "client.search(\n",
    "    index=INDEX_LETRAS,\n",
    "    query={\n",
    "        \"bool\": {\n",
    "            \"must\": [\n",
    "                {\"match\": {\"letra\": \"hoje\"}},\n",
    "            ],\n",
    "            \"filter\":[\n",
    "                  {\"match\": {\"artista\": \"Emicida\"}}\n",
    "            ]\n",
    "        }\n",
    "    }\n",
    ")"
   ]
  },
  {
   "cell_type": "code",
   "execution_count": 88,
   "id": "a6f8fb37-4115-416a-87be-4e11aa1fb542",
   "metadata": {},
   "outputs": [
    {
     "data": {
      "text/plain": [
       "ObjectApiResponse({'took': 4, 'timed_out': False, '_shards': {'total': 1, 'successful': 1, 'skipped': 0, 'failed': 0}, 'hits': {'total': {'value': 3, 'relation': 'eq'}, 'max_score': 2.0310397, 'hits': [{'_index': 'letras_v2', '_id': 'dias_gloria', '_score': 2.0310397, '_ignored': ['letra.keyword'], '_source': {'artista': 'Charlie Brown Jr.', 'nome': 'Dias de luta, dias de gloria'}}, {'_index': 'letras_v2', '_id': 'hoje_cedo', '_score': 0.15940359, '_ignored': ['letra.keyword'], '_source': {'artista': 'Emicida', 'nome': 'Levanta e Anda'}}, {'_index': 'letras_v2', '_id': 'levanta_e_anda', '_score': 0.08680238, '_ignored': ['letra.keyword'], '_source': {'artista': 'Emicida', 'nome': 'Levanta e Anda'}}]}})"
      ]
     },
     "execution_count": 88,
     "metadata": {},
     "output_type": "execute_result"
    }
   ],
   "source": [
    "client.search(\n",
    "    index=INDEX_LETRAS,\n",
    "    _source=['artista','nome'],\n",
    "    query={\n",
    "        \"bool\": {\n",
    "            \"must\": [\n",
    "                {\"match\": {\"letra\": \"hoje\"}},\n",
    "            ],\n",
    "            \"should\":[\n",
    "                  {\"match\":{\"artista\":\"Charlie Brown \"}}\n",
    "            ]\n",
    "        }\n",
    "    }\n",
    ")"
   ]
  },
  {
   "cell_type": "code",
   "execution_count": 89,
   "id": "41548445-4b2a-484f-8058-3bd4e45ff29f",
   "metadata": {},
   "outputs": [
    {
     "data": {
      "text/plain": [
       "<Response: [Letra(index='letras_dsl', id='levanta_e_anda')]>"
      ]
     },
     "execution_count": 89,
     "metadata": {},
     "output_type": "execute_result"
    }
   ],
   "source": [
    "Letra.search().query('match', artista='Emicida').execute()"
   ]
  },
  {
   "cell_type": "code",
   "execution_count": 90,
   "id": "b5517dcb-392a-4862-82e1-20bd7383419c",
   "metadata": {},
   "outputs": [
    {
     "data": {
      "text/plain": [
       "<Response: [Letra(index='letras_dsl', id='levanta_e_anda')]>"
      ]
     },
     "execution_count": 90,
     "metadata": {},
     "output_type": "execute_result"
    }
   ],
   "source": [
    "Letra.search().query('match', letra='Levanta e anda').execute()"
   ]
  },
  {
   "cell_type": "code",
   "execution_count": 93,
   "id": "31076ac5",
   "metadata": {},
   "outputs": [],
   "source": [
    "query = Q('bool',must=[Q('match',letra=\"hoje\")],should=[Q('match',artista=\"Charlie Brown\")])"
   ]
  },
  {
   "cell_type": "code",
   "execution_count": 95,
   "id": "2e673ca7",
   "metadata": {},
   "outputs": [
    {
     "data": {
      "text/plain": [
       "<Response: [Letra(index='letras_dsl', id='levanta_e_anda')]>"
      ]
     },
     "execution_count": 95,
     "metadata": {},
     "output_type": "execute_result"
    }
   ],
   "source": [
    "Letra.search().query(query).execute()"
   ]
  },
  {
   "cell_type": "markdown",
   "id": "f17da0a9-b2c5-4ee0-bb7d-ff2641e775fc",
   "metadata": {},
   "source": [
    "## Atualizar os registros"
   ]
  },
  {
   "cell_type": "code",
   "execution_count": 96,
   "id": "57c6b8f1-1179-46ea-98c9-469cebcc85cc",
   "metadata": {},
   "outputs": [
    {
     "data": {
      "text/plain": [
       "ObjectApiResponse({'_index': 'letras_v2', '_id': 'levanta_e_anda', '_version': 4, 'result': 'updated', '_shards': {'total': 2, 'successful': 1, 'failed': 0}, '_seq_no': 5, '_primary_term': 1})"
      ]
     },
     "execution_count": 96,
     "metadata": {},
     "output_type": "execute_result"
    }
   ],
   "source": [
    "client.update(index=INDEX_LETRAS, id=\"levanta_e_anda\", doc={\n",
    "    \"ano\": 2025\n",
    "})"
   ]
  },
  {
   "cell_type": "code",
   "execution_count": 97,
   "id": "aaf98510-0ad3-49d6-8a7d-e89c28c2049d",
   "metadata": {},
   "outputs": [
    {
     "data": {
      "text/plain": [
       "ObjectApiResponse({'_index': 'letras_v2', '_id': 'levanta_e_anda', '_version': 4, '_seq_no': 5, '_primary_term': 1, 'found': True, '_source': {'artista': 'Emicida', 'nome': 'Levanta e Anda', 'ano': 2025, 'letra': 'Era um cômodo incômodo\\nSujo como o dragão-de-komodo, úmido\\nEu, homem da casa aos seis anos\\nMofo no canto todo, TV, engodo, pronto pro lodo\\nTímido, porra, somos reis, mano\\nOlhos são eletrodos, sério, topo, trombo corvos\\nNum cemitério de sonhos graças a leis, planos\\nTroco de jogo, vendo, roubo\\nPus a cabeça a prêmio, ingênuo\\nColhi sorrisos e falei: Vamos\\nÉ um novo tempo, momento pro novo, ao sabor do vento\\nEu me movo pelo solo onde reinamos\\nPondo pontos finais na dor como Doril, Anador\\nSomos a luz do Senhor e pode crer\\nTamo construindo, suponho, não, creio, meto a mão\\nEm meio à escuridão, pronto, acertamos\\nNosso sorriso sereno hoje é o veneno\\nPra quem trouxe tanto ódio pra onde deitamos\\n\\nQuem costuma vir de onde eu sou\\nÀs vezes não tem motivos pra seguir\\nEntão levanta e anda\\nVai, levanta e anda\\nVai, levanta e anda\\nMas eu sei que vai\\nQue o sonho te traz coisas que te faz prosseguir\\nVai, levanta e anda\\nVai, levanta e anda\\nVai, levanta e anda\\nVai, levanta e anda\\n\\nIrmão\\nVocê não percebeu que você é o único representante do seu sonho na face da Terra?\\nSe isso não fizer você correr, chapa\\nEu não sei o que vai\\n\\nEu sei (sei)\\nCansa\\nQuem morre ao fim do mês\\nNossa grana ou nossa esperança?\\nDelírio é\\nEquilíbrio\\nEntre nosso martírio e nossa fé\\nFoi foda contar migalha nos escombro\\nLona preta esticadas, enxada no ombro, e nada vim\\nNada, enfim, recria sozinho\\nCom a alma cheia de mágoa e as panela vazia\\nSonho imundo\\nSó água na geladeira e eu querendo salvar o mundo\\nNo fundo, é tipo David Blaine\\nA mãe assume, o pai some, de costume\\nNo máximo é um sobrenome\\nSou o terror dos clone\\nEsses boy conhece Marx, nós conhece a fome\\nEntão cerra os punho, sorria\\nE jamais volte pra sua quebrada de mão e mente vazia\\n\\nQuem costuma vir de onde eu sou\\nÀs vezes não tem motivos pra seguir\\nEntão levanta e anda\\nVai, levanta e anda\\nVai, levanta e anda\\nMas eu sei que vai\\nQue o sonho te traz coisas que te faz prosseguir\\nEntão levanta e anda\\nVai, levanta e anda\\nVai, levanta e anda\\nVai, levanta e anda\\n\\nSomos maior\\nNos basta só\\nSonhar, seguir'}})"
      ]
     },
     "execution_count": 97,
     "metadata": {},
     "output_type": "execute_result"
    }
   ],
   "source": [
    "client.get(index=INDEX_LETRAS,id=\"levanta_e_anda\")"
   ]
  },
  {
   "cell_type": "code",
   "execution_count": 98,
   "id": "ac700845-5b04-4117-ba37-6c69b553a0b5",
   "metadata": {},
   "outputs": [
    {
     "data": {
      "text/plain": [
       "ObjectApiResponse({'_index': 'letras_v2', '_id': 'levanta_e_anda', '_version': 5, 'result': 'updated', '_shards': {'total': 2, 'successful': 1, 'failed': 0}, '_seq_no': 6, '_primary_term': 1})"
      ]
     },
     "execution_count": 98,
     "metadata": {},
     "output_type": "execute_result"
    }
   ],
   "source": [
    "client.update(index=INDEX_LETRAS, id=\"levanta_e_anda\", doc={\n",
    "    \"ano_shows\": [2021,2022,2023]\n",
    "})"
   ]
  },
  {
   "cell_type": "code",
   "execution_count": 99,
   "id": "4c2fc781-2969-4ba1-815a-52c053d802a8",
   "metadata": {},
   "outputs": [
    {
     "data": {
      "text/plain": [
       "ObjectApiResponse({'_index': 'letras_v2', '_id': 'levanta_e_anda', '_version': 5, '_seq_no': 6, '_primary_term': 1, 'found': True, '_source': {'artista': 'Emicida', 'nome': 'Levanta e Anda', 'ano': 2025, 'letra': 'Era um cômodo incômodo\\nSujo como o dragão-de-komodo, úmido\\nEu, homem da casa aos seis anos\\nMofo no canto todo, TV, engodo, pronto pro lodo\\nTímido, porra, somos reis, mano\\nOlhos são eletrodos, sério, topo, trombo corvos\\nNum cemitério de sonhos graças a leis, planos\\nTroco de jogo, vendo, roubo\\nPus a cabeça a prêmio, ingênuo\\nColhi sorrisos e falei: Vamos\\nÉ um novo tempo, momento pro novo, ao sabor do vento\\nEu me movo pelo solo onde reinamos\\nPondo pontos finais na dor como Doril, Anador\\nSomos a luz do Senhor e pode crer\\nTamo construindo, suponho, não, creio, meto a mão\\nEm meio à escuridão, pronto, acertamos\\nNosso sorriso sereno hoje é o veneno\\nPra quem trouxe tanto ódio pra onde deitamos\\n\\nQuem costuma vir de onde eu sou\\nÀs vezes não tem motivos pra seguir\\nEntão levanta e anda\\nVai, levanta e anda\\nVai, levanta e anda\\nMas eu sei que vai\\nQue o sonho te traz coisas que te faz prosseguir\\nVai, levanta e anda\\nVai, levanta e anda\\nVai, levanta e anda\\nVai, levanta e anda\\n\\nIrmão\\nVocê não percebeu que você é o único representante do seu sonho na face da Terra?\\nSe isso não fizer você correr, chapa\\nEu não sei o que vai\\n\\nEu sei (sei)\\nCansa\\nQuem morre ao fim do mês\\nNossa grana ou nossa esperança?\\nDelírio é\\nEquilíbrio\\nEntre nosso martírio e nossa fé\\nFoi foda contar migalha nos escombro\\nLona preta esticadas, enxada no ombro, e nada vim\\nNada, enfim, recria sozinho\\nCom a alma cheia de mágoa e as panela vazia\\nSonho imundo\\nSó água na geladeira e eu querendo salvar o mundo\\nNo fundo, é tipo David Blaine\\nA mãe assume, o pai some, de costume\\nNo máximo é um sobrenome\\nSou o terror dos clone\\nEsses boy conhece Marx, nós conhece a fome\\nEntão cerra os punho, sorria\\nE jamais volte pra sua quebrada de mão e mente vazia\\n\\nQuem costuma vir de onde eu sou\\nÀs vezes não tem motivos pra seguir\\nEntão levanta e anda\\nVai, levanta e anda\\nVai, levanta e anda\\nMas eu sei que vai\\nQue o sonho te traz coisas que te faz prosseguir\\nEntão levanta e anda\\nVai, levanta e anda\\nVai, levanta e anda\\nVai, levanta e anda\\n\\nSomos maior\\nNos basta só\\nSonhar, seguir', 'ano_shows': [2021, 2022, 2023]}})"
      ]
     },
     "execution_count": 99,
     "metadata": {},
     "output_type": "execute_result"
    }
   ],
   "source": [
    "client.get(index=INDEX_LETRAS,id=\"levanta_e_anda\")"
   ]
  },
  {
   "cell_type": "code",
   "execution_count": 100,
   "id": "6caa19e8-af7c-4caa-876f-56a15957faf3",
   "metadata": {},
   "outputs": [],
   "source": [
    "levanta_anda_es_return = Letra.get(id=\"levanta_e_anda\")"
   ]
  },
  {
   "cell_type": "code",
   "execution_count": 101,
   "id": "33c860ed-3f9c-475f-b466-f0175d3358c7",
   "metadata": {},
   "outputs": [],
   "source": [
    "levanta_anda_es_return.ano = 2025"
   ]
  },
  {
   "cell_type": "code",
   "execution_count": 102,
   "id": "9ffbc8bb-cf35-4c57-9d8d-39f629d7ea12",
   "metadata": {},
   "outputs": [
    {
     "data": {
      "text/plain": [
       "'updated'"
      ]
     },
     "execution_count": 102,
     "metadata": {},
     "output_type": "execute_result"
    }
   ],
   "source": [
    "levanta_anda_es_return.save()"
   ]
  },
  {
   "cell_type": "code",
   "execution_count": 103,
   "id": "28b9e01b-bbad-4b2f-8140-b688d00ebbc1",
   "metadata": {},
   "outputs": [
    {
     "data": {
      "text/plain": [
       "2025"
      ]
     },
     "execution_count": 103,
     "metadata": {},
     "output_type": "execute_result"
    }
   ],
   "source": [
    "Letra.get(id=\"levanta_e_anda\").ano"
   ]
  },
  {
   "cell_type": "markdown",
   "id": "2cefc098-d27c-4f2b-9773-5cc583d8b968",
   "metadata": {},
   "source": [
    "## Deletar registros"
   ]
  },
  {
   "cell_type": "code",
   "execution_count": 104,
   "id": "87957225-92b4-4ecc-b818-df112a7a7d87",
   "metadata": {},
   "outputs": [
    {
     "data": {
      "text/plain": [
       "ObjectApiResponse({'_index': 'letras_v2', '_id': 'levanta_e_anda', '_version': 6, 'result': 'deleted', '_shards': {'total': 2, 'successful': 1, 'failed': 0}, '_seq_no': 7, '_primary_term': 1})"
      ]
     },
     "execution_count": 104,
     "metadata": {},
     "output_type": "execute_result"
    }
   ],
   "source": [
    "client.delete(index=INDEX_LETRAS, id=\"levanta_e_anda\")"
   ]
  },
  {
   "cell_type": "code",
   "execution_count": 105,
   "id": "1f0b5f9a-5416-4b69-83dd-98e93f3469a3",
   "metadata": {},
   "outputs": [
    {
     "ename": "NotFoundError",
     "evalue": "NotFoundError(404, \"{'_index': 'letras_v2', '_id': 'levanta_e_anda', 'found': False}\")",
     "output_type": "error",
     "traceback": [
      "\u001b[1;31m---------------------------------------------------------------------------\u001b[0m",
      "\u001b[1;31mNotFoundError\u001b[0m                             Traceback (most recent call last)",
      "Cell \u001b[1;32mIn[105], line 1\u001b[0m\n\u001b[1;32m----> 1\u001b[0m \u001b[43mclient\u001b[49m\u001b[38;5;241;43m.\u001b[39;49m\u001b[43mget\u001b[49m\u001b[43m(\u001b[49m\u001b[43mindex\u001b[49m\u001b[38;5;241;43m=\u001b[39;49m\u001b[43mINDEX_LETRAS\u001b[49m\u001b[43m,\u001b[49m\u001b[38;5;28;43mid\u001b[39;49m\u001b[38;5;241;43m=\u001b[39;49m\u001b[38;5;124;43m\"\u001b[39;49m\u001b[38;5;124;43mlevanta_e_anda\u001b[39;49m\u001b[38;5;124;43m\"\u001b[39;49m\u001b[43m)\u001b[49m\n",
      "File \u001b[1;32mc:\\Python312\\Lib\\site-packages\\elasticsearch\\_sync\\client\\utils.py:455\u001b[0m, in \u001b[0;36m_rewrite_parameters.<locals>.wrapper.<locals>.wrapped\u001b[1;34m(*args, **kwargs)\u001b[0m\n\u001b[0;32m    452\u001b[0m         \u001b[38;5;28;01mexcept\u001b[39;00m \u001b[38;5;167;01mKeyError\u001b[39;00m:\n\u001b[0;32m    453\u001b[0m             \u001b[38;5;28;01mpass\u001b[39;00m\n\u001b[1;32m--> 455\u001b[0m \u001b[38;5;28;01mreturn\u001b[39;00m \u001b[43mapi\u001b[49m\u001b[43m(\u001b[49m\u001b[38;5;241;43m*\u001b[39;49m\u001b[43margs\u001b[49m\u001b[43m,\u001b[49m\u001b[43m \u001b[49m\u001b[38;5;241;43m*\u001b[39;49m\u001b[38;5;241;43m*\u001b[39;49m\u001b[43mkwargs\u001b[49m\u001b[43m)\u001b[49m\n",
      "File \u001b[1;32mc:\\Python312\\Lib\\site-packages\\elasticsearch\\_sync\\client\\__init__.py:2151\u001b[0m, in \u001b[0;36mElasticsearch.get\u001b[1;34m(self, index, id, error_trace, filter_path, force_synthetic_source, human, preference, pretty, realtime, refresh, routing, source, source_excludes, source_includes, stored_fields, version, version_type)\u001b[0m\n\u001b[0;32m   2149\u001b[0m     __query[\u001b[38;5;124m\"\u001b[39m\u001b[38;5;124mversion_type\u001b[39m\u001b[38;5;124m\"\u001b[39m] \u001b[38;5;241m=\u001b[39m version_type\n\u001b[0;32m   2150\u001b[0m __headers \u001b[38;5;241m=\u001b[39m {\u001b[38;5;124m\"\u001b[39m\u001b[38;5;124maccept\u001b[39m\u001b[38;5;124m\"\u001b[39m: \u001b[38;5;124m\"\u001b[39m\u001b[38;5;124mapplication/json\u001b[39m\u001b[38;5;124m\"\u001b[39m}\n\u001b[1;32m-> 2151\u001b[0m \u001b[38;5;28;01mreturn\u001b[39;00m \u001b[38;5;28;43mself\u001b[39;49m\u001b[38;5;241;43m.\u001b[39;49m\u001b[43mperform_request\u001b[49m\u001b[43m(\u001b[49m\u001b[43m  \u001b[49m\u001b[38;5;66;43;03m# type: ignore[return-value]\u001b[39;49;00m\n\u001b[0;32m   2152\u001b[0m \u001b[43m    \u001b[49m\u001b[38;5;124;43m\"\u001b[39;49m\u001b[38;5;124;43mGET\u001b[39;49m\u001b[38;5;124;43m\"\u001b[39;49m\u001b[43m,\u001b[49m\n\u001b[0;32m   2153\u001b[0m \u001b[43m    \u001b[49m\u001b[43m__path\u001b[49m\u001b[43m,\u001b[49m\n\u001b[0;32m   2154\u001b[0m \u001b[43m    \u001b[49m\u001b[43mparams\u001b[49m\u001b[38;5;241;43m=\u001b[39;49m\u001b[43m__query\u001b[49m\u001b[43m,\u001b[49m\n\u001b[0;32m   2155\u001b[0m \u001b[43m    \u001b[49m\u001b[43mheaders\u001b[49m\u001b[38;5;241;43m=\u001b[39;49m\u001b[43m__headers\u001b[49m\u001b[43m,\u001b[49m\n\u001b[0;32m   2156\u001b[0m \u001b[43m    \u001b[49m\u001b[43mendpoint_id\u001b[49m\u001b[38;5;241;43m=\u001b[39;49m\u001b[38;5;124;43m\"\u001b[39;49m\u001b[38;5;124;43mget\u001b[39;49m\u001b[38;5;124;43m\"\u001b[39;49m\u001b[43m,\u001b[49m\n\u001b[0;32m   2157\u001b[0m \u001b[43m    \u001b[49m\u001b[43mpath_parts\u001b[49m\u001b[38;5;241;43m=\u001b[39;49m\u001b[43m__path_parts\u001b[49m\u001b[43m,\u001b[49m\n\u001b[0;32m   2158\u001b[0m \u001b[43m\u001b[49m\u001b[43m)\u001b[49m\n",
      "File \u001b[1;32mc:\\Python312\\Lib\\site-packages\\elasticsearch\\_sync\\client\\_base.py:271\u001b[0m, in \u001b[0;36mBaseClient.perform_request\u001b[1;34m(self, method, path, params, headers, body, endpoint_id, path_parts)\u001b[0m\n\u001b[0;32m    255\u001b[0m \u001b[38;5;28;01mdef\u001b[39;00m \u001b[38;5;21mperform_request\u001b[39m(\n\u001b[0;32m    256\u001b[0m     \u001b[38;5;28mself\u001b[39m,\n\u001b[0;32m    257\u001b[0m     method: \u001b[38;5;28mstr\u001b[39m,\n\u001b[1;32m   (...)\u001b[0m\n\u001b[0;32m    264\u001b[0m     path_parts: Optional[Mapping[\u001b[38;5;28mstr\u001b[39m, Any]] \u001b[38;5;241m=\u001b[39m \u001b[38;5;28;01mNone\u001b[39;00m,\n\u001b[0;32m    265\u001b[0m ) \u001b[38;5;241m-\u001b[39m\u001b[38;5;241m>\u001b[39m ApiResponse[Any]:\n\u001b[0;32m    266\u001b[0m     \u001b[38;5;28;01mwith\u001b[39;00m \u001b[38;5;28mself\u001b[39m\u001b[38;5;241m.\u001b[39m_otel\u001b[38;5;241m.\u001b[39mspan(\n\u001b[0;32m    267\u001b[0m         method,\n\u001b[0;32m    268\u001b[0m         endpoint_id\u001b[38;5;241m=\u001b[39mendpoint_id,\n\u001b[0;32m    269\u001b[0m         path_parts\u001b[38;5;241m=\u001b[39mpath_parts \u001b[38;5;129;01mor\u001b[39;00m {},\n\u001b[0;32m    270\u001b[0m     ) \u001b[38;5;28;01mas\u001b[39;00m otel_span:\n\u001b[1;32m--> 271\u001b[0m         response \u001b[38;5;241m=\u001b[39m \u001b[38;5;28;43mself\u001b[39;49m\u001b[38;5;241;43m.\u001b[39;49m\u001b[43m_perform_request\u001b[49m\u001b[43m(\u001b[49m\n\u001b[0;32m    272\u001b[0m \u001b[43m            \u001b[49m\u001b[43mmethod\u001b[49m\u001b[43m,\u001b[49m\n\u001b[0;32m    273\u001b[0m \u001b[43m            \u001b[49m\u001b[43mpath\u001b[49m\u001b[43m,\u001b[49m\n\u001b[0;32m    274\u001b[0m \u001b[43m            \u001b[49m\u001b[43mparams\u001b[49m\u001b[38;5;241;43m=\u001b[39;49m\u001b[43mparams\u001b[49m\u001b[43m,\u001b[49m\n\u001b[0;32m    275\u001b[0m \u001b[43m            \u001b[49m\u001b[43mheaders\u001b[49m\u001b[38;5;241;43m=\u001b[39;49m\u001b[43mheaders\u001b[49m\u001b[43m,\u001b[49m\n\u001b[0;32m    276\u001b[0m \u001b[43m            \u001b[49m\u001b[43mbody\u001b[49m\u001b[38;5;241;43m=\u001b[39;49m\u001b[43mbody\u001b[49m\u001b[43m,\u001b[49m\n\u001b[0;32m    277\u001b[0m \u001b[43m            \u001b[49m\u001b[43motel_span\u001b[49m\u001b[38;5;241;43m=\u001b[39;49m\u001b[43motel_span\u001b[49m\u001b[43m,\u001b[49m\n\u001b[0;32m    278\u001b[0m \u001b[43m        \u001b[49m\u001b[43m)\u001b[49m\n\u001b[0;32m    279\u001b[0m         otel_span\u001b[38;5;241m.\u001b[39mset_elastic_cloud_metadata(response\u001b[38;5;241m.\u001b[39mmeta\u001b[38;5;241m.\u001b[39mheaders)\n\u001b[0;32m    280\u001b[0m         \u001b[38;5;28;01mreturn\u001b[39;00m response\n",
      "File \u001b[1;32mc:\\Python312\\Lib\\site-packages\\elasticsearch\\_sync\\client\\_base.py:352\u001b[0m, in \u001b[0;36mBaseClient._perform_request\u001b[1;34m(self, method, path, params, headers, body, otel_span)\u001b[0m\n\u001b[0;32m    349\u001b[0m         \u001b[38;5;28;01mexcept\u001b[39;00m (\u001b[38;5;167;01mValueError\u001b[39;00m, \u001b[38;5;167;01mKeyError\u001b[39;00m, \u001b[38;5;167;01mTypeError\u001b[39;00m):\n\u001b[0;32m    350\u001b[0m             \u001b[38;5;28;01mpass\u001b[39;00m\n\u001b[1;32m--> 352\u001b[0m     \u001b[38;5;28;01mraise\u001b[39;00m HTTP_EXCEPTIONS\u001b[38;5;241m.\u001b[39mget(meta\u001b[38;5;241m.\u001b[39mstatus, ApiError)(\n\u001b[0;32m    353\u001b[0m         message\u001b[38;5;241m=\u001b[39mmessage, meta\u001b[38;5;241m=\u001b[39mmeta, body\u001b[38;5;241m=\u001b[39mresp_body\n\u001b[0;32m    354\u001b[0m     )\n\u001b[0;32m    356\u001b[0m \u001b[38;5;66;03m# 'X-Elastic-Product: Elasticsearch' should be on every 2XX response.\u001b[39;00m\n\u001b[0;32m    357\u001b[0m \u001b[38;5;28;01mif\u001b[39;00m \u001b[38;5;129;01mnot\u001b[39;00m \u001b[38;5;28mself\u001b[39m\u001b[38;5;241m.\u001b[39m_verified_elasticsearch:\n\u001b[0;32m    358\u001b[0m     \u001b[38;5;66;03m# If the header is set we mark the server as verified.\u001b[39;00m\n",
      "\u001b[1;31mNotFoundError\u001b[0m: NotFoundError(404, \"{'_index': 'letras_v2', '_id': 'levanta_e_anda', 'found': False}\")"
     ]
    }
   ],
   "source": [
    "client.get(index=INDEX_LETRAS,id=\"levanta_e_anda\")"
   ]
  },
  {
   "cell_type": "code",
   "execution_count": 106,
   "id": "b5f719f7-38bc-457b-b0fe-579ed636c229",
   "metadata": {},
   "outputs": [],
   "source": [
    "levanta_anda_es_return = Letra.get(id=\"levanta_e_anda\")"
   ]
  },
  {
   "cell_type": "code",
   "execution_count": 107,
   "id": "955b70df-6d0b-463e-b11b-78cb4588c89b",
   "metadata": {},
   "outputs": [],
   "source": [
    "levanta_anda_es_return.delete()"
   ]
  },
  {
   "cell_type": "code",
   "execution_count": 108,
   "id": "f7be7fcb-d690-4a1b-9caa-0cc1389570dc",
   "metadata": {},
   "outputs": [
    {
     "ename": "NotFoundError",
     "evalue": "NotFoundError(404, \"{'_index': 'letras_dsl', '_id': 'levanta_e_anda', 'found': False}\")",
     "output_type": "error",
     "traceback": [
      "\u001b[1;31m---------------------------------------------------------------------------\u001b[0m",
      "\u001b[1;31mNotFoundError\u001b[0m                             Traceback (most recent call last)",
      "Cell \u001b[1;32mIn[108], line 1\u001b[0m\n\u001b[1;32m----> 1\u001b[0m \u001b[43mLetra\u001b[49m\u001b[38;5;241;43m.\u001b[39;49m\u001b[43mget\u001b[49m\u001b[43m(\u001b[49m\u001b[38;5;28;43mid\u001b[39;49m\u001b[38;5;241;43m=\u001b[39;49m\u001b[38;5;124;43m\"\u001b[39;49m\u001b[38;5;124;43mlevanta_e_anda\u001b[39;49m\u001b[38;5;124;43m\"\u001b[39;49m\u001b[43m)\u001b[49m\n",
      "File \u001b[1;32mc:\\Python312\\Lib\\site-packages\\elasticsearch_dsl\\_sync\\document.py:144\u001b[0m, in \u001b[0;36mDocument.get\u001b[1;34m(cls, id, using, index, **kwargs)\u001b[0m\n\u001b[0;32m    132\u001b[0m \u001b[38;5;250m\u001b[39m\u001b[38;5;124;03m\"\"\"\u001b[39;00m\n\u001b[0;32m    133\u001b[0m \u001b[38;5;124;03mRetrieve a single document from elasticsearch using its ``id``.\u001b[39;00m\n\u001b[0;32m    134\u001b[0m \n\u001b[1;32m   (...)\u001b[0m\n\u001b[0;32m    141\u001b[0m \u001b[38;5;124;03m``Elasticsearch.get`` unchanged.\u001b[39;00m\n\u001b[0;32m    142\u001b[0m \u001b[38;5;124;03m\"\"\"\u001b[39;00m\n\u001b[0;32m    143\u001b[0m es \u001b[38;5;241m=\u001b[39m \u001b[38;5;28mcls\u001b[39m\u001b[38;5;241m.\u001b[39m_get_connection(using)\n\u001b[1;32m--> 144\u001b[0m doc \u001b[38;5;241m=\u001b[39m \u001b[43mes\u001b[49m\u001b[38;5;241;43m.\u001b[39;49m\u001b[43mget\u001b[49m\u001b[43m(\u001b[49m\u001b[43mindex\u001b[49m\u001b[38;5;241;43m=\u001b[39;49m\u001b[38;5;28;43mcls\u001b[39;49m\u001b[38;5;241;43m.\u001b[39;49m\u001b[43m_default_index\u001b[49m\u001b[43m(\u001b[49m\u001b[43mindex\u001b[49m\u001b[43m)\u001b[49m\u001b[43m,\u001b[49m\u001b[43m \u001b[49m\u001b[38;5;28;43mid\u001b[39;49m\u001b[38;5;241;43m=\u001b[39;49m\u001b[38;5;28;43mid\u001b[39;49m\u001b[43m,\u001b[49m\u001b[43m \u001b[49m\u001b[38;5;241;43m*\u001b[39;49m\u001b[38;5;241;43m*\u001b[39;49m\u001b[43mkwargs\u001b[49m\u001b[43m)\u001b[49m\n\u001b[0;32m    145\u001b[0m \u001b[38;5;28;01mif\u001b[39;00m \u001b[38;5;129;01mnot\u001b[39;00m doc\u001b[38;5;241m.\u001b[39mget(\u001b[38;5;124m\"\u001b[39m\u001b[38;5;124mfound\u001b[39m\u001b[38;5;124m\"\u001b[39m, \u001b[38;5;28;01mFalse\u001b[39;00m):\n\u001b[0;32m    146\u001b[0m     \u001b[38;5;28;01mreturn\u001b[39;00m \u001b[38;5;28;01mNone\u001b[39;00m\n",
      "File \u001b[1;32mc:\\Python312\\Lib\\site-packages\\elasticsearch\\_sync\\client\\utils.py:455\u001b[0m, in \u001b[0;36m_rewrite_parameters.<locals>.wrapper.<locals>.wrapped\u001b[1;34m(*args, **kwargs)\u001b[0m\n\u001b[0;32m    452\u001b[0m         \u001b[38;5;28;01mexcept\u001b[39;00m \u001b[38;5;167;01mKeyError\u001b[39;00m:\n\u001b[0;32m    453\u001b[0m             \u001b[38;5;28;01mpass\u001b[39;00m\n\u001b[1;32m--> 455\u001b[0m \u001b[38;5;28;01mreturn\u001b[39;00m \u001b[43mapi\u001b[49m\u001b[43m(\u001b[49m\u001b[38;5;241;43m*\u001b[39;49m\u001b[43margs\u001b[49m\u001b[43m,\u001b[49m\u001b[43m \u001b[49m\u001b[38;5;241;43m*\u001b[39;49m\u001b[38;5;241;43m*\u001b[39;49m\u001b[43mkwargs\u001b[49m\u001b[43m)\u001b[49m\n",
      "File \u001b[1;32mc:\\Python312\\Lib\\site-packages\\elasticsearch\\_sync\\client\\__init__.py:2151\u001b[0m, in \u001b[0;36mElasticsearch.get\u001b[1;34m(self, index, id, error_trace, filter_path, force_synthetic_source, human, preference, pretty, realtime, refresh, routing, source, source_excludes, source_includes, stored_fields, version, version_type)\u001b[0m\n\u001b[0;32m   2149\u001b[0m     __query[\u001b[38;5;124m\"\u001b[39m\u001b[38;5;124mversion_type\u001b[39m\u001b[38;5;124m\"\u001b[39m] \u001b[38;5;241m=\u001b[39m version_type\n\u001b[0;32m   2150\u001b[0m __headers \u001b[38;5;241m=\u001b[39m {\u001b[38;5;124m\"\u001b[39m\u001b[38;5;124maccept\u001b[39m\u001b[38;5;124m\"\u001b[39m: \u001b[38;5;124m\"\u001b[39m\u001b[38;5;124mapplication/json\u001b[39m\u001b[38;5;124m\"\u001b[39m}\n\u001b[1;32m-> 2151\u001b[0m \u001b[38;5;28;01mreturn\u001b[39;00m \u001b[38;5;28;43mself\u001b[39;49m\u001b[38;5;241;43m.\u001b[39;49m\u001b[43mperform_request\u001b[49m\u001b[43m(\u001b[49m\u001b[43m  \u001b[49m\u001b[38;5;66;43;03m# type: ignore[return-value]\u001b[39;49;00m\n\u001b[0;32m   2152\u001b[0m \u001b[43m    \u001b[49m\u001b[38;5;124;43m\"\u001b[39;49m\u001b[38;5;124;43mGET\u001b[39;49m\u001b[38;5;124;43m\"\u001b[39;49m\u001b[43m,\u001b[49m\n\u001b[0;32m   2153\u001b[0m \u001b[43m    \u001b[49m\u001b[43m__path\u001b[49m\u001b[43m,\u001b[49m\n\u001b[0;32m   2154\u001b[0m \u001b[43m    \u001b[49m\u001b[43mparams\u001b[49m\u001b[38;5;241;43m=\u001b[39;49m\u001b[43m__query\u001b[49m\u001b[43m,\u001b[49m\n\u001b[0;32m   2155\u001b[0m \u001b[43m    \u001b[49m\u001b[43mheaders\u001b[49m\u001b[38;5;241;43m=\u001b[39;49m\u001b[43m__headers\u001b[49m\u001b[43m,\u001b[49m\n\u001b[0;32m   2156\u001b[0m \u001b[43m    \u001b[49m\u001b[43mendpoint_id\u001b[49m\u001b[38;5;241;43m=\u001b[39;49m\u001b[38;5;124;43m\"\u001b[39;49m\u001b[38;5;124;43mget\u001b[39;49m\u001b[38;5;124;43m\"\u001b[39;49m\u001b[43m,\u001b[49m\n\u001b[0;32m   2157\u001b[0m \u001b[43m    \u001b[49m\u001b[43mpath_parts\u001b[49m\u001b[38;5;241;43m=\u001b[39;49m\u001b[43m__path_parts\u001b[49m\u001b[43m,\u001b[49m\n\u001b[0;32m   2158\u001b[0m \u001b[43m\u001b[49m\u001b[43m)\u001b[49m\n",
      "File \u001b[1;32mc:\\Python312\\Lib\\site-packages\\elasticsearch\\_sync\\client\\_base.py:271\u001b[0m, in \u001b[0;36mBaseClient.perform_request\u001b[1;34m(self, method, path, params, headers, body, endpoint_id, path_parts)\u001b[0m\n\u001b[0;32m    255\u001b[0m \u001b[38;5;28;01mdef\u001b[39;00m \u001b[38;5;21mperform_request\u001b[39m(\n\u001b[0;32m    256\u001b[0m     \u001b[38;5;28mself\u001b[39m,\n\u001b[0;32m    257\u001b[0m     method: \u001b[38;5;28mstr\u001b[39m,\n\u001b[1;32m   (...)\u001b[0m\n\u001b[0;32m    264\u001b[0m     path_parts: Optional[Mapping[\u001b[38;5;28mstr\u001b[39m, Any]] \u001b[38;5;241m=\u001b[39m \u001b[38;5;28;01mNone\u001b[39;00m,\n\u001b[0;32m    265\u001b[0m ) \u001b[38;5;241m-\u001b[39m\u001b[38;5;241m>\u001b[39m ApiResponse[Any]:\n\u001b[0;32m    266\u001b[0m     \u001b[38;5;28;01mwith\u001b[39;00m \u001b[38;5;28mself\u001b[39m\u001b[38;5;241m.\u001b[39m_otel\u001b[38;5;241m.\u001b[39mspan(\n\u001b[0;32m    267\u001b[0m         method,\n\u001b[0;32m    268\u001b[0m         endpoint_id\u001b[38;5;241m=\u001b[39mendpoint_id,\n\u001b[0;32m    269\u001b[0m         path_parts\u001b[38;5;241m=\u001b[39mpath_parts \u001b[38;5;129;01mor\u001b[39;00m {},\n\u001b[0;32m    270\u001b[0m     ) \u001b[38;5;28;01mas\u001b[39;00m otel_span:\n\u001b[1;32m--> 271\u001b[0m         response \u001b[38;5;241m=\u001b[39m \u001b[38;5;28;43mself\u001b[39;49m\u001b[38;5;241;43m.\u001b[39;49m\u001b[43m_perform_request\u001b[49m\u001b[43m(\u001b[49m\n\u001b[0;32m    272\u001b[0m \u001b[43m            \u001b[49m\u001b[43mmethod\u001b[49m\u001b[43m,\u001b[49m\n\u001b[0;32m    273\u001b[0m \u001b[43m            \u001b[49m\u001b[43mpath\u001b[49m\u001b[43m,\u001b[49m\n\u001b[0;32m    274\u001b[0m \u001b[43m            \u001b[49m\u001b[43mparams\u001b[49m\u001b[38;5;241;43m=\u001b[39;49m\u001b[43mparams\u001b[49m\u001b[43m,\u001b[49m\n\u001b[0;32m    275\u001b[0m \u001b[43m            \u001b[49m\u001b[43mheaders\u001b[49m\u001b[38;5;241;43m=\u001b[39;49m\u001b[43mheaders\u001b[49m\u001b[43m,\u001b[49m\n\u001b[0;32m    276\u001b[0m \u001b[43m            \u001b[49m\u001b[43mbody\u001b[49m\u001b[38;5;241;43m=\u001b[39;49m\u001b[43mbody\u001b[49m\u001b[43m,\u001b[49m\n\u001b[0;32m    277\u001b[0m \u001b[43m            \u001b[49m\u001b[43motel_span\u001b[49m\u001b[38;5;241;43m=\u001b[39;49m\u001b[43motel_span\u001b[49m\u001b[43m,\u001b[49m\n\u001b[0;32m    278\u001b[0m \u001b[43m        \u001b[49m\u001b[43m)\u001b[49m\n\u001b[0;32m    279\u001b[0m         otel_span\u001b[38;5;241m.\u001b[39mset_elastic_cloud_metadata(response\u001b[38;5;241m.\u001b[39mmeta\u001b[38;5;241m.\u001b[39mheaders)\n\u001b[0;32m    280\u001b[0m         \u001b[38;5;28;01mreturn\u001b[39;00m response\n",
      "File \u001b[1;32mc:\\Python312\\Lib\\site-packages\\elasticsearch\\_sync\\client\\_base.py:352\u001b[0m, in \u001b[0;36mBaseClient._perform_request\u001b[1;34m(self, method, path, params, headers, body, otel_span)\u001b[0m\n\u001b[0;32m    349\u001b[0m         \u001b[38;5;28;01mexcept\u001b[39;00m (\u001b[38;5;167;01mValueError\u001b[39;00m, \u001b[38;5;167;01mKeyError\u001b[39;00m, \u001b[38;5;167;01mTypeError\u001b[39;00m):\n\u001b[0;32m    350\u001b[0m             \u001b[38;5;28;01mpass\u001b[39;00m\n\u001b[1;32m--> 352\u001b[0m     \u001b[38;5;28;01mraise\u001b[39;00m HTTP_EXCEPTIONS\u001b[38;5;241m.\u001b[39mget(meta\u001b[38;5;241m.\u001b[39mstatus, ApiError)(\n\u001b[0;32m    353\u001b[0m         message\u001b[38;5;241m=\u001b[39mmessage, meta\u001b[38;5;241m=\u001b[39mmeta, body\u001b[38;5;241m=\u001b[39mresp_body\n\u001b[0;32m    354\u001b[0m     )\n\u001b[0;32m    356\u001b[0m \u001b[38;5;66;03m# 'X-Elastic-Product: Elasticsearch' should be on every 2XX response.\u001b[39;00m\n\u001b[0;32m    357\u001b[0m \u001b[38;5;28;01mif\u001b[39;00m \u001b[38;5;129;01mnot\u001b[39;00m \u001b[38;5;28mself\u001b[39m\u001b[38;5;241m.\u001b[39m_verified_elasticsearch:\n\u001b[0;32m    358\u001b[0m     \u001b[38;5;66;03m# If the header is set we mark the server as verified.\u001b[39;00m\n",
      "\u001b[1;31mNotFoundError\u001b[0m: NotFoundError(404, \"{'_index': 'letras_dsl', '_id': 'levanta_e_anda', 'found': False}\")"
     ]
    }
   ],
   "source": [
    "Letra.get(id=\"levanta_e_anda\")"
   ]
  },
  {
   "cell_type": "markdown",
   "id": "5faae2c2-ebe9-484e-a0c7-1a6c770aa45f",
   "metadata": {},
   "source": [
    "## Topícos extras\n",
    "\n"
   ]
  },
  {
   "cell_type": "markdown",
   "id": "07da7b94",
   "metadata": {},
   "source": [
    "Verificando as diferentes formas de pesquisar por texto"
   ]
  },
  {
   "cell_type": "code",
   "execution_count": 129,
   "id": "70d329e2",
   "metadata": {},
   "outputs": [],
   "source": [
    "text_to_analyze = \"Contra vilões que sangram a quebrada 2\"\n"
   ]
  },
  {
   "cell_type": "code",
   "execution_count": 130,
   "id": "2eb03be5",
   "metadata": {},
   "outputs": [],
   "source": [
    "analyze_query = {\n",
    "    \"analyzer\": \"standard\",\n",
    "    \"text\": text_to_analyze\n",
    "}\n",
    "\n",
    "\n",
    "response = client.indices.analyze(body=analyze_query)"
   ]
  },
  {
   "cell_type": "code",
   "execution_count": 131,
   "id": "7cb07a89",
   "metadata": {},
   "outputs": [
    {
     "name": "stdout",
     "output_type": "stream",
     "text": [
      "Tokens: ['contra', 'vilões', 'que', 'sangram', 'a', 'quebrada', '2']\n"
     ]
    }
   ],
   "source": [
    "tokens = [token[\"token\"] for token in response[\"tokens\"]]\n",
    "print(\"Tokens:\", tokens)"
   ]
  },
  {
   "cell_type": "code",
   "execution_count": 132,
   "id": "74c6e0d7",
   "metadata": {},
   "outputs": [
    {
     "name": "stdout",
     "output_type": "stream",
     "text": [
      "Tokens: ['contra', 'vilões', 'que', 'sangram', 'a', 'quebrada']\n"
     ]
    }
   ],
   "source": [
    "text_to_analyze = \"Contra vilões que sangram a quebrada 2\"\n",
    "\n",
    "analyze_query = {\n",
    "    \"analyzer\":\"simple\",\n",
    "    \"text\": text_to_analyze\n",
    "}\n",
    "\n",
    "\n",
    "response = client.indices.analyze(body=analyze_query)\n",
    "\n",
    "tokens = [token[\"token\"] for token in response[\"tokens\"]]\n",
    "print(\"Tokens:\", tokens)"
   ]
  },
  {
   "cell_type": "code",
   "execution_count": 133,
   "id": "5db058b2",
   "metadata": {},
   "outputs": [
    {
     "name": "stdout",
     "output_type": "stream",
     "text": [
      "Tokens: ['contr', 'vila', 'sangram', 'quebrad', '2']\n"
     ]
    }
   ],
   "source": [
    "text_to_analyze = \"Contra vilões que sangram a quebrada 2\"\n",
    "\n",
    "analyze_query = {\n",
    "    \"analyzer\":\"portuguese\",\n",
    "    \"text\": text_to_analyze\n",
    "}\n",
    "\n",
    "\n",
    "response = client.indices.analyze(body=analyze_query)\n",
    "\n",
    "tokens = [token[\"token\"] for token in response[\"tokens\"]]\n",
    "print(\"Tokens:\", tokens)"
   ]
  },
  {
   "cell_type": "code",
   "execution_count": 137,
   "id": "af2833bd",
   "metadata": {},
   "outputs": [],
   "source": [
    "\n",
    "analyze_query = {\n",
    "    \"tokenizer\": \"standard\",  \n",
    "    \"filter\": [\n",
    "        \"lowercase\",  \n",
    "        {\n",
    "            \"type\": \"shingle\",  \n",
    "            \"min_shingle_size\": 2,\n",
    "            \"max_shingle_size\": 2,\n",
    "            \"output_unigrams\": False \n",
    "        }\n",
    "    ],\n",
    "    \"text\": text_to_analyze\n",
    "}\n",
    "\n",
    "response = client.indices.analyze(body=analyze_query)"
   ]
  },
  {
   "cell_type": "code",
   "execution_count": 138,
   "id": "48ee67d4",
   "metadata": {},
   "outputs": [
    {
     "name": "stdout",
     "output_type": "stream",
     "text": [
      "Tokens: ['contra vilões', 'vilões que', 'que sangram', 'sangram a', 'a quebrada', 'quebrada 2']\n"
     ]
    }
   ],
   "source": [
    "tokens = [token[\"token\"] for token in response[\"tokens\"]]\n",
    "print(\"Tokens:\", tokens)"
   ]
  },
  {
   "cell_type": "markdown",
   "id": "97fc1cb9",
   "metadata": {},
   "source": [
    "Fazendo busca customizada"
   ]
  },
  {
   "cell_type": "code",
   "execution_count": 147,
   "id": "e2a5ad1d-d3e3-4e79-b16a-92ece7165b6c",
   "metadata": {},
   "outputs": [],
   "source": [
    "index_release = 'movie_release_v1'\n",
    "movies = [\n",
    "    {\n",
    "        \"name\":\"The Lion King\",\n",
    "        \"anos\":[1994,2011,2019]\n",
    "    },\n",
    "    {\n",
    "        \"name\":\"Star Wars: A New Hope\",\n",
    "        \"anos\":[1977,1997,2012]\n",
    "    },\n",
    "    {\n",
    "        \"name\":\"Jurassic Park\",\n",
    "        \"anos\":[1993,2013,2015]\n",
    "    }\n",
    "]"
   ]
  },
  {
   "cell_type": "code",
   "execution_count": 148,
   "id": "f4d79ad3-243d-43c2-9f03-00b424cd9e1f",
   "metadata": {},
   "outputs": [],
   "source": [
    "if client.indices.exists(index=index_release):\n",
    "    client.indices.delete(index=index_release)\n",
    "client.indices.create(index=index_release)\n",
    "\n",
    "for movie in movies:\n",
    "    client.index(index=index_release,document=movie)"
   ]
  },
  {
   "cell_type": "code",
   "execution_count": 149,
   "id": "ca50249c-00f3-4a49-882a-c697d6d0f257",
   "metadata": {},
   "outputs": [
    {
     "data": {
      "text/plain": [
       "<Response: {}>"
      ]
     },
     "execution_count": 149,
     "metadata": {},
     "output_type": "execute_result"
    }
   ],
   "source": [
    "Search(using=client, index=index_release).execute()"
   ]
  },
  {
   "cell_type": "code",
   "execution_count": 150,
   "id": "8751e5aa-b400-42e7-a4ca-760ae932366b",
   "metadata": {},
   "outputs": [
    {
     "data": {
      "text/plain": [
       "ObjectApiResponse({'took': 4, 'timed_out': False, '_shards': {'total': 1, 'successful': 1, 'skipped': 0, 'failed': 0}, 'hits': {'total': {'value': 0, 'relation': 'eq'}, 'max_score': None, 'hits': []}})"
      ]
     },
     "execution_count": 150,
     "metadata": {},
     "output_type": "execute_result"
    }
   ],
   "source": [
    "body = {\n",
    "    \"range\": {\n",
    "      \"anos\": {\n",
    "        \"gte\": 2000\n",
    "      }\n",
    "    }\n",
    "  }\n",
    "\n",
    "client.search(\n",
    "    index=index_release,\n",
    "    query=body\n",
    ")\n"
   ]
  },
  {
   "cell_type": "code",
   "execution_count": 152,
   "id": "9c7ccdd3-7a65-4e4e-8779-85cab97819c8",
   "metadata": {},
   "outputs": [
    {
     "data": {
      "text/plain": [
       "ObjectApiResponse({'took': 229, 'timed_out': False, '_shards': {'total': 1, 'successful': 1, 'skipped': 0, 'failed': 0}, 'hits': {'total': {'value': 1, 'relation': 'eq'}, 'max_score': 0.0, 'hits': [{'_index': 'movie_release_v1', '_id': 'BZIUNJUBt1DDIhktinXI', '_score': 0.0, '_source': {'name': 'Star Wars: A New Hope', 'anos': [1977, 1997, 2012]}}]}})"
      ]
     },
     "execution_count": 152,
     "metadata": {},
     "output_type": "execute_result"
    }
   ],
   "source": [
    "body = {\n",
    "    \"bool\":{\n",
    "        \"filter\":{\n",
    "            \"script\":{\n",
    "                \"script\":{\n",
    "                    \"source\":\"\"\"\n",
    "                    if (doc['anos'].size() > 1){\n",
    "                     return doc['anos'].get(1) < params.ano\n",
    "                    }\n",
    "                    else{\n",
    "                        return false\n",
    "                    }\n",
    "                   \n",
    "                    \"\"\",\n",
    "                    \"params\":{\n",
    "                        \"ano\":2000\n",
    "                    }\n",
    "                }\n",
    "            }\n",
    "        }\n",
    "    }\n",
    "}\n",
    "\n",
    "client.search(\n",
    "    index=index_release,\n",
    "    query=body\n",
    ")\n"
   ]
  },
  {
   "cell_type": "code",
   "execution_count": 155,
   "id": "4888bbf9-ffbb-4b90-8c87-1694b40bbfc5",
   "metadata": {},
   "outputs": [
    {
     "data": {
      "text/plain": [
       "ObjectApiResponse({'took': 2, 'timed_out': False, '_shards': {'total': 1, 'successful': 1, 'skipped': 0, 'failed': 0}, 'hits': {'total': {'value': 1, 'relation': 'eq'}, 'max_score': 0.0, 'hits': [{'_index': 'movie_release_v1', '_id': 'BZIUNJUBt1DDIhktinXI', '_score': 0.0, '_source': {'name': 'Star Wars: A New Hope', 'anos': [1977, 1997, 2012]}}]}})"
      ]
     },
     "execution_count": 155,
     "metadata": {},
     "output_type": "execute_result"
    }
   ],
   "source": [
    "body = {\n",
    "    \"bool\":{\n",
    "        \"filter\":{\n",
    "            \"script\":{\n",
    "                \"script\":{\n",
    "                    \"source\":\"\"\"\n",
    "                    if (doc['anos'].size() > 1){\n",
    "                     return (doc['anos'].get(0) > params.ano_1 && doc['anos'].get(1) < params.ano_2)\n",
    "                    }\n",
    "                    else{\n",
    "                        return false\n",
    "                    }\n",
    "                   \n",
    "                    \"\"\",\n",
    "                    \"params\":{\n",
    "                        \"ano_1\":1900,\n",
    "                        \"ano_2\":2000\n",
    "                    }\n",
    "                }\n",
    "            }\n",
    "        }\n",
    "    }\n",
    "}\n",
    "\n",
    "client.search(\n",
    "    index=index_release,\n",
    "    query=body\n",
    ")\n"
   ]
  },
  {
   "cell_type": "markdown",
   "id": "6e2f7812",
   "metadata": {},
   "source": [
    "Pesquisando por vetores criados por LLMs\n",
    "\n",
    "\n",
    "\n",
    "\n",
    "[dense-vector](https://www.elastic.co/guide/en/elasticsearch/reference/current/dense-vector.html)\n",
    "\n",
    "[vector-similarity](https://www.elastic.co/search-labs/blog/vector-similarity-techniques-and-scoring)"
   ]
  },
  {
   "cell_type": "code",
   "execution_count": 156,
   "id": "d75907c9-ca1e-4d0f-be66-82188c3078f7",
   "metadata": {},
   "outputs": [],
   "source": [
    "from sentence_transformers import SentenceTransformer\n",
    "model_name = 'sentence-transformers/all-MiniLM-L6-v2' # https://huggingface.co/models?pipeline_tag=sentence-similarity&sort=trending\n",
    "model = SentenceTransformer(model_name)"
   ]
  },
  {
   "cell_type": "code",
   "execution_count": 157,
   "id": "0738d45a-0489-4ad9-8c25-53147c4a8a28",
   "metadata": {},
   "outputs": [],
   "source": [
    "sentences = levanta_anda['letra'].split(\"\\n\")\n",
    "\n",
    "vector_denses = [{\"sentence\":sentence,\"vector_sentence\":model.encode(sentence)} for sentence in sentences]\n"
   ]
  },
  {
   "cell_type": "code",
   "execution_count": 159,
   "id": "aa266a65-a729-4cf3-b85a-cc4431fd0727",
   "metadata": {},
   "outputs": [
    {
     "data": {
      "text/plain": [
       "384"
      ]
     },
     "execution_count": 159,
     "metadata": {},
     "output_type": "execute_result"
    }
   ],
   "source": [
    "len(vector_denses[0]['vector_sentence'])"
   ]
  },
  {
   "cell_type": "markdown",
   "id": "6443fa7e",
   "metadata": {},
   "source": [
    "#### Mapping the index to allow similarity"
   ]
  },
  {
   "cell_type": "code",
   "execution_count": 160,
   "id": "40dc18d4",
   "metadata": {},
   "outputs": [],
   "source": [
    "INDEX_LETRA_DENSE = 'letras_dense'"
   ]
  },
  {
   "cell_type": "code",
   "execution_count": 166,
   "id": "fb5b8ced-789d-491a-8cff-c1e1e0dd58d9",
   "metadata": {},
   "outputs": [],
   "source": [
    "mappings = {\n",
    "    \"properties\":{\n",
    "        \"vector_sentence\":{\n",
    "            \"type\":\"dense_vector\",\n",
    "            \"dims\":384,\n",
    "            \"similarity\":\"cosine\",\n",
    "            \"index\":True\n",
    "        },\n",
    "        \"sentence\":{\n",
    "            \"type\":\"text\"\n",
    "        }\n",
    "    }\n",
    "}"
   ]
  },
  {
   "cell_type": "code",
   "execution_count": 167,
   "id": "e33c5b03-c6c4-4388-b367-91321180b37f",
   "metadata": {},
   "outputs": [
    {
     "data": {
      "text/plain": [
       "ObjectApiResponse({'acknowledged': True, 'shards_acknowledged': True, 'index': 'letras_dense'})"
      ]
     },
     "execution_count": 167,
     "metadata": {},
     "output_type": "execute_result"
    }
   ],
   "source": [
    "if client.indices.exists(index=INDEX_LETRA_DENSE):\n",
    "    client.indices.delete(index=INDEX_LETRA_DENSE)\n",
    "client.indices.create(index=INDEX_LETRA_DENSE, body={\"mappings\":mappings})"
   ]
  },
  {
   "cell_type": "code",
   "execution_count": 168,
   "id": "3979bd42-d23f-43c4-85e6-92af46164732",
   "metadata": {},
   "outputs": [],
   "source": [
    "for sentence_dense in vector_denses:\n",
    "    client.index(index=INDEX_LETRA_DENSE, body=sentence_dense)"
   ]
  },
  {
   "cell_type": "code",
   "execution_count": 197,
   "id": "66a9eced-7295-4b5d-b4fc-429e0f070815",
   "metadata": {},
   "outputs": [],
   "source": [
    "vector_pesquisa = model.encode(\"A mãe assumi, o pai desaparece, usual\")"
   ]
  },
  {
   "cell_type": "code",
   "execution_count": 198,
   "id": "f54384a4",
   "metadata": {},
   "outputs": [
    {
     "data": {
      "text/plain": [
       "ObjectApiResponse({'took': 17, 'timed_out': False, '_shards': {'total': 1, 'successful': 1, 'skipped': 0, 'failed': 0}, 'hits': {'total': {'value': 72, 'relation': 'eq'}, 'max_score': 1.69424, 'hits': [{'_index': 'letras_dense', '_id': 'OZIkNJUBt1DDIhktW3UX', '_score': 1.69424, '_source': {'sentence': 'A mãe assume, o pai some, de costume'}}, {'_index': 'letras_dense', '_id': 'NZIkNJUBt1DDIhktWnV8', '_score': 1.5780063, '_source': {'sentence': 'Com a alma cheia de mágoa e as panela vazia'}}, {'_index': 'letras_dense', '_id': 'L5IkNJUBt1DDIhktWXWn', '_score': 1.5380613, '_source': {'sentence': 'Delírio é'}}, {'_index': 'letras_dense', '_id': 'FZIkNJUBt1DDIhktVXWB', '_score': 1.5334877, '_source': {'sentence': 'Tamo construindo, suponho, não, creio, meto a mão'}}, {'_index': 'letras_dense', '_id': 'EJIkNJUBt1DDIhktVHXh', '_score': 1.5240264, '_source': {'sentence': 'Colhi sorrisos e falei: Vamos'}}, {'_index': 'letras_dense', '_id': 'CZIkNJUBt1DDIhktVHUb', '_score': 1.5156573, '_source': {'sentence': 'Eu, homem da casa aos seis anos'}}, {'_index': 'letras_dense', '_id': 'HJIkNJUBt1DDIhktVnV4', '_score': 1.5129019, '_source': {'sentence': 'Então levanta e anda'}}, {'_index': 'letras_dense', '_id': 'QpIkNJUBt1DDIhktXHVN', '_score': 1.5129019, '_source': {'sentence': 'Então levanta e anda'}}, {'_index': 'letras_dense', '_id': 'R5IkNJUBt1DDIhktXXUv', '_score': 1.5129019, '_source': {'sentence': 'Então levanta e anda'}}, {'_index': 'letras_dense', '_id': 'TZIkNJUBt1DDIhktXXX_', '_score': 1.5125458, '_source': {'sentence': 'Nos basta só'}}]}})"
      ]
     },
     "execution_count": 198,
     "metadata": {},
     "output_type": "execute_result"
    }
   ],
   "source": [
    "body = {\n",
    "    \"_source\":['sentence'],\n",
    "  \"query\": {\n",
    "    \"script_score\": {\n",
    "      \"query\": {\n",
    "        \"match_all\": {}\n",
    "      },\n",
    "      \"script\": {\n",
    "        \"source\": \"cosineSimilarity(params.query_vector, 'vector_sentence') + 1.0\",\n",
    "        \"params\": {\n",
    "          \"query_vector\": vector_pesquisa\n",
    "        }\n",
    "      }\n",
    "    }\n",
    "  },\n",
    "  \"size\": 10 \n",
    "}\n",
    "\n",
    "client.search(\n",
    "    index=INDEX_LETRA_DENSE,\n",
    "    body=body\n",
    ")"
   ]
  },
  {
   "cell_type": "code",
   "execution_count": 199,
   "id": "e9b9df34-a38f-4ed0-9cb9-f9dcd8aa4a3e",
   "metadata": {},
   "outputs": [
    {
     "data": {
      "text/plain": [
       "ObjectApiResponse({'took': 22, 'timed_out': False, '_shards': {'total': 1, 'successful': 1, 'skipped': 0, 'failed': 0}, 'hits': {'total': {'value': 3, 'relation': 'eq'}, 'max_score': 0.84712005, 'hits': [{'_index': 'letras_dense', '_id': 'OZIkNJUBt1DDIhktW3UX', '_score': 0.84712005, '_source': {'sentence': 'A mãe assume, o pai some, de costume'}}, {'_index': 'letras_dense', '_id': 'NZIkNJUBt1DDIhktWnV8', '_score': 0.78900325, '_source': {'sentence': 'Com a alma cheia de mágoa e as panela vazia'}}, {'_index': 'letras_dense', '_id': 'L5IkNJUBt1DDIhktWXWn', '_score': 0.7690307, '_source': {'sentence': 'Delírio é'}}]}})"
      ]
     },
     "execution_count": 199,
     "metadata": {},
     "output_type": "execute_result"
    }
   ],
   "source": [
    "body = {\n",
    "     \"_source\":['sentence'],\n",
    "    \"knn\":{\n",
    "       \"field\":\"vector_sentence\",\n",
    "       \"query_vector\":vector_pesquisa,\n",
    "       \"k\":3,\n",
    "       \"num_candidates\":100\n",
    "\n",
    "    }\n",
    "    \n",
    "}\n",
    "\n",
    "client.search(\n",
    "    index=INDEX_LETRA_DENSE,\n",
    "    body=body\n",
    ")\n"
   ]
  },
  {
   "cell_type": "code",
   "execution_count": null,
   "id": "0a963e09",
   "metadata": {},
   "outputs": [],
   "source": []
  }
 ],
 "metadata": {
  "kernelspec": {
   "display_name": "Python 3",
   "language": "python",
   "name": "python3"
  },
  "language_info": {
   "codemirror_mode": {
    "name": "ipython",
    "version": 3
   },
   "file_extension": ".py",
   "mimetype": "text/x-python",
   "name": "python",
   "nbconvert_exporter": "python",
   "pygments_lexer": "ipython3",
   "version": "3.12.0"
  }
 },
 "nbformat": 4,
 "nbformat_minor": 5
}
