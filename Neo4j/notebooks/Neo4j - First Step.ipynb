{
 "cells": [
  {
   "cell_type": "markdown",
   "id": "1b7e1a2f-d1e1-46f7-be09-da9348ecf0dd",
   "metadata": {},
   "source": [
    "## Neo4j - CRUD\n",
    "\n",
    "\n",
    "In this notebook, we will explore Neo4j python low and high level.\n",
    "\n",
    "Links to documentation:\n",
    "\n",
    "[neo4j](https://neo4j.com/docs/python-manual/current/)\n",
    "    \n",
    "[cypher language (neo4j)](https://neo4j.com/docs/cypher-manual/current/queries/basic/?utm_source=GSearch&utm_medium=PaidSearch&utm_campaign=Evergreen&utm_content=AMS-Search-SEMCE-DSA-None-SEM-SEM-NonABM&utm_term=&utm_adgroup=DSA&gad_source=1&gclid=CjwKCAiAzba9BhBhEiwA7glbaqQWKR6jY5YgSYtbJyZoZZP4kzOuxEXhyOGFnWbSqF-LdfLA1s3r1RoCMUAQAvD_BwE)\n",
    "\n",
    "[py2neo](https://neo4j-contrib.github.io/py2neo/)"
   ]
  },
  {
   "cell_type": "code",
   "execution_count": 1,
   "id": "91ff59ea-87bd-4043-a66a-f7dbc8ceb6bd",
   "metadata": {},
   "outputs": [],
   "source": [
    "from neo4j import GraphDatabase\n",
    "from py2neo import Graph, Node, Relationship,NodeMatcher, RelationshipMatcher\n",
    "from py2neo.ogm import Model, Property, RelatedTo, RelatedFrom,GraphObject,RelatedObjects"
   ]
  },
  {
   "cell_type": "code",
   "execution_count": 2,
   "id": "3dcd3842-5845-415f-ac83-9bd230b44074",
   "metadata": {},
   "outputs": [],
   "source": [
    "URI = \"bolt://192.168.0.17:7687\" \n",
    "USERNAME = 'neo4j'\n",
    "PASSWORD = 'changeme'\n",
    "AUTH = (USERNAME,PASSWORD) "
   ]
  },
  {
   "cell_type": "code",
   "execution_count": 3,
   "id": "26672ffa-9226-4e95-b607-af2778cff58a",
   "metadata": {},
   "outputs": [],
   "source": [
    "\n",
    "driver_low_level = GraphDatabase.driver(URI, auth=AUTH)\n",
    "driver_high_level = Graph(URI, auth=AUTH)"
   ]
  },
  {
   "cell_type": "code",
   "execution_count": null,
   "id": "a81dbc9f-d9b2-43d7-a725-e338b66bc399",
   "metadata": {},
   "outputs": [],
   "source": [
    "\n",
    "driver_low_level.verify_connectivity()"
   ]
  },
  {
   "cell_type": "markdown",
   "id": "fe628767-ae3a-46a0-8704-9292aea2775a",
   "metadata": {},
   "source": [
    "## First step - Write"
   ]
  },
  {
   "cell_type": "code",
   "execution_count": null,
   "id": "aeeb9917-80e7-4f68-a73f-4e1bbb394cf5",
   "metadata": {},
   "outputs": [],
   "source": [
    "with driver_low_level.session() as session:\n",
    "    result = session.run(\"MATCH (p:Person) DETACH DELETE p\")"
   ]
  },
  {
   "cell_type": "code",
   "execution_count": null,
   "id": "df2c7879",
   "metadata": {},
   "outputs": [],
   "source": [
    "query =  \"CREATE (p:Person {age: $age, name:$name}) RETURN p\"\n",
    "parameters = {\n",
    "    \"age\":42,\n",
    "    \"name\":\"Ana\"\n",
    "}\n",
    "\n",
    "with driver_low_level.session() as session:\n",
    "    result = session.run(query, parameters)"
   ]
  },
  {
   "cell_type": "code",
   "execution_count": null,
   "id": "59879494",
   "metadata": {},
   "outputs": [],
   "source": [
    "query =  \"MATCH (p:Person) WHERE p.name = $name RETURN p\"\n",
    "parameters = {\"name\":\"Ana\"}\n",
    "with driver_low_level.session() as session:\n",
    "    result = session.run(query, parameters)\n",
    "    result_execute = [record for record in result]\n",
    "    print(f\"{result_execute}\")"
   ]
  },
  {
   "cell_type": "code",
   "execution_count": null,
   "id": "ced41a53-1491-4d5f-a00b-3283b99e546c",
   "metadata": {},
   "outputs": [],
   "source": [
    "query =  \"\"\"\n",
    "    CREATE (parent:Person {age: $father_age, name:$father_name})\n",
    "    CREATE (child:Person {name: $child_name, age: $child_age})\n",
    "    MERGE (parent)-[connect:PARENT_OF {type: $type_parent}]->(child)\n",
    "    RETURN parent, child, connect\n",
    "\"\"\"\n",
    "parameters = {\n",
    "    \"father_age\":42,\n",
    "    \"father_name\":\"João\",\n",
    "    \"child_age\":10,\n",
    "    \"child_name\":\"Joãozinho\",\n",
    "    \"type_parent\":\"father-son\"\n",
    "}\n",
    "with driver_low_level.session() as session:\n",
    "    result = session.run(query, parameters)\n",
    "    result_execute = [record for record in result]\n",
    "    print(f\"{result_execute}\")"
   ]
  },
  {
   "cell_type": "code",
   "execution_count": null,
   "id": "81e96401",
   "metadata": {},
   "outputs": [],
   "source": [
    "query =  \"\"\"\n",
    "    MERGE (parent:Person {age: $mother_age, name:$mother_name})\n",
    "    MERGE (child:Person {name: $child_name, age: $child_age})\n",
    "    MERGE (parent)-[connect:PARENT_OF {type: $type_parent}]->(child)\n",
    "    RETURN parent, child,connect\n",
    "\"\"\"\n",
    "\n",
    "parameters = {\n",
    "    \"mother_age\":42,\n",
    "    \"mother_name\":\"Maria\",\n",
    "    \"child_age\":10,\n",
    "    \"child_name\":\"Joãozinho\",\n",
    "    \"type_parent\":\"mother-son\"\n",
    "}\n",
    "\n",
    "with driver_low_level.session() as session:\n",
    "    result = session.run(query, parameters)\n",
    "    result_execute = [record for record in result]\n",
    "    print(result_execute)"
   ]
  },
  {
   "cell_type": "code",
   "execution_count": null,
   "id": "140d502e-4cd0-4272-bef9-4661a924a9b2",
   "metadata": {},
   "outputs": [],
   "source": [
    "query =  \"\"\"\n",
    "    MATCH (i:Person)-[:PARENT_OF]-(child:Person {name:$name})\n",
    "    RETURN i\n",
    "\"\"\"\n",
    "\n",
    "parameters = {\n",
    "    \"name\":\"Joãozinho\",\n",
    "}\n",
    "\n",
    "with driver_low_level.session() as session:\n",
    "    result = session.run(query, parameters)\n",
    "    result_execute = [record for record in result]\n",
    "    print(result_execute)"
   ]
  },
  {
   "cell_type": "code",
   "execution_count": null,
   "id": "30d02e7d-30f4-4c27-a285-1d794b6a5b12",
   "metadata": {},
   "outputs": [],
   "source": [
    "with driver_low_level.session() as session:\n",
    "    result = session.run(\"MATCH (p:Movie) DETACH DELETE p\")"
   ]
  },
  {
   "cell_type": "code",
   "execution_count": null,
   "id": "0fbd43cf-6e61-4aa2-8842-dc7da2938a54",
   "metadata": {},
   "outputs": [],
   "source": [
    "\n",
    "class Movie(Model):\n",
    "    title = Property()\n",
    "    tagline = Property()\n",
    "    released = Property()\n"
   ]
  },
  {
   "cell_type": "code",
   "execution_count": null,
   "id": "3fdd2603-6b37-4097-a620-61645474c760",
   "metadata": {},
   "outputs": [],
   "source": [
    "ace_ventura = Movie(title='ace ventura',tagline='comedia',released=1996)"
   ]
  },
  {
   "cell_type": "code",
   "execution_count": null,
   "id": "23ed97d5-c12d-459b-89c1-26e4c028e2b5",
   "metadata": {},
   "outputs": [],
   "source": [
    "driver_high_level.push(ace_ventura)"
   ]
  },
  {
   "cell_type": "code",
   "execution_count": null,
   "id": "56791d35-3dc0-471e-8a44-a2161f9a34f7",
   "metadata": {},
   "outputs": [],
   "source": [
    "Movie.match(driver_high_level).where(title=\"ace ventura\").first()"
   ]
  },
  {
   "cell_type": "code",
   "execution_count": null,
   "id": "96d7e745-70e3-44a3-80d1-35d01d1ca6ce",
   "metadata": {},
   "outputs": [],
   "source": [
    "Movie.match(driver_high_level).where(title=\"ace ventura\").first().title"
   ]
  },
  {
   "cell_type": "code",
   "execution_count": null,
   "id": "90c2e7b5-8f40-4010-aebb-b04d6818884f",
   "metadata": {},
   "outputs": [],
   "source": [
    "class Artist(Model):\n",
    "    name = Property()\n",
    "    born = Property()\n",
    "    inmovie = RelatedTo(\"Movie\",\"INMOVIE\")"
   ]
  },
  {
   "cell_type": "code",
   "execution_count": null,
   "id": "664354cd-78d5-4c5f-9e41-b8474df936c1",
   "metadata": {},
   "outputs": [],
   "source": [
    "keanu = Artist(name=\"Keanu Reeves\", born=1964)\n",
    "matrix = Movie(title=\"The Matrix\", released=1999, tagline=\"Welcome to the Real World.\")"
   ]
  },
  {
   "cell_type": "code",
   "execution_count": null,
   "id": "2bbda4c2-b5e6-45ba-bfcc-ae5b58280c3f",
   "metadata": {},
   "outputs": [],
   "source": [
    "driver_high_level.push(keanu)\n",
    "driver_high_level.push(matrix)"
   ]
  },
  {
   "cell_type": "code",
   "execution_count": null,
   "id": "f93da400-149f-4149-8a2e-8409b3b74277",
   "metadata": {},
   "outputs": [],
   "source": [
    "keanu.inmovie.add(matrix,role=\"main_caracter\")"
   ]
  },
  {
   "cell_type": "code",
   "execution_count": null,
   "id": "b7239ec3-d153-4844-9951-ad36444ff6e8",
   "metadata": {},
   "outputs": [],
   "source": [
    "driver_high_level.push(keanu)"
   ]
  },
  {
   "cell_type": "code",
   "execution_count": null,
   "id": "8e476c93-eef2-4ae3-bb47-f07ce93d8bd0",
   "metadata": {},
   "outputs": [],
   "source": [
    "keanu_return = Artist.match(driver_high_level).where(name=\"Keanu Reeves\").first()"
   ]
  },
  {
   "cell_type": "code",
   "execution_count": null,
   "id": "8357e149-0b91-4a5a-b229-966b64c60a79",
   "metadata": {},
   "outputs": [],
   "source": [
    "keanu_return.inmovie.relationship_type"
   ]
  },
  {
   "cell_type": "code",
   "execution_count": null,
   "id": "024783de-32a9-4118-8c9a-59942be88af4",
   "metadata": {},
   "outputs": [],
   "source": [
    "keanu_return.inmovie.related_class"
   ]
  },
  {
   "cell_type": "code",
   "execution_count": null,
   "id": "b8e1c826-67e4-4f22-a302-ebb11e076430",
   "metadata": {},
   "outputs": [],
   "source": [
    "keanu_return.inmovie.node"
   ]
  },
  {
   "cell_type": "markdown",
   "id": "924ea724-3c84-47e5-b91b-35b053fd9b18",
   "metadata": {},
   "source": [
    "## Second step - Read/Search"
   ]
  },
  {
   "cell_type": "code",
   "execution_count": null,
   "id": "850c8b0e-92b0-4dc9-a04a-73b46c9819b5",
   "metadata": {},
   "outputs": [],
   "source": [
    "query =  \"\"\"\n",
    "    MATCH (i:Person)-[j:PARENT_OF]-(child:Person {name:$name})\n",
    "    RETURN i,j\n",
    "\"\"\"\n",
    "\n",
    "parameters = {\n",
    "    \"name\":\"Joãozinho\",\n",
    "}\n",
    "\n",
    "with driver_low_level.session() as session:\n",
    "    result = session.run(query, parameters)\n",
    "    result_execute = [record for record in result]\n",
    "    print(f\"Len {len(result_execute)}\")\n",
    "    print(result_execute[0])\n",
    "    print(\"==============\")\n",
    "    print(result_execute[1])"
   ]
  },
  {
   "cell_type": "code",
   "execution_count": null,
   "id": "420a1af3-ffce-484c-95a8-aaacd1f29e69",
   "metadata": {},
   "outputs": [],
   "source": [
    "query =  \"\"\"\n",
    "    MATCH (i:Person)-[j:PARENT_OF]-(child:Person)\n",
    "    WHERE child.name = $name AND i.name = $iname\n",
    "    RETURN i,j\n",
    "\"\"\"\n",
    "\n",
    "parameters = {\n",
    "    \"name\":\"Joãozinho\",\n",
    "    \"iname\":\"João\"\n",
    "}\n",
    "\n",
    "with driver_low_level.session() as session:\n",
    "    result = session.run(query, parameters)\n",
    "    result_execute = [record for record in result]\n",
    "    print(f'Len {len(result_execute)}')\n",
    "    print(result_execute[0])"
   ]
  },
  {
   "cell_type": "code",
   "execution_count": null,
   "id": "d1fde3a3-bd6d-4aea-906d-43d5aef6e6e7",
   "metadata": {},
   "outputs": [],
   "source": [
    "query =  \"\"\"\n",
    "    MATCH (i:Person)-[j:PARENT_OF]-(child:Person)\n",
    "    WHERE j.type = 'mother-son'\n",
    "    RETURN i,j,child\n",
    "\"\"\"\n",
    "\n",
    "parameters = {\n",
    "    \"name\":\"Joãozinho\",\n",
    "    \"iname\":\"João\"\n",
    "}\n",
    "\n",
    "with driver_low_level.session() as session:\n",
    "    result = session.run(query, parameters)\n",
    "    result_execute = [record for record in result]\n",
    "    print(f'Len {len(result_execute)}')\n",
    "    print(result_execute[0])"
   ]
  },
  {
   "cell_type": "code",
   "execution_count": null,
   "id": "06e6a0e4-a963-4f71-939c-93f4f1b83157",
   "metadata": {},
   "outputs": [],
   "source": [
    "query =  \"\"\"\n",
    "    MATCH (i:Person)-[j:PARENT_OF]-(child:Person)\n",
    "    WHERE ((j.type = 'mother-son') OR (j.type = 'father-son'))\n",
    "    RETURN i,j,child\n",
    "\"\"\"\n",
    "\n",
    "parameters = {\n",
    "    \"name\":\"Joãozinho\",\n",
    "    \"iname\":\"João\"\n",
    "}\n",
    "\n",
    "with driver_low_level.session() as session:\n",
    "    result = session.run(query, parameters)\n",
    "    result_execute = [record for record in result]\n",
    "    print(f'Len {len(result_execute)}')\n",
    "    print(result_execute[0])"
   ]
  },
  {
   "cell_type": "code",
   "execution_count": null,
   "id": "002a5b8a-383c-4c8b-8554-345d7dfd24c9",
   "metadata": {},
   "outputs": [],
   "source": [
    "Artist.match(driver_high_level).where(name=\"Keanu Reeves\").first()"
   ]
  },
  {
   "cell_type": "code",
   "execution_count": null,
   "id": "7c0f16e9-378a-40c6-a709-b4e674dd3591",
   "metadata": {},
   "outputs": [],
   "source": [
    "node_matcher = NodeMatcher(driver_high_level)\n",
    "rel_matcher = RelationshipMatcher(driver_high_level)"
   ]
  },
  {
   "cell_type": "code",
   "execution_count": null,
   "id": "eb919357-1ce2-4baa-bcf2-e707125a6b92",
   "metadata": {},
   "outputs": [],
   "source": [
    "keanu = node_matcher.match(\"Artist\", name=\"Keanu Reeves\").first()\n",
    "movie_rel = rel_matcher.match(r_type=\"INMOVIE\").first()"
   ]
  },
  {
   "cell_type": "code",
   "execution_count": null,
   "id": "86007764-0d64-4677-8dfa-89d410cca0da",
   "metadata": {},
   "outputs": [],
   "source": [
    "movie_rel"
   ]
  },
  {
   "cell_type": "code",
   "execution_count": null,
   "id": "2acbafac-c36f-4d12-b0c5-df5d5d61cacc",
   "metadata": {},
   "outputs": [],
   "source": [
    "rel_matcher.match(r_type=\"PARENT_OF\",type = 'mother-son').first()"
   ]
  },
  {
   "cell_type": "markdown",
   "id": "8d381438-cfc8-43f9-bf29-dc0e91ade9b1",
   "metadata": {},
   "source": [
    "## Third Step - Update"
   ]
  },
  {
   "cell_type": "code",
   "execution_count": null,
   "id": "7d4a6602-6ed1-43dd-988d-6f8ff00c876c",
   "metadata": {},
   "outputs": [],
   "source": [
    "query =  \"\"\"\n",
    "    MATCH (parent:Person)\n",
    "    WHERE parent.name = $name\n",
    "    SET parent.age = $age\n",
    "    SET parent.is_death = False\n",
    "    RETURN parent\n",
    "\"\"\"\n",
    "parameters = {\n",
    "    \"age\":42,\n",
    "    \"name\":\"João\",\n",
    "}\n",
    "with driver_low_level.session() as session:\n",
    "    result = session.run(query, parameters)\n",
    "    result_execute = [record for record in result]\n",
    "    print(f\"{result_execute}\")"
   ]
  },
  {
   "cell_type": "code",
   "execution_count": null,
   "id": "31ecda0f-6484-4da0-b3c0-cd3b1e7a5ece",
   "metadata": {},
   "outputs": [],
   "source": [
    "query =  \"\"\"\n",
    "    MATCH (parent:Person)\n",
    "    WHERE parent.name = $name\n",
    "    RETURN parent\n",
    "\"\"\"\n",
    "parameters = {\n",
    "    \"name\":\"João\",\n",
    "}\n",
    "with driver_low_level.session() as session:\n",
    "    result = session.run(query, parameters)\n",
    "    result_execute = [record for record in result]\n",
    "    print(f\"{result_execute}\")"
   ]
  },
  {
   "cell_type": "code",
   "execution_count": null,
   "id": "2dcad6d0-a06a-4f98-9ded-5985d9708bbf",
   "metadata": {},
   "outputs": [],
   "source": [
    "query =  \"\"\"\n",
    "    MATCH (parent:Person)-[]-(i:Person)-[]-(parent2:Person)\n",
    "    WHERE parent.name = $name AND parent.age = $age\n",
    "    SET parent2.is_rela_joao = True\n",
    "    RETURN parent2\n",
    "\"\"\"\n",
    "parameters = {\n",
    "    \"age\":42,\n",
    "    \"name\":\"João\",\n",
    "}\n",
    "with driver_low_level.session() as session:\n",
    "    result = session.run(query, parameters)\n",
    "    result_execute = [record for record in result]\n",
    "    print(f\"{result_execute}\")"
   ]
  },
  {
   "cell_type": "markdown",
   "id": "185e6dda-993c-4686-9fd1-7950adef6455",
   "metadata": {},
   "source": [
    "## Fourth Step - Delete"
   ]
  },
  {
   "cell_type": "markdown",
   "id": "4eb99277-b09a-4081-a636-25ea31c67035",
   "metadata": {},
   "source": [
    "## Fifth Step - Extra search"
   ]
  },
  {
   "cell_type": "code",
   "execution_count": 5,
   "id": "2ca27e4c-2abf-4c44-9e6a-8e2e15ed56e5",
   "metadata": {},
   "outputs": [],
   "source": [
    "import pandas as pd"
   ]
  },
  {
   "cell_type": "code",
   "execution_count": 6,
   "id": "2cd7dd5b-5894-4625-b7f5-30f27686106b",
   "metadata": {},
   "outputs": [],
   "source": [
    "df_city = pd.read_csv('../data/city_table.csv')\n",
    "df_people = pd.read_csv('../data/people_table.csv')\n",
    "df_family = pd.read_csv('../data/family_table.csv')"
   ]
  },
  {
   "cell_type": "code",
   "execution_count": 7,
   "id": "fcdb45d4-c8ea-44d7-9778-4efe614e206a",
   "metadata": {},
   "outputs": [
    {
     "name": "stderr",
     "output_type": "stream",
     "text": [
      "C:\\Users\\spguilhermem\\AppData\\Local\\Temp\\ipykernel_24608\\213221550.py:52: DeprecationWarning: write_transaction has been renamed to execute_write\n",
      "  session.write_transaction(create_constrainx)\n"
     ]
    },
    {
     "name": "stdout",
     "output_type": "stream",
     "text": [
      "Add city\n"
     ]
    },
    {
     "name": "stderr",
     "output_type": "stream",
     "text": [
      "C:\\Users\\spguilhermem\\AppData\\Local\\Temp\\ipykernel_24608\\213221550.py:55: DeprecationWarning: write_transaction has been renamed to execute_write\n",
      "  session.write_transaction(insert_city, row)\n"
     ]
    },
    {
     "name": "stdout",
     "output_type": "stream",
     "text": [
      "Add family\n"
     ]
    },
    {
     "name": "stderr",
     "output_type": "stream",
     "text": [
      "C:\\Users\\spguilhermem\\AppData\\Local\\Temp\\ipykernel_24608\\213221550.py:58: DeprecationWarning: write_transaction has been renamed to execute_write\n",
      "  session.write_transaction(insert_family, row)\n"
     ]
    },
    {
     "name": "stdout",
     "output_type": "stream",
     "text": [
      "Add people\n"
     ]
    },
    {
     "name": "stderr",
     "output_type": "stream",
     "text": [
      "C:\\Users\\spguilhermem\\AppData\\Local\\Temp\\ipykernel_24608\\213221550.py:61: DeprecationWarning: write_transaction has been renamed to execute_write\n",
      "  session.write_transaction(insert_person, row)\n"
     ]
    }
   ],
   "source": [
    "def create_constrainx(tx):\n",
    "    query = \"\"\"\n",
    "    CREATE CONSTRAINT unique_city_id IF NOT EXISTS \n",
    "    FOR (c:City) REQUIRE c.city_id IS UNIQUE;\n",
    "    \"\"\"\n",
    "    tx.run(query)\n",
    "\n",
    "def insert_city(tx, row):\n",
    "    query = \"\"\"\n",
    "    MERGE (c:City {city_id: $city_id})\n",
    "    SET c.name = $name_of_city, c.population = $population_city, c.is_capital = $is_capital\n",
    "    \"\"\"\n",
    "    tx.run(query, \n",
    "           city_id=row[\"city_id\"], \n",
    "           name_of_city=row[\"name_of_city\"], \n",
    "           population_city=row[\"population_city\"], \n",
    "           is_capital=row[\"is_capital\"])\n",
    "\n",
    "\n",
    "def insert_family(tx, row):\n",
    "    query = \"\"\"\n",
    "    MERGE (f:Family {family_id: $family_id})\n",
    "    SET f.name = $family_name, f.origin_country = $origin_country\n",
    "    \"\"\"\n",
    "    tx.run(query, \n",
    "           family_id=row[\"family_id\"], \n",
    "           family_name=row[\"family_name\"], \n",
    "           origin_country=row[\"origin_country\"])\n",
    "\n",
    "\n",
    "def insert_person(tx, row):\n",
    "    query = \"\"\"\n",
    "    MERGE (p:Person {people_id: $people_id})\n",
    "    SET p.name = $name\n",
    "    \n",
    "    WITH p\n",
    "    MATCH (c:City {city_id: $city_id})\n",
    "    MERGE (p)-[:LIVES_IN]->(c)\n",
    "    \n",
    "    WITH p\n",
    "    MATCH (f:Family {family_id: $family_id})\n",
    "    MERGE (p)-[:BELONGS_TO]->(f)\n",
    "    \"\"\"\n",
    "    tx.run(query, \n",
    "           people_id=row[\"people_id\"], \n",
    "           name=row[\"name\"], \n",
    "           city_id=row[\"city_id\"], \n",
    "           family_id=row[\"family_id\"])\n",
    "\n",
    "\n",
    "with driver_low_level.session() as session:\n",
    "    session.write_transaction(create_constrainx)\n",
    "    print(\"Add city\")\n",
    "    for _, row in df_city.iterrows():\n",
    "        session.write_transaction(insert_city, row)\n",
    "    print(\"Add family\")\n",
    "    for _, row in df_family.iterrows():\n",
    "        session.write_transaction(insert_family, row)\n",
    "    print(\"Add people\")\n",
    "    for _, row in df_people.iterrows():\n",
    "        session.write_transaction(insert_person, row)\n"
   ]
  },
  {
   "cell_type": "code",
   "execution_count": null,
   "id": "6d43ae9a-3f33-4213-abda-a5427f39be4d",
   "metadata": {},
   "outputs": [],
   "source": [
    "def create_project(tx):\n",
    "    query = \"\"\"\n",
    "    CALL gds.graph.project(\n",
    "        'communityGraph',  // Name of the in-memory graph\n",
    "        ['Person', 'City', 'Family'],  // Nodes to include\n",
    "        {LIVES_IN: {}, BELONGS_TO: {}}  // Relationships to include\n",
    "    );\n",
    "    \"\"\"\n",
    "    tx.run(query)\n",
    "\n",
    "\n",
    "def louvain(tx):\n",
    "    query = \"\"\"\n",
    "    CALL gds.louvain.write(\n",
    "        'communityGraph',  // Use the projected graph\n",
    "        {writeProperty: 'communityId'}\n",
    "    );\n",
    "    \"\"\"\n",
    "    tx.run(query)"
   ]
  }
 ],
 "metadata": {
  "kernelspec": {
   "display_name": "Python 3",
   "language": "python",
   "name": "python3"
  },
  "language_info": {
   "codemirror_mode": {
    "name": "ipython",
    "version": 3
   },
   "file_extension": ".py",
   "mimetype": "text/x-python",
   "name": "python",
   "nbconvert_exporter": "python",
   "pygments_lexer": "ipython3",
   "version": "3.12.0"
  }
 },
 "nbformat": 4,
 "nbformat_minor": 5
}
